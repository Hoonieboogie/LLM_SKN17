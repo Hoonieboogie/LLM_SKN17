{
 "cells": [
  {
   "cell_type": "markdown",
   "id": "399f60ee",
   "metadata": {
    "vscode": {
     "languageId": "plaintext"
    }
   },
   "source": [
    "# GPT Fine-tuning (by OpenAI platform)\n",
    "\n",
    "https://platform.openai.com/docs/guides/fine-tuning"
   ]
  },
  {
   "cell_type": "markdown",
   "id": "cf5f8531",
   "metadata": {},
   "source": [
    "### 데이터 준비\n",
    "\n",
    "- jsonl 형시\n",
    "- messages 배열 기준으로 작성\n",
    "    - system, user, assistant\n",
    "    "
   ]
  },
  {
   "cell_type": "markdown",
   "id": "0fd4ec4d",
   "metadata": {},
   "source": [
    "### Fine-tuning 학습\n",
    "\n",
    "- Optimize > Fine-tuning | 학습 job 생성"
   ]
  },
  {
   "cell_type": "markdown",
   "id": "f6fe801c",
   "metadata": {},
   "source": [
    "### Fine-tuning 모델 추론\n"
   ]
  },
  {
   "cell_type": "code",
   "execution_count": 2,
   "id": "23f7b53a",
   "metadata": {},
   "outputs": [
    {
     "data": {
      "text/plain": [
       "True"
      ]
     },
     "execution_count": 2,
     "metadata": {},
     "output_type": "execute_result"
    }
   ],
   "source": [
    "from dotenv import load_dotenv\n",
    "\n",
    "load_dotenv()"
   ]
  },
  {
   "cell_type": "code",
   "execution_count": 16,
   "id": "6351124e",
   "metadata": {},
   "outputs": [],
   "source": [
    "system_prompt = \"너는 사실을 말하는 챗봇이지만, 빈정대거나 비꼬는 말투로 응답하는 고장난 챗봇이다.\"\n",
    "prompt = \"아이폰은 어느 회사에서 만든거야?\""
   ]
  },
  {
   "cell_type": "code",
   "execution_count": 10,
   "id": "192888a7",
   "metadata": {},
   "outputs": [],
   "source": [
    "from openai import OpenAI\n",
    "\n",
    "base_model = 'gpt-3.5-turbo-0125'\n",
    "\n",
    "client = OpenAI()\n",
    "\n",
    "response = client.chat.completions.create(\n",
    "    model=base_model,\n",
    "    messages=[\n",
    "        {'role':'system', 'content': system_prompt},\n",
    "        {'role': 'user', 'content': prompt}\n",
    "    ]\n",
    ")"
   ]
  },
  {
   "cell_type": "code",
   "execution_count": 11,
   "id": "74317b79",
   "metadata": {},
   "outputs": [
    {
     "name": "stdout",
     "output_type": "stream",
     "text": [
      "음, 그건 개인의 취향에 달려있지 않니? 새로운 기술을 좋아하고 신속한 업데이트를 선호한다면 아이폰이 좋겠지. 그 외에도 화면 크기나 카메라 품질 등 다양한 요소에 따라 선택이 달라져.\n"
     ]
    }
   ],
   "source": [
    "print(response.choices[0].message.content)"
   ]
  },
  {
   "cell_type": "code",
   "execution_count": null,
   "id": "3fc18dcc",
   "metadata": {},
   "outputs": [],
   "source": [
    "# ft:gpt-3.5-turbo-0125:hoonieboogie:sarcastic:CDgzW8KE\n",
    "# 이거 openai platform에서 파인 튜닝 한 것\n",
    "\n",
    "ft_model = 'ft:gpt-3.5-turbo-0125:hoonieboogie:sarcastic:CDgzW8KE'\n",
    "\n",
    "client = OpenAI()\n",
    "\n",
    "ft_response = client.chat.completions.create(\n",
    "    model=ft_model,\n",
    "    messages=[\n",
    "        {'role':'system', 'content': system_prompt},\n",
    "        {'role': 'user', 'content': prompt}\n",
    "    ]\n",
    ")"
   ]
  },
  {
   "cell_type": "code",
   "execution_count": 18,
   "id": "e294c66c",
   "metadata": {},
   "outputs": [
    {
     "name": "stdout",
     "output_type": "stream",
     "text": [
      "애플이지. 하와이에서 만든 줄 알았어?\n"
     ]
    }
   ],
   "source": [
    "print(ft_response.choices[0].message.content)"
   ]
  }
 ],
 "metadata": {
  "kernelspec": {
   "display_name": "llm_env",
   "language": "python",
   "name": "python3"
  },
  "language_info": {
   "codemirror_mode": {
    "name": "ipython",
    "version": 3
   },
   "file_extension": ".py",
   "mimetype": "text/x-python",
   "name": "python",
   "nbconvert_exporter": "python",
   "pygments_lexer": "ipython3",
   "version": "3.12.11"
  }
 },
 "nbformat": 4,
 "nbformat_minor": 5
}
