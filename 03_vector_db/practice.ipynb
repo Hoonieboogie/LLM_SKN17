{
 "cells": [
  {
   "cell_type": "markdown",
   "id": "10fec417",
   "metadata": {},
   "source": [
    "# Vector DB 활용 실습"
   ]
  },
  {
   "cell_type": "markdown",
   "id": "94e16805",
   "metadata": {
    "vscode": {
     "languageId": "plaintext"
    }
   },
   "source": [
    "**주제: @@@ 감성 분석 or 사용자 맞춤 데이터 출력**\n",
    "\n",
    "1. '적절한 크기'의 데이터셋을 구한다\n",
    "2. 한국어 '임베딩'에 적절한 모델을 찾는다.\n",
    "3. Chroma DB, FAISS, Pinecone 중 원하는 벡터 DB를 활용한다.\n",
    "\n"
   ]
  },
  {
   "cell_type": "markdown",
   "id": "a04af9c8",
   "metadata": {},
   "source": [
    "## 1. 데이터 구하기: 크롤링\n",
    "- https://www.encar.com/mocha.do?mnfccd=001&mdlgroupcd=&mdlcd=&year=&mochaYn=&method="
   ]
  },
  {
   "cell_type": "code",
   "execution_count": null,
   "id": "b9f792c2",
   "metadata": {},
   "outputs": [
    {
     "name": "stdout",
     "output_type": "stream",
     "text": [
      "Collecting selenium\n",
      "  Downloading selenium-4.35.0-py3-none-any.whl.metadata (7.4 kB)\n",
      "Requirement already satisfied: urllib3<3.0,>=2.5.0 in c:\\users\\playdata\\anaconda3\\envs\\vectordb_env\\lib\\site-packages (from urllib3[socks]<3.0,>=2.5.0->selenium) (2.5.0)\n",
      "Collecting trio~=0.30.0 (from selenium)\n",
      "  Using cached trio-0.30.0-py3-none-any.whl.metadata (8.5 kB)\n",
      "Collecting trio-websocket~=0.12.2 (from selenium)\n",
      "  Using cached trio_websocket-0.12.2-py3-none-any.whl.metadata (5.1 kB)\n",
      "Requirement already satisfied: certifi>=2025.6.15 in c:\\users\\playdata\\anaconda3\\envs\\vectordb_env\\lib\\site-packages (from selenium) (2025.8.3)\n",
      "Collecting typing_extensions~=4.14.0 (from selenium)\n",
      "  Using cached typing_extensions-4.14.1-py3-none-any.whl.metadata (3.0 kB)\n",
      "Requirement already satisfied: websocket-client~=1.8.0 in c:\\users\\playdata\\anaconda3\\envs\\vectordb_env\\lib\\site-packages (from selenium) (1.8.0)\n",
      "Requirement already satisfied: attrs>=23.2.0 in c:\\users\\playdata\\anaconda3\\envs\\vectordb_env\\lib\\site-packages (from trio~=0.30.0->selenium) (25.3.0)\n",
      "Collecting sortedcontainers (from trio~=0.30.0->selenium)\n",
      "  Using cached sortedcontainers-2.4.0-py2.py3-none-any.whl.metadata (10 kB)\n",
      "Requirement already satisfied: idna in c:\\users\\playdata\\anaconda3\\envs\\vectordb_env\\lib\\site-packages (from trio~=0.30.0->selenium) (3.10)\n",
      "Collecting outcome (from trio~=0.30.0->selenium)\n",
      "  Using cached outcome-1.3.0.post0-py2.py3-none-any.whl.metadata (2.6 kB)\n",
      "Requirement already satisfied: sniffio>=1.3.0 in c:\\users\\playdata\\anaconda3\\envs\\vectordb_env\\lib\\site-packages (from trio~=0.30.0->selenium) (1.3.1)\n",
      "Requirement already satisfied: cffi>=1.14 in c:\\users\\playdata\\anaconda3\\envs\\vectordb_env\\lib\\site-packages (from trio~=0.30.0->selenium) (1.17.1)\n",
      "Requirement already satisfied: exceptiongroup in c:\\users\\playdata\\anaconda3\\envs\\vectordb_env\\lib\\site-packages (from trio~=0.30.0->selenium) (1.3.0)\n",
      "Collecting wsproto>=0.14 (from trio-websocket~=0.12.2->selenium)\n",
      "  Using cached wsproto-1.2.0-py3-none-any.whl.metadata (5.6 kB)\n",
      "Collecting pysocks!=1.5.7,<2.0,>=1.5.6 (from urllib3[socks]<3.0,>=2.5.0->selenium)\n",
      "  Using cached PySocks-1.7.1-py3-none-any.whl.metadata (13 kB)\n",
      "Requirement already satisfied: pycparser in c:\\users\\playdata\\anaconda3\\envs\\vectordb_env\\lib\\site-packages (from cffi>=1.14->trio~=0.30.0->selenium) (2.22)\n",
      "Requirement already satisfied: h11<1,>=0.9.0 in c:\\users\\playdata\\anaconda3\\envs\\vectordb_env\\lib\\site-packages (from wsproto>=0.14->trio-websocket~=0.12.2->selenium) (0.16.0)\n",
      "Downloading selenium-4.35.0-py3-none-any.whl (9.6 MB)\n",
      "   ---------------------------------------- 0.0/9.6 MB ? eta -:--:--\n",
      "   ---------------------------------------- 9.6/9.6 MB 85.7 MB/s  0:00:00\n",
      "Using cached trio-0.30.0-py3-none-any.whl (499 kB)\n",
      "Using cached trio_websocket-0.12.2-py3-none-any.whl (21 kB)\n",
      "Using cached typing_extensions-4.14.1-py3-none-any.whl (43 kB)\n",
      "Using cached PySocks-1.7.1-py3-none-any.whl (16 kB)\n",
      "Using cached outcome-1.3.0.post0-py2.py3-none-any.whl (10 kB)\n",
      "Using cached wsproto-1.2.0-py3-none-any.whl (24 kB)\n",
      "Using cached sortedcontainers-2.4.0-py2.py3-none-any.whl (29 kB)\n",
      "Installing collected packages: sortedcontainers, wsproto, typing_extensions, pysocks, outcome, trio, trio-websocket, selenium\n",
      "\n",
      "  Attempting uninstall: typing_extensions\n",
      "\n",
      "    Found existing installation: typing_extensions 4.15.0\n",
      "\n",
      "    Uninstalling typing_extensions-4.15.0:\n",
      "\n",
      "   ---------- ----------------------------- 2/8 [typing_extensions]\n",
      "   ---------- ----------------------------- 2/8 [typing_extensions]\n",
      "   ---------- ----------------------------- 2/8 [typing_extensions]\n",
      "      Successfully uninstalled typing_extensions-4.15.0\n",
      "   ---------- ----------------------------- 2/8 [typing_extensions]\n",
      "   ---------- ----------------------------- 2/8 [typing_extensions]\n",
      "   ------------------------- -------------- 5/8 [trio]\n",
      "   ------------------------- -------------- 5/8 [trio]\n",
      "   ----------------------------------- ---- 7/8 [selenium]\n",
      "   ----------------------------------- ---- 7/8 [selenium]\n",
      "   ----------------------------------- ---- 7/8 [selenium]\n",
      "   ----------------------------------- ---- 7/8 [selenium]\n",
      "   ----------------------------------- ---- 7/8 [selenium]\n",
      "   ----------------------------------- ---- 7/8 [selenium]\n",
      "   ----------------------------------- ---- 7/8 [selenium]\n",
      "   ---------------------------------------- 8/8 [selenium]\n",
      "\n",
      "Successfully installed outcome-1.3.0.post0 pysocks-1.7.1 selenium-4.35.0 sortedcontainers-2.4.0 trio-0.30.0 trio-websocket-0.12.2 typing_extensions-4.14.1 wsproto-1.2.0\n"
     ]
    }
   ],
   "source": [
    "#!pip install selenium"
   ]
  },
  {
   "cell_type": "code",
   "execution_count": null,
   "id": "0ed11e3b",
   "metadata": {},
   "outputs": [
    {
     "name": "stdout",
     "output_type": "stream",
     "text": [
      "Collecting webdriver_manager\n",
      "  Downloading webdriver_manager-4.0.2-py2.py3-none-any.whl.metadata (12 kB)\n",
      "Requirement already satisfied: requests in c:\\users\\playdata\\anaconda3\\envs\\vectordb_env\\lib\\site-packages (from webdriver_manager) (2.32.5)\n",
      "Requirement already satisfied: python-dotenv in c:\\users\\playdata\\anaconda3\\envs\\vectordb_env\\lib\\site-packages (from webdriver_manager) (1.1.1)\n",
      "Requirement already satisfied: packaging in c:\\users\\playdata\\anaconda3\\envs\\vectordb_env\\lib\\site-packages (from webdriver_manager) (24.2)\n",
      "Requirement already satisfied: charset_normalizer<4,>=2 in c:\\users\\playdata\\anaconda3\\envs\\vectordb_env\\lib\\site-packages (from requests->webdriver_manager) (3.4.3)\n",
      "Requirement already satisfied: idna<4,>=2.5 in c:\\users\\playdata\\anaconda3\\envs\\vectordb_env\\lib\\site-packages (from requests->webdriver_manager) (3.10)\n",
      "Requirement already satisfied: urllib3<3,>=1.21.1 in c:\\users\\playdata\\anaconda3\\envs\\vectordb_env\\lib\\site-packages (from requests->webdriver_manager) (2.5.0)\n",
      "Requirement already satisfied: certifi>=2017.4.17 in c:\\users\\playdata\\anaconda3\\envs\\vectordb_env\\lib\\site-packages (from requests->webdriver_manager) (2025.8.3)\n",
      "Downloading webdriver_manager-4.0.2-py2.py3-none-any.whl (27 kB)\n",
      "Installing collected packages: webdriver_manager\n",
      "Successfully installed webdriver_manager-4.0.2\n"
     ]
    }
   ],
   "source": [
    "#!pip install webdriver_manager"
   ]
  },
  {
   "cell_type": "code",
   "execution_count": null,
   "id": "0e5f822e",
   "metadata": {},
   "outputs": [],
   "source": [
    "from selenium import webdriver\n",
    "from selenium.webdriver.common.by import By\n",
    "import time\n",
    "\n",
    "# 1. Chrome 브라우저 실행\n",
    "path = 'chromedriver.exe'\n",
    "service = webdriver.chrome.service.Service(path)\n",
    "driver = webdriver.Chrome(service=service)\n",
    "\n",
    "# 2. url 접근 (엔카 현대차 리뷰 모음)\n",
    "url = 'https://www.encar.com/mocha.do?mnfccd=001&mdlgroupcd=&mdlcd=&year=&mochaYn=&method='\n",
    "driver.get(url)\n",
    "time.sleep(1) # 1초 동안 buffer 줘서 페이지 다 뜰 수 있게 하기\n",
    "\n",
    "\n",
    "\n",
    "\n",
    "\n",
    "driver.quit() # 브라우저 종료"
   ]
  }
 ],
 "metadata": {
  "kernelspec": {
   "display_name": "vectordb_env",
   "language": "python",
   "name": "python3"
  },
  "language_info": {
   "codemirror_mode": {
    "name": "ipython",
    "version": 3
   },
   "file_extension": ".py",
   "mimetype": "text/x-python",
   "name": "python",
   "nbconvert_exporter": "python",
   "pygments_lexer": "ipython3",
   "version": "3.9.23"
  }
 },
 "nbformat": 4,
 "nbformat_minor": 5
}
