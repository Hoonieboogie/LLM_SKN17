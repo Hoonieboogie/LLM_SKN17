{
 "cells": [
  {
   "cell_type": "markdown",
   "id": "1feb82ff",
   "metadata": {},
   "source": [
    "# LangChain - LangSmith Tracing"
   ]
  },
  {
   "cell_type": "code",
   "execution_count": 5,
   "id": "9dfe8d8d",
   "metadata": {},
   "outputs": [
    {
     "data": {
      "text/plain": [
       "'c:\\\\Users\\\\Playdata\\\\Desktop\\\\LLM\\\\04_langchain\\\\.env'"
      ]
     },
     "execution_count": 5,
     "metadata": {},
     "output_type": "execute_result"
    }
   ],
   "source": [
    "from dotenv import load_dotenv, find_dotenv\n",
    "load_dotenv()\n",
    "\n",
    "find_dotenv()"
   ]
  },
  {
   "cell_type": "markdown",
   "id": "b16d0f7e",
   "metadata": {},
   "source": [
    "### Logging 확인"
   ]
  },
  {
   "cell_type": "markdown",
   "id": "f8478812",
   "metadata": {},
   "source": [
    "- langsmith 사이트에서 확인"
   ]
  },
  {
   "cell_type": "code",
   "execution_count": 6,
   "id": "592f4c58",
   "metadata": {},
   "outputs": [
    {
     "name": "stdout",
     "output_type": "stream",
     "text": [
      "Hello, it will be over soon on Thursday.\n"
     ]
    }
   ],
   "source": [
    "from langchain_core.messages import HumanMessage, SystemMessage\n",
    "from langchain_openai import ChatOpenAI\n",
    "\n",
    "model = ChatOpenAI(model='gpt-4o-mini')\n",
    "\n",
    "messages = [\n",
    "    SystemMessage(content = '다음 문장을 영어로 번역해'),\n",
    "    HumanMessage(content='안녕, 이제 곧 목요일에 끝나네.')\n",
    "]\n",
    "\n",
    "response = model.invoke(messages)\n",
    "print(response.content)"
   ]
  }
 ],
 "metadata": {
  "kernelspec": {
   "display_name": "llm_env",
   "language": "python",
   "name": "python3"
  },
  "language_info": {
   "codemirror_mode": {
    "name": "ipython",
    "version": 3
   },
   "file_extension": ".py",
   "mimetype": "text/x-python",
   "name": "python",
   "nbconvert_exporter": "python",
   "pygments_lexer": "ipython3",
   "version": "3.12.11"
  }
 },
 "nbformat": 4,
 "nbformat_minor": 5
}
