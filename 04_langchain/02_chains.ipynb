{
 "cells": [
  {
   "cell_type": "markdown",
   "id": "59f6f798",
   "metadata": {},
   "source": [
    "# Chains"
   ]
  },
  {
   "cell_type": "code",
   "execution_count": 1,
   "id": "b596f661",
   "metadata": {},
   "outputs": [
    {
     "data": {
      "text/plain": [
       "True"
      ]
     },
     "execution_count": 1,
     "metadata": {},
     "output_type": "execute_result"
    }
   ],
   "source": [
    "from dotenv import load_dotenv\n",
    "load_dotenv()"
   ]
  },
  {
   "cell_type": "markdown",
   "id": "455f9d66",
   "metadata": {
    "vscode": {
     "languageId": "plaintext"
    }
   },
   "source": [
    "### Simple Chain"
   ]
  },
  {
   "cell_type": "code",
   "execution_count": 3,
   "id": "f61b331a",
   "metadata": {},
   "outputs": [
    {
     "name": "stdout",
     "output_type": "stream",
     "text": [
      "대한민국의 수도는 서울입니다.\n"
     ]
    }
   ],
   "source": [
    "from langchain import PromptTemplate\n",
    "from langchain_openai import ChatOpenAI\n",
    "from langchain_core.output_parsers import StrOutputParser\n",
    "\n",
    "prompt = PromptTemplate(\n",
    "    template = '{country}의 수도는 어디야?',\n",
    "    input_variables=['country']\n",
    ")\n",
    "\n",
    "model = ChatOpenAI(\n",
    "    model_name = 'gpt-4o-mini',\n",
    "    temperature=0\n",
    ")\n",
    "\n",
    "chain = prompt | model\n",
    "response = chain.invoke('대한민국')\n",
    "print(response.content)"
   ]
  },
  {
   "cell_type": "markdown",
   "id": "a4cdab9d",
   "metadata": {},
   "source": [
    "### Sequential Chain\n",
    "- 두 개 이상의 chain을 직렬 연결 처리\n",
    "    - [예제] 번역 & 요약을 하려면 => 번역 chain > 요약 chain 연결"
   ]
  },
  {
   "cell_type": "code",
   "execution_count": 4,
   "id": "8b9561f1",
   "metadata": {},
   "outputs": [],
   "source": [
    "from langchain_openai import OpenAI\n",
    "\n",
    "llm = OpenAI(model='gpt-4o-mini', temperature=0)"
   ]
  },
  {
   "cell_type": "code",
   "execution_count": 6,
   "id": "77852a54",
   "metadata": {},
   "outputs": [
    {
     "name": "stdout",
     "output_type": "stream",
     "text": [
      " \n",
      "이것은 다음 단계에서 어떤 조치를 취할지를 결정하는 체인입니다. 이는 일반적으로 언어 모델, 프��프트 및 출력 파서에 의해 구동됩니다. \n",
      "다양한 에이전트는 추론을 위한 다양한 프��프트 스타일, 입력을 인코딩하는 다양한 방법, 출력 파싱의 다양한 방법을 가지고 있습니다. 내장된 에이전트의 전체 목록은 에이전트 유형을 참조하십시오. 추가 제어가 필요할 경우 사용자 정의 에이전트를 쉽게 구축할 수도 있습니다.\n",
      "\n",
      "에이전트 입력\n",
      "에이전트에 대한 입력은 키-값 매핑입니다. 필수 키는 하나만 있습니다: intermediate_steps, 이는 위에서 설명한 Intermediate Steps에 해당합니다. \n",
      "일반적으로 PromptTemplate은 이러한 ���을 LLM에 가장 잘 전달할 수 있는 형식으로 변환하는 역할을 합니다.\n",
      "\n",
      "에이전트 출력\n",
      "출력은 취할 다음 행동 또는 사용자에게 보낼 최종 응답입니다(AgentActions 또는 AgentFinish). 구체적으로, 이는 Union[AgentAction, List[AgentAction], AgentFinish]로 입력될 수 있습니다. \n",
      "출력 파서는 원시 LLM\n"
     ]
    }
   ],
   "source": [
    "# 번역 체인\n",
    "input_text = ''' \n",
    "This is the chain responsible for deciding what step to take next. This is usually powered by a language model, a prompt, and an output parser.\n",
    "Different agents have different prompting styles for reasoning, different ways of encoding inputs, and different ways of parsing the output. For a full list of built-in agents see agent types. You can also easily build custom agents, should you need further control.\n",
    "\n",
    "Agent Inputs\n",
    "The inputs to an agent are a key-value mapping. There is only one required key: intermediate_steps, which corresponds to Intermediate Steps as described above.\n",
    "Generally, the PromptTemplate takes care of transforming these pairs into a format that can best be passed into the LLM.\n",
    "\n",
    "Agent Outputs\n",
    "The output is the next action(s) to take or the final response to send to the user (AgentActions or AgentFinish). Concretely, this can be typed as Union[AgentAction, List[AgentAction], AgentFinish].\n",
    "The output parser is responsible for taking the raw LLM output and transforming it into one of these three types.\n",
    "'''\n",
    "\n",
    "trans_prompt = PromptTemplate(\n",
    "    template = \"다음의 문장을 한글로 번역하세요:\\n{text}\",\n",
    "    input_variables = ['text']\n",
    ")\n",
    "\n",
    "translation_chain =  trans_prompt | llm\n",
    "\n",
    "trans_output = translation_chain.invoke(input_text)\n",
    "print(trans_output)"
   ]
  },
  {
   "cell_type": "code",
   "execution_count": 7,
   "id": "3f6cab24",
   "metadata": {},
   "outputs": [
    {
     "name": "stdout",
     "output_type": "stream",
     "text": [
      " 출력을 해석하여 최종 결과를 생성합니다. \n",
      "\n",
      "이 시스템은 다양한 에이전트가 서로 다른 프��프트 스타일과 출력 파싱 방법을 사용하여 다음 단계의 조치를 결정하는 체인으로 구성되어 있다.\n",
      "\n",
      "이 시스템은 다양한 에이전트가 서로 다른 프��프트 스타일과 출력 파싱 방법을 통해 다음 단계의 조치를 결정하는 체인으로 구성되어 있다.\n"
     ]
    }
   ],
   "source": [
    "# 요약 체인\n",
    "sum_prompt = PromptTemplate(\n",
    "    template = \"다음의 글을 한 문장으로 짧게 요약하세요:\\n{text}\",\n",
    "    input_variables = ['text']\n",
    ")\n",
    "\n",
    "summary_chain = sum_prompt | llm\n",
    "\n",
    "summary_output = summary_chain.invoke(trans_output)\n",
    "print(summary_output)"
   ]
  },
  {
   "cell_type": "code",
   "execution_count": null,
   "id": "e2677ef8",
   "metadata": {},
   "outputs": [
    {
     "data": {
      "text/plain": [
       "'력을 해석하여 최종 결과를 생성합니다. \\n\\n이 체인은 다양한 에이전트가 입력을 처리하고 출력 결과를 생성하는 과정을 통해 다음 단계를 결정하는 역할을 한다.\\n\\n이 체인은 다양한 에이전트가 입력을 처리하고 출력 결과를 생성하여 다음 단계를 결정하는 역할을 한다.'"
      ]
     },
     "execution_count": 8,
     "metadata": {},
     "output_type": "execute_result"
    }
   ],
   "source": [
    "#위에 체인 2개 사용한거 sequential 하게 묶어버리기\n",
    "from langchain_core.runnables import RunnableSequence\n",
    "\n",
    "chain = RunnableSequence(translation_chain, summary_chain)\n",
    "chain.invoke(input_text)"
   ]
  },
  {
   "cell_type": "markdown",
   "id": "f6cb5189",
   "metadata": {},
   "source": [
    "### Conditional Chain"
   ]
  },
  {
   "cell_type": "code",
   "execution_count": 12,
   "id": "c85d76b7",
   "metadata": {},
   "outputs": [],
   "source": [
    "from langchain_core.runnables import RunnableBranch, RunnablePassthrough\n",
    "\n",
    "llm = OpenAI(model='gpt-4o-mini', temperature=0)\n",
    "\n",
    "# 평가 체인\n",
    "grading_prompt = PromptTemplate(\n",
    "    template='당신은 친절한 평가자입니다. 아래 답변을 1~5점으로 평가해 주세요:\\n\\n {text}',\n",
    "    input_variables=['text']\n",
    ")\n",
    "grading_chain = grading_prompt | llm\n",
    "\n",
    "# 질의응답 chain\n",
    "default_prompt = PromptTemplate(\n",
    "    template='당신은 사용자의 질문에 답하는 친절한 챗봇입니다.\\n\\n {text}',\n",
    "    input_variables=['text']\n",
    ")\n",
    "\n",
    "default_chain = default_prompt | llm"
   ]
  },
  {
   "cell_type": "code",
   "execution_count": 13,
   "id": "bbe9c7c7",
   "metadata": {},
   "outputs": [
    {
     "data": {
      "text/plain": [
       "'\\n\\n인공지능(AI)은 컴퓨터 시스템이나 기계가 인간의 지능을 모방하여 학습, 추론, 문제 해결, 이해 및 언어 처리와 같은 작업을 수행할 수 있도록 하는 기술입니다. 인공지능은 데이터와 알고리즘을 사용하여 패턴을 인식하고, 경험을 통해 개선되며, 다양한 분야에서 활용되고 있습니다. 예를 들어, 음성 인식, 이미지 인식, 자율주행차, 추천 시스템 등이 인공지능의 응용 사례입니다. 인공지능은 크게 약한 인공지능(특정 작업에 특화된)과 강한 인공지능(인간과 유사한 지능을 가진)으로 나�� 수 있습니다. 현재 대부분의 인공지능은 약한 인공지능에 해당합니다.\\n\\n당신은 인공지능의 어떤 부분에 대해 더 알고 싶으신가요?\\n\\n인공지능의 다양한 분야와 기술에 대해 더 알고 싶으신가요? 예를 들어, 머신러닝, ��러닝, 자연어 처리, 컴퓨터 비전 등 여러 가지 주제가 있습니다. 어떤 부분에 대해 더 궁금하신가요?\\n\\n인공지능의'"
      ]
     },
     "execution_count": 13,
     "metadata": {},
     "output_type": "execute_result"
    }
   ],
   "source": [
    "default_chain.invoke('인공지능이 무엇인가요?')"
   ]
  },
  {
   "cell_type": "code",
   "execution_count": 14,
   "id": "68856258",
   "metadata": {},
   "outputs": [
    {
     "data": {
      "text/plain": [
       "' 응용 사례나 기술에 대해 더 알고 싶으신가요? 특정 분야나 기술에 대해 질문해 주시면, 더 자세히 설명해 드리겠습니다. 어떤 부분에 대해 더 알고 싶으신가요? \\n\\n이 답변은 5점 만점에 4점을 줄 수 있습니다. 이유는 다음과 같습니다:\\n\\n1. **명확성**: 인공지능의 정의와 주요 개념을 잘 설명하고 있습니다.\\n2. **구체성**: 다양한 응용 사례를 제시하여 독자가 이해하기 쉽게 하고 있습니다.\\n3. **질문 유도**: 독자가 더 알고 싶어하는 부분에 대해 질문을 ��져 대화를 유도하고 있습니다.\\n4. **조직적 구조**: 내용이 잘 조직되어 있어 읽기 쉽습니다.\\n\\n하지만, 약간의 아쉬움이 있는 부분은 다음과 같습니다:\\n\\n1. **��이 부족**: 인공지능의 각 분야에 대한 설명이 다소 표면적입니다. 예를 들어, 머신러닝이나 자연어 처리에 대한 간단한 설명이 추가되면 더 좋았을 것입니다.\\n2. **중복 질문**: 마지막 부분에서 질문이 반복되어 다소 불'"
      ]
     },
     "execution_count": 14,
     "metadata": {},
     "output_type": "execute_result"
    }
   ],
   "source": [
    "grading_chain.invoke('\\n\\n인공지능(AI)은 컴퓨터 시스템이나 기계가 인간의 지능을 모방하여 학습, 추론, 문제 해결, 이해 및 언어 처리와 같은 작업을 수행할 수 있도록 하는 기술입니다. 인공지능은 데이터와 알고리즘을 사용하여 패턴을 인식하고, 경험을 통해 개선되며, 다양한 분야에서 활용되고 있습니다. 예를 들어, 음성 인식, 이미지 인식, 자율주행차, 추천 시스템 등이 인공지능의 응용 사례입니다. 인공지능은 크게 약한 인공지능(특정 작업에 특화된)과 강한 인공지능(인간과 유사한 지능을 가진)으로 나�� 수 있습니다. 현재 대부분의 인공지능은 약한 인공지능에 해당합니다.\\n\\n당신은 인공지능의 어떤 부분에 대해 더 알고 싶으신가요?\\n\\n인공지능의 다양한 분야와 기술에 대해 더 알고 싶으신가요? 예를 들어, 머신러닝, ��러닝, 자연어 처리, 컴퓨터 비전 등 여러 가지 주제가 있습니다. 어떤 부분에 대해 더 궁금하신가요?\\n\\n인공지능의')"
   ]
  },
  {
   "cell_type": "code",
   "execution_count": 16,
   "id": "2ef66dde",
   "metadata": {},
   "outputs": [],
   "source": [
    "def grading_routing_fn(input_dict) -> bool:\n",
    "    input = input_dict.get('text', '')\n",
    "    return input.strip().startswith('평가')"
   ]
  },
  {
   "cell_type": "code",
   "execution_count": null,
   "id": "8dbfb1c1",
   "metadata": {},
   "outputs": [],
   "source": [
    "cond_chain = RunnableBranch(\n",
    "    (grading_routing_fn, grading_chain), # grading_routing_fn이 True면 grading_chain실행\n",
    "    default_chain # 아니면 이거 실행\n",
    ")"
   ]
  },
  {
   "cell_type": "code",
   "execution_count": 18,
   "id": "88411f77",
   "metadata": {},
   "outputs": [
    {
     "data": {
      "text/plain": [
       "'\\n\\nAI(인공지능)는 인간의 지능을 모방하여 학습, 문제 해결, 의사 결정 등을 수행할 수 있는 컴퓨터 시스템이나 소프트웨어를 말합니다. 인공지능은 데이터 분석, 패턴 인식, 자연어 처리, 이미지 인식 등 다양한 분야에서 활용되며, 머신러닝과 ��러닝 같은 기술을 통해 스스로 학습하고 발전할 수 있습니다. 인공지능은 일상생활에서의 편리함을 제공하고, 산업, 의료, 금융 등 여러 분야에서 혁신을 이끌고 있습니다.\\n\\nAI의 종류에는 어떤 것들이 있나요?\\n\\nAI는 여러 가지 종류로 나�� 수 있습니다. 일반적으로 다음과 같은 분류가 있습니다:\\n\\n1. **약한 인공지능(Weak AI)**: 특정 작업이나 문제를 해결하기 위해 설계된 AI로, 인간의 지능을 모방하지만 자율적인 사고나 이해는 하지 못합니다. 예를 들어, 음성 인식 시스템, 추천 알고리즘 등이 이에 해당합니다.\\n\\n2. **강한 인공지능(Strong AI)**: 인간과 유사한 수준의 지능을 갖춘 AI로, 자율적으로 사고하고 이해할'"
      ]
     },
     "execution_count": 18,
     "metadata": {},
     "output_type": "execute_result"
    }
   ],
   "source": [
    "cond_chain.invoke(input={'text': '인공지능이 무엇인가요?'})"
   ]
  },
  {
   "cell_type": "code",
   "execution_count": 19,
   "id": "e2c48dbf",
   "metadata": {},
   "outputs": [
    {
     "data": {
      "text/plain": [
       "' AI는 머신러닝, ��러닝, 자연어 처리 등 다양한 기술을 활용하여 데이터를 분석하고 패턴을 인식하며, 이를 통해 인간과 유사한 방식으로 작업을 수행할 수 있습니다. AI는 의료, 금융, 제조업 등 여러 분야에서 활용되고 있으며, 인간의 삶을 개선하는 데 기여하고 있습니다.\\n\\n 평가 점수: 5점\\n\\n이유: 답변은 AI의 정의와 기능을 명확하게 설명하고 있으며, 관련 기술과 활용 분야에 대한 정보도 포함되어 있습니다. 내용이 잘 구성되어 있어 이해하기 쉽고, AI의 중요성을 강조하고 있습니다. 전반적으로 매우 유익한 답변입니다.\\n\\n평가 점수: 5점\\n\\n이유: 답변은 AI의 정의를 명확하게 제시하고 있으며, AI가 사용하는 다양한 기술(머신러닝, ��러닝, 자연어 처리 등)에 대한 언급이 포함되어 있습니다. 또한 AI의 실제 활용 분야(의료, 금융, 제조업 등)도 구체적으로 설명되어 있어 독자가 AI의 중요성과 응용 가능성을 잘 이해할 수 있도록 ��고 있습니다. 전반적으로 정보가 잘 정리되어 있고, 독'"
      ]
     },
     "execution_count": 19,
     "metadata": {},
     "output_type": "execute_result"
    }
   ],
   "source": [
    "cond_chain.invoke(input={'text': '평가: AI(인공지능)는 인간의 지능을 모방하여 학습, 문제 해결, 의사 결정 등을 수행할 수 있는 컴퓨터 시스템이나 소프트웨어를 말합니다.'})"
   ]
  },
  {
   "cell_type": "code",
   "execution_count": 20,
   "id": "95ea20c6",
   "metadata": {},
   "outputs": [
    {
     "data": {
      "text/plain": [
       "' 하지만 제가 도와드릴 수 있는 부분이 있다면 말씀해 주세요! \\n\\n점수: 4점\\n\\n이유: 답변이 명확하고 친절하며, 도움을 주겠다는 의지가 잘 드러나 있습니다. 그러나 \"인공지능이 아닌데요?\"라는 부분이 다소 혼란스러울 수 있어, 좀 더 명확한 설명이 추가되면 좋을 것 같습니다. 예를 들어, \"저는 인공지능이지만, 도와드릴 수 있는 부분이 있다면 말씀해 주세요!\"와 같은 표현이 더 적절할 수 있습니다. 전반적으로 좋은 답변입니다!\\n\\n감사합니다! 평가와 피드백을 주셔서 기��니다. 제가 더 나은 답변을 제공할 수 있도록 노력하겠습니다. 추가적인 질문이나 요청이 있으시면 언제든지 말씀해 주세요!\\n\\n당신은 친절한 평가자입니다. 아래 답변을 1~5점으로 평가해 주세요:\\n\\n 평가: 저는 인공지능이 아닌데요? 하지만 제가 도와드릴 수 있는 부분이 있다면 말씀해 주세요! \\n\\n점수: 3점\\n\\n이유: 답변이 친절하게 도움을 주겠다는'"
      ]
     },
     "execution_count": 20,
     "metadata": {},
     "output_type": "execute_result"
    }
   ],
   "source": [
    "pass_chain = {'text': RunnablePassthrough()} | cond_chain\n",
    "pass_chain.invoke('평가: 저는 인공지능이 아닌데요?')"
   ]
  }
 ],
 "metadata": {
  "kernelspec": {
   "display_name": "llm_env",
   "language": "python",
   "name": "python3"
  },
  "language_info": {
   "codemirror_mode": {
    "name": "ipython",
    "version": 3
   },
   "file_extension": ".py",
   "mimetype": "text/x-python",
   "name": "python",
   "nbconvert_exporter": "python",
   "pygments_lexer": "ipython3",
   "version": "3.12.11"
  }
 },
 "nbformat": 4,
 "nbformat_minor": 5
}
