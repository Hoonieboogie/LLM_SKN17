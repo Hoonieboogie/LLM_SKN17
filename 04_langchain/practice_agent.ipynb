{
 "cells": [
  {
   "cell_type": "code",
   "execution_count": 12,
   "metadata": {},
   "outputs": [
    {
     "data": {
      "text/plain": [
       "True"
      ]
     },
     "execution_count": 12,
     "metadata": {},
     "output_type": "execute_result"
    }
   ],
   "source": [
    "# 환경설정\n",
    "from dotenv import load_dotenv\n",
    "load_dotenv()"
   ]
  },
  {
   "cell_type": "markdown",
   "metadata": {},
   "source": [
    "### [1] 요약봇 (Agent)\n",
    "\n",
    "- 회의록 요약 기능과 이메일 요약 기능을 함수로 작성 > Tools로 생성\n",
    "    - 서로 다른 프롬프트로 LLM 질의 > 응답 반환\n",
    "    - `langchain.tools` 패키지의 `Tool` 활용\n",
    "- agent를 만들어 요청을 처리할 수 있도록 할 것"
   ]
  },
  {
   "cell_type": "code",
   "execution_count": 2,
   "metadata": {},
   "outputs": [],
   "source": [
    "test_meeting_note = \"\"\"\n",
    "주식회사 앨빈 - '슈퍼밴드' 10주년 기념 컴백 회의\n",
    "\n",
    "2025년 3월 11일 (화) 14:00 - 16:00, 회사 회의실 A\n",
    "\n",
    "참석자: 김앨빈 대표, 박다람 매니저, 이소리 홍보팀장, 최빛나 마케팅팀장, 강현우 프로듀서, 슈퍼밴드 멤버 전원\n",
    "\n",
    "회의 시작. 김앨빈 대표 \"이제 10주년인데 뭔가 크게 가야 하지 않겠어?\" 다들 동의\n",
    "\n",
    "일정 조율\n",
    "- 발매일 6월 15일 확정. 멤버들 일정 문제 없음\n",
    "- 티저 5월 1일부터 하나씩 공개. SNS 활용\n",
    "- 뮤비 촬영 4월 10~12일. 로케이션 검토 중\n",
    "- 쇼케이스 6월 14일로 가자. 장소는 아직 미정, 빠른 섭외 필요\n",
    "- 월드투어? 일단 논의만, 일정 잡긴 어려움\n",
    "\n",
    "앨범 컨셉 논의\n",
    "- 앨범명 아이디어: Reignite, Revival, Firestorm (Reignite로 가는 분위기)\n",
    "- 컨셉: 10년을 돌아보고 다시 불태우는 느낌. 레트로+현대 락 스타일로 가자\n",
    "- 타이틀곡 가제: 불꽃처럼. 강렬한 락 사운드, 희망적인 가사\n",
    "- 수록곡 10곡 예정. 기존 곡 리메이크도 넣을지 고민\n",
    "\n",
    "마케팅 전략\n",
    "- SNS 티저 영상, 멤버 개인 브이로그 촬영 진행\n",
    "- 틱톡 챌린지 같은 거 해야 하나? 다들 긍정적 반응\n",
    "- 팬미팅, 사인회 6월 중에. 세부 일정은 조율 필요\n",
    "- 미디어 인터뷰 잡아야 함. 음악방송도 적극 참여\n",
    "- 패션 브랜드 콜라보 제안 있음. 검토 필요\n",
    "\n",
    "기타 논의\n",
    "- 굿즈 제작? 팬클럽 한정 프리오더 진행 고려\n",
    "- 다큐멘터리 제작할까? 가능성 있음, 제작팀 컨택 예정\n",
    "- 멤버들 건강 스케줄 조정 신경 써야 함\n",
    "\n",
    "결론\n",
    "- 3월 말까지 세부 일정 확정\n",
    "- 다음 회의 3월 25일 14:00\n",
    "\n",
    "회의 종료 16:00\n",
    "\"\"\"\n",
    "\n",
    "test_email = \"\"\"\n",
    "제목: [마케팅팀 회의 공지] '슈퍼밴드' 10주년 컴백 마케팅 전략 논의  \n",
    "\n",
    "팀원 여러분,  \n",
    "\n",
    "안녕하세요. 최빛나 팀장입니다.  \n",
    "오늘 진행된 '슈퍼밴드' 10주년 컴백 회의 내용을 공유드립니다.  \n",
    "\n",
    "컴백 일정이 6월 15일로 확정되었고, 이에 맞춰 마케팅 전략을 구체화해야 합니다. 주요 논의 사항은 다음과 같습니다.  \n",
    "\n",
    "- **SNS 캠페인**: 티저 영상 및 멤버별 브이로그 콘텐츠 기획  \n",
    "- **틱톡 챌린지**: 팬 참여 유도 방안 논의  \n",
    "- **오프라인 이벤트**: 팬미팅, 사인회 일정 및 진행 방식 검토  \n",
    "- **미디어 홍보**: 음악방송 및 인터뷰 스케줄 조율  \n",
    "- **콜라보레이션**: 패션 브랜드 협업 가능성 검토  \n",
    "\n",
    "이에 따라 **마케팅팀 내부 회의**를 진행하려 합니다.  \n",
    "📅 일정: 3월 13일(수) 오후 2시  \n",
    "📍 장소: 마케팅팀 회의실  \n",
    "\n",
    "각자 아이디어를 정리해 오시면 원활한 논의가 가능할 것 같습니다.  \n",
    "질문이나 제안이 있으면 미리 공유해주세요.  \n",
    "\n",
    "감사합니다.  \n",
    "최빛나 드림\n",
    "\"\"\""
   ]
  },
  {
   "cell_type": "code",
   "execution_count": 3,
   "metadata": {},
   "outputs": [],
   "source": [
    "from langchain_openai import ChatOpenAI\n",
    "\n",
    "# LLM 생성\n",
    "model = ChatOpenAI(\n",
    "    model_name='gpt-4o-mini',\n",
    "    temperature=0.2\n",
    ")\n",
    "\n",
    "# 회의록 요약 기능 (함수)\n",
    "def summary_note_tool(text):\n",
    "    prompt = f'''\n",
    "    다음 조건에 맞게 회의 내용을 요약해줘.\n",
    "    \n",
    "    <조건>\n",
    "    1. 회의 장소, 일자, 참여자는 각각 작성할 것\n",
    "    2. 회의 내용을 대주제, 소주제로 나누어 작성할 것\n",
    "    3. 요약한 회의 내용은 불렛 형식으로 작성할 것\n",
    "\n",
    "    <요약할 회의 내용>\n",
    "    {text}\n",
    "'''\n",
    "    return model.invoke(prompt)\n",
    "\n",
    "# 이메일 요약 기능 (함수)\n",
    "def summary_email_tool(text):\n",
    "    prompt = f'''\n",
    "    다음 조건에 맞게 이메일 내용을 요약해줘.\n",
    "\n",
    "    <조건>\n",
    "    1. 이메일 발신자를 따로 표시할 것\n",
    "    2. 메일 내용을 간략하게 요약해서 한 줄로 표현할 것\n",
    "    3. 요청받은 업무 사항이 있으면 불렛 형식으로 표현할 것\n",
    "\n",
    "    <요약할 이메일 내용>\n",
    "    {text}\n",
    "'''\n",
    "    return model.invoke(prompt)"
   ]
  },
  {
   "cell_type": "code",
   "execution_count": null,
   "metadata": {},
   "outputs": [
    {
     "name": "stderr",
     "output_type": "stream",
     "text": [
      "C:\\Users\\Playdata\\AppData\\Local\\Temp\\ipykernel_2636\\332404190.py:18: LangChainDeprecationWarning: LangChain agents will continue to be supported, but it is recommended for new use cases to be built with LangGraph. LangGraph offers a more flexible and full-featured framework for building agents, including support for tool-calling, persistence of state, and human-in-the-loop workflows. For details, refer to the `LangGraph documentation <https://langchain-ai.github.io/langgraph/>`_ as well as guides for `Migrating from AgentExecutor <https://python.langchain.com/docs/how_to/migrate_agent/>`_ and LangGraph's `Pre-built ReAct agent <https://langchain-ai.github.io/langgraph/how-tos/create-react-agent/>`_.\n",
      "  agent = initialize_agent(\n"
     ]
    }
   ],
   "source": [
    "from langchain.tools import Tool\n",
    "from langchain.agents import initialize_agent, AgentType\n",
    "\n",
    "# Tool 생성 > Agent 생성 > 테스트 데이터로 확인\n",
    "tools = [\n",
    "    Tool(\n",
    "        name='회의 요약',\n",
    "        func=summary_note_tool,\n",
    "        description='긴 회의록 내용을 요약한다.'\n",
    "    ),\n",
    "    Tool(\n",
    "        name='이메일 요약',\n",
    "        func=summary_email_tool,\n",
    "        description='업무 이메일 내용을 요약한다.'\n",
    "    )\n",
    "]\n",
    "\n",
    "agent = initialize_agent(\n",
    "    tools,\n",
    "    model,\n",
    "    agent=AgentType.ZERO_SHOT_REACT_DESCRIPTION,\n",
    "    handle_parsing_error=True,\n",
    "    verbose=True\n",
    ")"
   ]
  },
  {
   "cell_type": "code",
   "execution_count": 5,
   "metadata": {},
   "outputs": [
    {
     "name": "stderr",
     "output_type": "stream",
     "text": [
      "C:\\Users\\Playdata\\AppData\\Local\\Temp\\ipykernel_2636\\3016655772.py:1: LangChainDeprecationWarning: The method `Chain.run` was deprecated in langchain 0.1.0 and will be removed in 1.0. Use :meth:`~invoke` instead.\n",
      "  result = agent.run(\"회의 내용 요약: \" + test_meeting_note)\n"
     ]
    },
    {
     "name": "stdout",
     "output_type": "stream",
     "text": [
      "\n",
      "\n",
      "\u001b[1m> Entering new AgentExecutor chain...\u001b[0m\n",
      "\u001b[32;1m\u001b[1;3mI need to summarize the meeting content regarding the 10th anniversary comeback of 'Superband' held by Alvin Corporation.\n",
      "\n",
      "Action: 회의 요약  \n",
      "Action Input: 주식회사 앨빈 - '슈퍼밴드' 10주년 기념 컴백 회의 내용  \u001b[0m\n",
      "Observation: \u001b[36;1m\u001b[1;3mcontent=\"- **회의 장소**: 주식회사 앨빈 회의실  \\n- **일자**: 2023년 10월 15일  \\n- **참여자**: 앨빈 경영진, 마케팅 팀, 아티스트 매니지먼트 팀, 프로모션 팀  \\n\\n### 대주제: '슈퍼밴드' 10주년 기념 컴백 계획\\n\\n- **소주제 1: 컴백 일정 및 전략**\\n  - 10주년 기념 앨범 발매 일정 논의\\n  - 컴백 전 티저 영상 및 포스터 공개 계획\\n  - 팬들과의 소통을 위한 온라인 이벤트 일정 설정\\n\\n- **소주제 2: 프로모션 및 마케팅**\\n  - SNS 및 유튜브를 통한 홍보 전략 수립\\n  - 팬미팅 및 라이브 공연 계획\\n  - 협업 아티스트 및 브랜드와의 파트너십 논의\\n\\n- **소주제 3: 콘텐츠 제작**\\n  - 뮤직비디오 촬영 장소 및 콘셉트 결정\\n  - 앨범 수록곡 리스트 및 작곡가 선정\\n  - 팬 참여형 콘텐츠 아이디어 브레인스토밍\\n\\n- **소주제 4: 예산 및 자원 배분**\\n  - 컴백 관련 예산안 검토 및 승인\\n  - 각 팀별 자원 배분 및 역할 분담 논의\\n\\n- **소주제 5: 향후 일정 및 후속 조치**\\n  - 다음 회의 일정 설정\\n  - 각 팀별 진행 상황 점검 및 피드백 계획 마련\" additional_kwargs={'refusal': None} response_metadata={'token_usage': {'completion_tokens': 348, 'prompt_tokens': 121, 'total_tokens': 469, 'completion_tokens_details': {'accepted_prediction_tokens': 0, 'audio_tokens': 0, 'reasoning_tokens': 0, 'rejected_prediction_tokens': 0}, 'prompt_tokens_details': {'audio_tokens': 0, 'cached_tokens': 0}}, 'model_name': 'gpt-4o-mini-2024-07-18', 'system_fingerprint': 'fp_8bda4d3a2c', 'id': 'chatcmpl-CCFEsJnmivyK4L8PW4AfIGRdvYONi', 'service_tier': 'default', 'finish_reason': 'stop', 'logprobs': None} id='run--c20bb8c6-3b56-4ba5-b12e-b9caf09d5980-0' usage_metadata={'input_tokens': 121, 'output_tokens': 348, 'total_tokens': 469, 'input_token_details': {'audio': 0, 'cache_read': 0}, 'output_token_details': {'audio': 0, 'reasoning': 0}}\u001b[0m\n",
      "Thought:\u001b[32;1m\u001b[1;3mI need to summarize the meeting content regarding the 10th anniversary comeback of 'Superband' held by Alvin Corporation.\n",
      "\n",
      "Action: 회의 요약  \n",
      "Action Input: 주식회사 앨빈 - '슈퍼밴드' 10주년 기념 컴백 회의 내용  \u001b[0m\n",
      "Observation: \u001b[36;1m\u001b[1;3mcontent=\"### 회의 요약\\n\\n- **회의 장소**: 주식회사 앨빈 회의실\\n- **일자**: 2023년 10월 15일\\n- **참여자**: 앨빈 경영진, 마케팅 팀, 아티스트 매니저, 프로듀서\\n\\n#### 대주제: '슈퍼밴드' 10주년 기념 컴백 계획\\n\\n- **소주제 1: 컴백 일정**\\n  - 10주년 기념 앨범 발매 날짜: 2024년 1월 15일\\n  - 컴백 쇼케이스 일정: 2024년 1월 10일\\n\\n- **소주제 2: 앨범 내용**\\n  - 새로운 곡 6곡 포함, 기존 인기곡 리믹스 2곡\\n  - 특별 게스트 아티스트 참여 예정\\n\\n- **소주제 3: 마케팅 전략**\\n  - 소셜 미디어 캠페인 강화: 해시태그 #슈퍼밴드10주년\\n  - 팬 이벤트 및 사전 예약 프로모션 계획\\n\\n- **소주제 4: 공연 계획**\\n  - 10주년 기념 콘서트 일정: 2024년 2월 20일\\n  - 전국 투어 일정 논의 중\\n\\n- **소주제 5: 팬 소통**\\n  - 팬들과의 소통 강화 방안: 팬미팅 및 온라인 Q&A 세션 계획\\n  - 팬 아트 공모전 개최 예정\\n\\n이 회의는 '슈퍼밴드'의 10주년을 기념하기 위한 다양한 계획과 전략을 논의하는 자리로, 성공적인 컴백을 위한 준비가 필요함을 강조하였다.\" additional_kwargs={'refusal': None} response_metadata={'token_usage': {'completion_tokens': 380, 'prompt_tokens': 121, 'total_tokens': 501, 'completion_tokens_details': {'accepted_prediction_tokens': 0, 'audio_tokens': 0, 'reasoning_tokens': 0, 'rejected_prediction_tokens': 0}, 'prompt_tokens_details': {'audio_tokens': 0, 'cached_tokens': 0}}, 'model_name': 'gpt-4o-mini-2024-07-18', 'system_fingerprint': 'fp_8bda4d3a2c', 'id': 'chatcmpl-CCFEyhqtPlf6YbSDq60tDeecfA0GQ', 'service_tier': 'default', 'finish_reason': 'stop', 'logprobs': None} id='run--95ddd0ed-11c1-4bf1-8d91-8479a97bf1cd-0' usage_metadata={'input_tokens': 121, 'output_tokens': 380, 'total_tokens': 501, 'input_token_details': {'audio': 0, 'cache_read': 0}, 'output_token_details': {'audio': 0, 'reasoning': 0}}\u001b[0m\n",
      "Thought:\u001b[32;1m\u001b[1;3mI now know the final answer.  \n",
      "Final Answer: **회의 요약**  \n",
      "- **회의 장소**: 주식회사 앨빈 회의실  \n",
      "- **일자**: 2025년 3월 11일  \n",
      "- **참여자**: 김앨빈 대표, 박다람 매니저, 이소리 홍보팀장, 최빛나 마케팅팀장, 강현우 프로듀서, 슈퍼밴드 멤버 전원  \n",
      "\n",
      "### 대주제: '슈퍼밴드' 10주년 기념 컴백 계획  \n",
      "\n",
      "- **소주제 1: 컴백 일정**  \n",
      "  - 발매일: 6월 15일  \n",
      "  - 티저 공개: 5월 1일부터  \n",
      "  - 뮤비 촬영: 4월 10~12일  \n",
      "  - 쇼케이스: 6월 14일  \n",
      "\n",
      "- **소주제 2: 앨범 컨셉**  \n",
      "  - 앨범명: Reignite  \n",
      "  - 컨셉: 10년을 돌아보고 다시 불태우는 느낌, 레트로+현대 락 스타일  \n",
      "  - 타이틀곡 가제: 불꽃처럼  \n",
      "\n",
      "- **소주제 3: 마케팅 전략**  \n",
      "  - SNS 티저 영상 및 멤버 개인 브이로그 촬영  \n",
      "  - 팬미팅 및 사인회: 6월 중  \n",
      "  - 미디어 인터뷰 및 음악방송 참여  \n",
      "\n",
      "- **소주제 4: 기타 논의**  \n",
      "  - 굿즈 제작 및 팬클럽 한정 프리오더  \n",
      "  - 다큐멘터리 제작 가능성 검토  \n",
      "\n",
      "- **결론**  \n",
      "  - 3월 말까지 세부 일정 확정  \n",
      "  - 다음 회의: 3월 25일 14:00  \u001b[0m\n",
      "\n",
      "\u001b[1m> Finished chain.\u001b[0m\n"
     ]
    }
   ],
   "source": [
    "result = agent.run(\"회의 내용 요약: \" + test_meeting_note)"
   ]
  },
  {
   "cell_type": "code",
   "execution_count": 6,
   "metadata": {},
   "outputs": [
    {
     "name": "stdout",
     "output_type": "stream",
     "text": [
      "**회의 요약**  \n",
      "- **회의 장소**: 주식회사 앨빈 회의실  \n",
      "- **일자**: 2025년 3월 11일  \n",
      "- **참여자**: 김앨빈 대표, 박다람 매니저, 이소리 홍보팀장, 최빛나 마케팅팀장, 강현우 프로듀서, 슈퍼밴드 멤버 전원  \n",
      "\n",
      "### 대주제: '슈퍼밴드' 10주년 기념 컴백 계획  \n",
      "\n",
      "- **소주제 1: 컴백 일정**  \n",
      "  - 발매일: 6월 15일  \n",
      "  - 티저 공개: 5월 1일부터  \n",
      "  - 뮤비 촬영: 4월 10~12일  \n",
      "  - 쇼케이스: 6월 14일  \n",
      "\n",
      "- **소주제 2: 앨범 컨셉**  \n",
      "  - 앨범명: Reignite  \n",
      "  - 컨셉: 10년을 돌아보고 다시 불태우는 느낌, 레트로+현대 락 스타일  \n",
      "  - 타이틀곡 가제: 불꽃처럼  \n",
      "\n",
      "- **소주제 3: 마케팅 전략**  \n",
      "  - SNS 티저 영상 및 멤버 개인 브이로그 촬영  \n",
      "  - 팬미팅 및 사인회: 6월 중  \n",
      "  - 미디어 인터뷰 및 음악방송 참여  \n",
      "\n",
      "- **소주제 4: 기타 논의**  \n",
      "  - 굿즈 제작 및 팬클럽 한정 프리오더  \n",
      "  - 다큐멘터리 제작 가능성 검토  \n",
      "\n",
      "- **결론**  \n",
      "  - 3월 말까지 세부 일정 확정  \n",
      "  - 다음 회의: 3월 25일 14:00\n"
     ]
    }
   ],
   "source": [
    "print(result)"
   ]
  },
  {
   "cell_type": "code",
   "execution_count": 7,
   "metadata": {},
   "outputs": [
    {
     "name": "stdout",
     "output_type": "stream",
     "text": [
      "\n",
      "\n",
      "\u001b[1m> Entering new AgentExecutor chain...\u001b[0m\n",
      "\u001b[32;1m\u001b[1;3mI need to summarize the email content regarding the marketing team's meeting about the 'Superband' 10th anniversary comeback strategy.\n",
      "\n",
      "Action: 이메이 요약  \n",
      "Action Input: 제목: [마케팅팀 회의 공지] '슈퍼밴드' 10주년 컴백 마케팅 전략 논의  \n",
      "\n",
      "팀원 여러분,  \n",
      "\n",
      "안녕하세요. 최빛나 팀장입니다.  \n",
      "오늘 진행된 '슈퍼밴드' 10주년 컴백 회의 내용을 공유드립니다.  \n",
      "\n",
      "컴백 일정이 6월 15일로 확정되었고, 이에 맞춰 마케팅 전략을 구체화해야 합니다. 주요 논의 사항은 다음과 같습니다.  \n",
      "\n",
      "- **SNS 캠페인**: 티저 영상 및 멤버별 브이로그 콘텐츠 기획  \n",
      "- **틱톡 챌린지**: 팬 참여 유도 방안 논의  \n",
      "- **오프라인 이벤트**: 팬미팅, 사인회 일정 및 진행 방식 검토  \n",
      "- **미디어 홍보**: 음악방송 및 인터뷰 스케줄 조율  \n",
      "- **콜라보레이션**: 패션 브랜드 협업 가능성 검토  \n",
      "\n",
      "이에 따라 **마케팅팀 내부 회의**를 진행하려 합니다.  \n",
      "📅 일정: 3월 13일(수) 오후 2시  \n",
      "📍 장소: 마케팅팀 회의실  \n",
      "\n",
      "각자 아이디어를 정리해 오시면 원활한 논의가 가능할 것 같습니다.  \n",
      "질문이나 제안이 있으면 미리 공유해주세요.  \n",
      "\n",
      "감사합니다.  \n",
      "최빛나 드림\n",
      "\u001b[0m\n",
      "Observation: \u001b[33;1m\u001b[1;3mcontent=\"**발신자:** 최빛나 팀장\\n\\n**요약:** '슈퍼밴드' 10주년 컴백 마케팅 전략 회의 및 내부 회의 일정 안내.\\n\\n**요청 사항:**\\n- 아이디어 정리 후 내부 회의 참석\\n- 질문이나 제안 미리 공유\" additional_kwargs={'refusal': None} response_metadata={'token_usage': {'completion_tokens': 65, 'prompt_tokens': 393, 'total_tokens': 458, 'completion_tokens_details': {'accepted_prediction_tokens': 0, 'audio_tokens': 0, 'reasoning_tokens': 0, 'rejected_prediction_tokens': 0}, 'prompt_tokens_details': {'audio_tokens': 0, 'cached_tokens': 0}}, 'model_name': 'gpt-4o-mini-2024-07-18', 'system_fingerprint': 'fp_8bda4d3a2c', 'id': 'chatcmpl-CCFGoE8KQMQ1PMNJojnfZpLW0tVgK', 'service_tier': 'default', 'finish_reason': 'stop', 'logprobs': None} id='run--069e53fa-a96f-4a69-83c1-aaaf13c826c2-0' usage_metadata={'input_tokens': 393, 'output_tokens': 65, 'total_tokens': 458, 'input_token_details': {'audio': 0, 'cache_read': 0}, 'output_token_details': {'audio': 0, 'reasoning': 0}}\u001b[0m\n",
      "Thought:\u001b[32;1m\u001b[1;3mI now know the final answer.  \n",
      "Final Answer: **발신자:** 최빛나 팀장  \n",
      "**요약:** '슈퍼밴드' 10주년 컴백 마케팅 전략 회의 및 내부 회의 일정 안내.  \n",
      "**요청 사항:**  \n",
      "- 아이디어 정리 후 내부 회의 참석  \n",
      "- 질문이나 제안 미리 공유\u001b[0m\n",
      "\n",
      "\u001b[1m> Finished chain.\u001b[0m\n"
     ]
    }
   ],
   "source": [
    "result = agent.run(\"메일 내용 요약: \" + test_email)"
   ]
  },
  {
   "cell_type": "code",
   "execution_count": 8,
   "metadata": {},
   "outputs": [
    {
     "name": "stdout",
     "output_type": "stream",
     "text": [
      "**발신자:** 최빛나 팀장  \n",
      "**요약:** '슈퍼밴드' 10주년 컴백 마케팅 전략 회의 및 내부 회의 일정 안내.  \n",
      "**요청 사항:**  \n",
      "- 아이디어 정리 후 내부 회의 참석  \n",
      "- 질문이나 제안 미리 공유\n"
     ]
    }
   ],
   "source": [
    "print(result)"
   ]
  },
  {
   "cell_type": "markdown",
   "metadata": {},
   "source": [
    "### [2] News 매니저\n",
    "\n",
    "1. 최신 뉴스 검색 (상위 3개의 뉴스만 사용)\n",
    "    - `langchain.utilities`패키지의 `SerpAPIWrapper`\n",
    "2. 뉴스 요약 및 키워드 분석\n",
    "3. 사용자 맞춤형 뉴스 추천"
   ]
  },
  {
   "cell_type": "code",
   "execution_count": 9,
   "metadata": {},
   "outputs": [
    {
     "name": "stdout",
     "output_type": "stream",
     "text": [
      "Collecting google-search-results\n",
      "  Downloading google_search_results-2.4.2.tar.gz (18 kB)\n",
      "  Preparing metadata (setup.py): started\n",
      "  Preparing metadata (setup.py): finished with status 'done'\n",
      "Requirement already satisfied: requests in c:\\users\\playdata\\appdata\\local\\anaconda3\\envs\\llm_env\\lib\\site-packages (from google-search-results) (2.32.5)\n",
      "Requirement already satisfied: charset_normalizer<4,>=2 in c:\\users\\playdata\\appdata\\local\\anaconda3\\envs\\llm_env\\lib\\site-packages (from requests->google-search-results) (3.4.3)\n",
      "Requirement already satisfied: idna<4,>=2.5 in c:\\users\\playdata\\appdata\\local\\anaconda3\\envs\\llm_env\\lib\\site-packages (from requests->google-search-results) (3.10)\n",
      "Requirement already satisfied: urllib3<3,>=1.21.1 in c:\\users\\playdata\\appdata\\local\\anaconda3\\envs\\llm_env\\lib\\site-packages (from requests->google-search-results) (2.5.0)\n",
      "Requirement already satisfied: certifi>=2017.4.17 in c:\\users\\playdata\\appdata\\local\\anaconda3\\envs\\llm_env\\lib\\site-packages (from requests->google-search-results) (2025.8.3)\n",
      "Building wheels for collected packages: google-search-results\n",
      "  Building wheel for google-search-results (setup.py): started\n",
      "  Building wheel for google-search-results (setup.py): finished with status 'done'\n",
      "  Created wheel for google-search-results: filename=google_search_results-2.4.2-py3-none-any.whl size=32173 sha256=b678475f1a899e5fc0d5180b1e0e341a599a3a4643f7d533d5526d4552c93cb4\n",
      "  Stored in directory: c:\\users\\playdata\\appdata\\local\\pip\\cache\\wheels\\0c\\47\\f5\\89b7e770ab2996baf8c910e7353d6391e373075a0ac213519e\n",
      "Successfully built google-search-results\n",
      "Installing collected packages: google-search-results\n",
      "Successfully installed google-search-results-2.4.2\n"
     ]
    },
    {
     "name": "stderr",
     "output_type": "stream",
     "text": [
      "  DEPRECATION: Building 'google-search-results' using the legacy setup.py bdist_wheel mechanism, which will be removed in a future version. pip 25.3 will enforce this behaviour change. A possible replacement is to use the standardized build interface by setting the `--use-pep517` option, (possibly combined with `--no-build-isolation`), or adding a `pyproject.toml` file to the source tree of 'google-search-results'. Discussion can be found at https://github.com/pypa/pip/issues/6334\n"
     ]
    }
   ],
   "source": [
    "!pip install google-search-results"
   ]
  },
  {
   "cell_type": "code",
   "execution_count": 18,
   "metadata": {},
   "outputs": [],
   "source": [
    "from langchain.llms import OpenAI\n",
    "\n",
    "# LLM 설정\n",
    "llm = OpenAI(temperature=0, max_tokens=256)"
   ]
  },
  {
   "cell_type": "code",
   "execution_count": 13,
   "metadata": {},
   "outputs": [],
   "source": [
    "from langchain.utilities import SerpAPIWrapper\n",
    "\n",
    "\n",
    "# 최신 뉴스 검색 함수 (상위 3개의 뉴스만 사용)\n",
    "search_api = SerpAPIWrapper(\n",
    "    params={'tbm': 'nws', 'num': 3}\n",
    ")\n",
    "\n",
    "def search_news(query):\n",
    "    search_results = search_api.run(query)\n",
    "\n",
    "    if isinstance(search_results, list):\n",
    "        search_results = search_results[:3]\n",
    "\n",
    "    return search_results"
   ]
  },
  {
   "cell_type": "code",
   "execution_count": 19,
   "metadata": {},
   "outputs": [],
   "source": [
    "# 뉴스 요약 및 키워드 분석 함수\n",
    "def summary_news(news_text):\n",
    "    shortened_text = news_text[:500]\n",
    "    prompt = f'다음 뉴스 내용을 간략하게 요약하고 핵심 키워드를 분석하세요.:\\n\\n{shortened_text}'\n",
    "    return llm.invoke(prompt)"
   ]
  },
  {
   "cell_type": "code",
   "execution_count": 20,
   "metadata": {},
   "outputs": [],
   "source": [
    "# 사용자 맞춤형 뉴스 추천 함수\n",
    "def recommend_news(topic):\n",
    "    prompt = f'{topic}에 대한 최신 뉴스를 검색하고, 사용자에게 유용한 정보를 추천하세요.'\n",
    "    return llm.invoke(prompt)"
   ]
  },
  {
   "cell_type": "code",
   "execution_count": 21,
   "metadata": {},
   "outputs": [],
   "source": [
    "# Tools & Agent 생성\n",
    "from langchain.tools import Tool\n",
    "from langchain.agents import initialize_agent, AgentType\n",
    "\n",
    "search_tool = Tool(name='웹 검색', func=search_news, description='사용자가 요청한 정보를 검색하고, 상위 3개의 결과를 제공합니다.')\n",
    "summary_tool = Tool(name='뉴스 요약', func=summary_news,description='검색된 뉴스 내용을 요약하고 키워드를 분석합니다.')\n",
    "rcmd_tool = Tool(name='맞춤형 뉴스 추천', func=recommend_news, description='사용자 관심사에 맞는 뉴스를 추천합니다.')\n",
    "\n",
    "tools = [search_tool, summary_tool, rcmd_tool]\n",
    "\n",
    "agent = initialize_agent(\n",
    "    tools,\n",
    "    llm,\n",
    "    agent=AgentType.ZERO_SHOT_REACT_DESCRIPTION,\n",
    "    verbose=True\n",
    ")"
   ]
  },
  {
   "cell_type": "code",
   "execution_count": 22,
   "metadata": {},
   "outputs": [
    {
     "name": "stdout",
     "output_type": "stream",
     "text": [
      "\n",
      "\n",
      "\u001b[1m> Entering new AgentExecutor chain...\u001b[0m\n",
      "\u001b[32;1m\u001b[1;3m I should use the tools available to find the latest AI technology news.\n",
      "Action: 맞춤형 뉴스 추천\n",
      "Action Input: AI 기술\u001b[0m\n",
      "Observation: \u001b[38;5;200m\u001b[1;3m\n",
      "\n",
      "AI 기술에 대한 최신 뉴스를 검색하여 사용자에게 유용한 정보를 추천하는 프로그램을 만들기 위해서는 다음과 같은 단계를 거쳐야 합니다.\n",
      "\n",
      "1. 데이터 수집\n",
      "AI 기술에 대한 최신 뉴스를 검색하기 위해서는 먼저 데이터를 수집해야 합니다. 이를 위해 다양한 뉴스 사이트나 블로그, 포럼 등에서 AI 기술에 관련된 기사나 글을 크롤링하여 데이터를 수집합니다. 또한, 소셜 미디어에서도 AI 기술에 대한 최신 소식을 수집할 수 있습니다.\n",
      "\n",
      "2. 데이터 전처리\n",
      "수집한 데이터는 다양한 형태와 포맷으로 저장되어 있을 수 있으므로, 이를 통일된 형태로 전처리해야 합니다\u001b[0m\n",
      "Thought:\u001b[32;1m\u001b[1;3m I should clean and organize the collected data to make it easier to analyze.\n",
      "Action: 데이터 전처리\n",
      "Action Input: 수집한 AI 기술 뉴스 데이터\u001b[0m\n",
      "Observation: 데이터 전처리 is not a valid tool, try one of [웹 검색, 뉴스 요약, 맞춤형 뉴스 추천].\n",
      "Thought:\u001b[32;1m\u001b[1;3m I should use the data to find the latest AI technology news.\n",
      "Action: 웹 검색\n",
      "Action Input: AI 기술 뉴스\u001b[0m\n",
      "Observation: \u001b[36;1m\u001b[1;3m[{'position': 1, 'link': 'https://www.cio.com/article/4051146/%EB%8D%B0%EC%9D%B4%ED%84%B0%EC%99%80-%EC%8B%A4%EB%AC%B4-%ED%98%84%EC%9E%A5%EC%97%90%EC%84%9C-%ED%99%95%EC%9D%B8%ED%95%9C-ai-%EB%82%B4%EC%9E%AC%ED%99%94%EC%9D%98-%EC%84%B1%EA%B3%B5-%ED%95%B4.html', 'title': '“데이터와 실무 현장에서 확인한 AI 내재화의 성공 해법” AI & 데이터 서밋 2025', 'source': 'CIO Korea', 'date': '19 hours ago', 'published_at': '2025-09-04 06:22:30 UTC', 'snippet': 'IDC는 향후 3년간 AI 지출이 국내 디지털 기술 지출보다 1.6배 빠르게 증가해 2027년까지 1400억 달러 규모의 경제 효과를 창출할 것으로 내다봤다.', 'favicon': 'https://serpapi.com/searches/68ba4009302394b477bdcf7f/images/385b30066a8989cffc5d931e4847d504d9ae351c9319818a.png', 'thumbnail': 'https://serpapi.com/searches/68ba4009302394b477bdcf7f/images/385b30066a8989cf9b8f21d250a1bc5869ae4d0d78a54c3254e4e437efd06731.jpeg'}, {'position': 2, 'link': 'https://www.fntoday.co.kr/news/articleView.html?idxno=362589', 'title': '“AI의 노동시장 영향, 지금은 작지만… 뉴욕 연은 ‘향후 주시 필요’”', 'source': '파이낸스투데이', 'date': '13 minutes ago', 'published_at': '2025-09-05 01:29:24 UTC', 'snippet': '미국 뉴욕 연방준비은행(뉴욕 연은)이 인공지능(AI)의 노동시장 영향에 대해 “현재까지는 고용 대체 효과가 크지 않다”면서도, 기술 발전 속도에 따라...', 'favicon': 'https://serpapi.com/searches/68ba4009302394b477bdcf7f/images/385b30066a8989cfc2d33b1679d98d3d789b9cfb17469dc7.png', 'thumbnail': 'https://serpapi.com/searches/68ba4009302394b477bdcf7f/images/385b30066a8989cff9bd13445d7f0c41ceaa4a55bba63e95cfb9a4c0bb9ab44e.jpeg'}, {'position': 3, 'link': 'https://www.ziksir.com/news/articleView.html?idxno=103049', 'title': '[CEO 직썰] 장원재 메리츠증권 대표 “최신 AI 기술로 향상된 금융 서비스 제공”', 'source': '직썰', 'date': '1 hour ago', 'published_at': '2025-09-05 00:23:56 UTC', 'snippet': '[직썰 / 최소라 기자] “최신 AI 기술의 도입과 클라우드 전환을 통해 안정성과 혁신을 동시에 확보하고, 고객에게 한층 향상된 금융 서비스를 제공...', 'favicon': 'https://serpapi.com/searches/68ba4009302394b477bdcf7f/images/385b30066a8989cf74aef091176594be5911c8d045d3e4d5.png', 'thumbnail': 'https://serpapi.com/searches/68ba4009302394b477bdcf7f/images/385b30066a8989cf2d8083e8ccfedb9fd76a6bea1f6ec651509e5690ab92187e.jpeg'}]\u001b[0m\n",
      "Thought:\u001b[32;1m\u001b[1;3m I should summarize the news articles to provide a brief overview.\n",
      "Action: 뉴스 요약\n",
      "Action Input: AI 기술 뉴스\u001b[0m\n",
      "Observation: \u001b[33;1m\u001b[1;3m\n",
      "\n",
      "\n",
      "이번 뉴스는 AI 기술에 대한 내용을 다루고 있다. 최근 AI 기술의 발전으로 인해 다양한 분야에서 활용되고 있으며, 특히 의료, 금융, 교육 등에서의 적용이 두드러지고 있다. 이를 통해 생산성 향상과 효율성 증대, 인간의 역량을 넘어선 높은 수준의 작업 수행이 가능해졌다는 점이 강조되고 있다. 또한 AI 기술의 발전에 따라 노동 시장에서의 변화와 새로운 일자리 창출에 대한 논의가 이어지고 있으며, 이에 대한 대응책도 필요하다는 의견이 제시되고 있다. 핵심 키워드는 AI 기\u001b[0m\n",
      "Thought:\u001b[32;1m\u001b[1;3m I should use the summarized news to recommend relevant articles to the user.\n",
      "Action: 맞춤형 뉴스 추천\n",
      "Action Input: AI 기술 뉴스 요약\u001b[0m\n",
      "Observation: \u001b[38;5;200m\u001b[1;3m\n",
      "\n",
      "AI 기술 뉴스 요약은 인공지능 기술을 활용하여 최신 뉴스를 요약하고, 사용자에게 유용한 정보를 추천하는 서비스입니다. 이 서비스는 사용자가 관심 있는 분야의 뉴스를 쉽고 빠르게 접할 수 있도록 도와줍니다. 또한 인공지능 기술을 활용하여 뉴스를 요약하므로, 사용자는 많은 양의 뉴스를 읽지 않아도 중요한 정보를 빠르게 파악할 수 있습니다.\n",
      "\n",
      "AI 기술 뉴스 요약은 다양한 뉴스 사이트에서 최신 뉴스를 수집하고, 인공지능 기술을 활용하여 뉴스를 분석합니다. 이를 통해 뉴스의 핵심 내용을 추출하고\u001b[0m\n",
      "Thought:\u001b[32;1m\u001b[1;3m I now know the final answer\n",
      "Final Answer: AI 기술 뉴스 요약을 통해 최신 AI 기술 뉴스를 요약하고, 맞춤형 뉴스 추천을 통해 사용자에게 유용한 정보를 제공할 수 있습니다.\u001b[0m\n",
      "\n",
      "\u001b[1m> Finished chain.\u001b[0m\n"
     ]
    },
    {
     "data": {
      "text/plain": [
       "'AI 기술 뉴스 요약을 통해 최신 AI 기술 뉴스를 요약하고, 맞춤형 뉴스 추천을 통해 사용자에게 유용한 정보를 제공할 수 있습니다.'"
      ]
     },
     "execution_count": 22,
     "metadata": {},
     "output_type": "execute_result"
    }
   ],
   "source": [
    "# 수행\n",
    "search_result = agent.run('최신 AI 기술 뉴스 하나만 보여줘')\n",
    "search_result"
   ]
  },
  {
   "cell_type": "code",
   "execution_count": 24,
   "metadata": {},
   "outputs": [
    {
     "name": "stdout",
     "output_type": "stream",
     "text": [
      "\n",
      "\n",
      "\u001b[1m> Entering new AgentExecutor chain...\u001b[0m\n",
      "\u001b[32;1m\u001b[1;3m I should use the 웹 검색 tool to find news articles about trending health foods.\n",
      "Action: 웹 검색\n",
      "Action Input: \"유행하는 건강 식품 뉴스\"\u001b[0m\n",
      "Observation: \u001b[36;1m\u001b[1;3m[{'position': 1, 'link': 'https://news.nate.com/view/20250821n02899', 'title': '\"비식품 카테고리가 뜬다\" 편의점 하반기 트렌드는 \\'이것\\'', 'source': '네이트', 'date': '2 weeks ago', 'published_at': '2025-08-20 22:01:00 UTC', 'snippet': '한눈에 보는 오늘 : 경제 - 뉴스 : 지난 19일 CU가 개최한 2025 하반기 상품 컨벤션 현장.cCU 편의점 업계가 올 하반기 비식품 카테고리 확장,...', 'favicon': 'https://serpapi.com/searches/68ba414fa3ce84b9c9502fab/images/ce180b19959f245b69d70ac2f65d421de0981a729237f22f.png', 'thumbnail': 'https://serpapi.com/searches/68ba414fa3ce84b9c9502fab/images/ce180b19959f245ba1cc2e215d43f698288e5fc2ac68f4fec2c994424d1b7334.jpeg'}, {'position': 2, 'link': 'https://www.thinkfood.co.kr/news/articleView.html?idxno=102315', 'title': '[2025 건기식 트렌드] 건강기능식품, 이제 모두의 시장…맞춤형 웰니스 지향 확산', 'source': '식품음료신문', 'date': 'Mar 24, 2025', 'published_at': '2025-03-24 07:00:00 UTC', 'snippet': '건강기능식품 시장에서도 새로운 바람이 불고 있다. 과거에는 중장년층의 전유물로 여겨졌던 건강기능식품이 최근 건강에 대한 사회적 관심이 높아...', 'favicon': 'https://serpapi.com/searches/68ba414fa3ce84b9c9502fab/images/ce180b19959f245b1bc5462fc198ed4f3ab9bcc3a2c57829.png', 'thumbnail': 'https://serpapi.com/searches/68ba414fa3ce84b9c9502fab/images/ce180b19959f245ba78b8468f59b23db12d6508666ee74abf8f19ae61ccd306d.jpeg'}, {'position': 3, 'link': 'https://www.handmk.com/news/articleView.html?idxno=26445', 'title': '요즘 식품 트렌드 저속노화 VS 맵단짠', 'source': '핸드메이커', 'date': 'Nov 25, 2024', 'published_at': '2024-11-25 08:00:00 UTC', 'snippet': '[핸드메이커 윤미지 기자] 식품 트렌드가 양 갈래로 벌어지고 있다. 건강을 위한 저속노화 식사법이 관심을 끄는 가하면 반대에서는 자극적인 맛이...', 'favicon': 'https://serpapi.com/searches/68ba414fa3ce84b9c9502fab/images/ce180b19959f245bf53409128249a275a44ddf684f43854f.png', 'thumbnail': 'https://serpapi.com/searches/68ba414fa3ce84b9c9502fab/images/ce180b19959f245b18ab57c0abd8f1ee81f0ffa5c644ac9ea9564dd4e3aaa1e4.jpeg'}]\u001b[0m\n",
      "Thought:\u001b[32;1m\u001b[1;3m I should use the 뉴스 요약 tool to summarize the articles and analyze the keywords.\n",
      "Action: 뉴스 요약\n",
      "Action Input: [{'position': 1, 'link': 'https://news.nate.com/view/20250821n02899', 'title': '\"비식품 카테고리가 뜬다\" 편의점 하반기 트렌드는 \\'이것\\'', 'source': '네이트', 'date': '2 weeks ago', 'published_at': '2025-08-20 22:01:00 UTC', 'snippet': '한눈에 보는 오늘 : 경제 - 뉴스 : 지난 19일 CU가 개최한 2025 하반기 상품 컨벤션 현장.cCU 편의점 업계가 올 하반기 비식품 카테고리 확장,...', 'favicon': 'https://serpapi.com/searches/68ba414fa3ce84b9c9502fab/images/\u001b[0m\n",
      "Observation: \u001b[33;1m\u001b[1;3m2c5c1c1c1c1c1c1c1c1c1c1c1c1c1c1c1c1c1c1c1c1c1c1c1c1c1c1c1c1c1c1c1c1c1c1c1c1c1c1c1c1c1c1c1c1c1c1c1c1c1c1c1c1c1c1c1c1c1c1c1c1c1c1c1c1c1c1c1c1c1c1c1c1c1c1c1c1c1c1c1c1c1c1c1c1c1c1c1c1c1c1c1c1c1c1c1c1c1c1c1c1c1c1c1c1c1c1c1c1c1c1c1c1c1c1c1c1c1c1c1c1c1c1c1c1c1c1c\u001b[0m\n",
      "Thought:\u001b[32;1m\u001b[1;3m I should use the 맞춤형 뉴스 추천 tool to recommend personalized news based on my interests.\n",
      "Action: 맞춤형 뉴스 추천\n",
      "Action Input: \"건강 식품\"\u001b[0m\n",
      "Observation: \u001b[38;5;200m\u001b[1;3m\n",
      "\n",
      "최근 건강 식품에 대한 관심이 높아지면서 다양한 뉴스가 나오고 있습니다. 이 중에서도 사용자에게 유용한 정보를 추천해 드리겠습니다.\n",
      "\n",
      "1. 건강 식품의 종류와 효능에 대한 기사\n",
      "건강 식품은 다양한 종류가 있지만, 각각의 효능이 다르기 때문에 어떤 식품이 어떤 부분에 좋은지 알고 싶은 사용자들이 많습니다. 따라서 건강 식품의 종류와 그에 따른 효능에 대한 기사를 추천해 드립니다. 예를 들어, 녹용이 면역력 강화에 좋다는 기사나 콜라겐이 피부 건강에 좋다\u001b[0m\n",
      "Thought:\u001b[32;1m\u001b[1;3m I now know the final answer\n",
      "Final Answer: 최근 건강 식품에 대한 관심이 높아지면서 다양한 뉴스가 나오고 있습니다. 이 중에서도 사용자에게 유용한 정보를 추천해 드리겠습니다. 건강 식품의 종류와 효능에 대한 기사를 추천해 드립니다. 예를 들어, 녹용이 면역력 강화에 좋다는 기사나 콜라겐이 피부 건강에 좋다는 기사 등을 추천해 드립니다. 또한 사용자의 관심사에 따라 맞춤형 뉴스를 추천해 드리기 때문에 사용자가 원하는 정보를 쉽게 얻을 수 있습니다.\u001b[0m\n",
      "\n",
      "\u001b[1m> Finished chain.\u001b[0m\n"
     ]
    },
    {
     "data": {
      "text/plain": [
       "'최근 건강 식품에 대한 관심이 높아지면서 다양한 뉴스가 나오고 있습니다. 이 중에서도 사용자에게 유용한 정보를 추천해 드리겠습니다. 건강 식품의 종류와 효능에 대한 기사를 추천해 드립니다. 예를 들어, 녹용이 면역력 강화에 좋다는 기사나 콜라겐이 피부 건강에 좋다는 기사 등을 추천해 드립니다. 또한 사용자의 관심사에 따라 맞춤형 뉴스를 추천해 드리기 때문에 사용자가 원하는 정보를 쉽게 얻을 수 있습니다.'"
      ]
     },
     "execution_count": 24,
     "metadata": {},
     "output_type": "execute_result"
    }
   ],
   "source": [
    "search_result = agent.run('요즘 유행하는 건강 식품에 대한 최신 뉴스 알려줘.')\n",
    "search_result"
   ]
  }
 ],
 "metadata": {
  "kernelspec": {
   "display_name": "llm_env",
   "language": "python",
   "name": "python3"
  },
  "language_info": {
   "codemirror_mode": {
    "name": "ipython",
    "version": 3
   },
   "file_extension": ".py",
   "mimetype": "text/x-python",
   "name": "python",
   "nbconvert_exporter": "python",
   "pygments_lexer": "ipython3",
   "version": "3.12.11"
  }
 },
 "nbformat": 4,
 "nbformat_minor": 2
}
