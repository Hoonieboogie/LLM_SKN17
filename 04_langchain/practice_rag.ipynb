{
 "cells": [
  {
   "cell_type": "markdown",
   "id": "dc81d521",
   "metadata": {},
   "source": [
    "# AI FAQ 챗봇 만들기 with simple RAG"
   ]
  },
  {
   "cell_type": "code",
   "execution_count": 123,
   "id": "81375d4a",
   "metadata": {},
   "outputs": [
    {
     "data": {
      "text/plain": [
       "True"
      ]
     },
     "execution_count": 123,
     "metadata": {},
     "output_type": "execute_result"
    }
   ],
   "source": [
    "# 환경 설정\n",
    "from dotenv import load_dotenv, find_dotenv\n",
    "load_dotenv()"
   ]
  },
  {
   "cell_type": "markdown",
   "id": "59690d97",
   "metadata": {},
   "source": [
    "1. 데이터 로드"
   ]
  },
  {
   "cell_type": "code",
   "execution_count": 124,
   "id": "64891816",
   "metadata": {},
   "outputs": [
    {
     "name": "stdout",
     "output_type": "stream",
     "text": [
      "<class 'list'>\n",
      "{'question': '반품 정책이 어떻게 되나요?', 'answer': '제품을 수령한 후 14일 이내에 반품이 가능합니다. 반품 신청은 고객센터에서 도와드립니다.'}\n"
     ]
    },
    {
     "data": {
      "text/plain": [
       "[Document(metadata={'page': 1}, page_content='질문: 반품 정책이 어떻게 되나요?, 답변: 제품을 수령한 후 14일 이내에 반품이 가능합니다. 반품 신청은 고객센터에서 도와드립니다.'),\n",
       " Document(metadata={'page': 2}, page_content='질문: 배송은 얼마나 걸리나요?, 답변: 일반적으로 2~5일 정도 소요되며, 지역에 따라 다를 수 있습니다.'),\n",
       " Document(metadata={'page': 3}, page_content='질문: 회원가입 없이 주문할 수 있나요?, 답변: 네, 비회원 주문이 가능합니다. 다만, 주문 조회 및 혜택을 받기 위해 회원가입을 추천드립니다.'),\n",
       " Document(metadata={'page': 4}, page_content='질문: 포인트 적립은 어떻게 되나요?, 답변: 구매 금액의 1%가 적립되며, 특별 프로모션 기간 동안 추가 적립이 가능합니다.'),\n",
       " Document(metadata={'page': 5}, page_content='질문: 해외 배송이 가능한가요?, 답변: 일부 국가를 대상으로 해외 배송이 가능하며, 배송비는 지역에 따라 상이할 수 있습니다.'),\n",
       " Document(metadata={'page': 6}, page_content='질문: 제품 보증 기간은 얼마나 되나요?, 답변: 제품 보증 기간은 기본적으로 1년이며, 일부 제품은 연장 보증이 가능합니다.'),\n",
       " Document(metadata={'page': 7}, page_content='질문: A/S 신청은 어떻게 하나요?, 답변: 공식 홈페이지 또는 고객센터를 통해 A/S 신청이 가능합니다.'),\n",
       " Document(metadata={'page': 8}, page_content='질문: 재고가 없는 상품은 언제 다시 입고되나요?, 답변: 입고 일정은 상품마다 다르며, 알림 설정을 통해 입고 시 안내받을 수 있습니다.'),\n",
       " Document(metadata={'page': 9}, page_content='질문: 구매 후 영수증을 받을 수 있나요?, 답변: 네, 주문 내역에서 전자 영수증을 다운로드할 수 있습니다.'),\n",
       " Document(metadata={'page': 10}, page_content='질문: 다른 사람이 대신 주문을 수령할 수 있나요?, 답변: 네, 수령인을 지정할 수 있으며 신분증 확인 후 수령 가능합니다.'),\n",
       " Document(metadata={'page': 11}, page_content='질문: 결제 방법에는 어떤 것이 있나요?, 답변: 신용카드, 계좌이체, 모바일 결제 등 다양한 방법을 지원합니다.'),\n",
       " Document(metadata={'page': 12}, page_content='질문: 배송 주소를 변경할 수 있나요?, 답변: 출고 전이라면 고객센터를 통해 배송 주소 변경이 가능합니다.'),\n",
       " Document(metadata={'page': 13}, page_content='질문: 구매 후 취소할 수 있나요?, 답변: 상품이 출고되지 않은 상태라면 주문 취소가 가능합니다.')]"
      ]
     },
     "execution_count": 124,
     "metadata": {},
     "output_type": "execute_result"
    }
   ],
   "source": [
    "from langchain_core.documents import Document\n",
    "import json\n",
    "\n",
    "with open('faq_chatbot_data.json', 'r') as f:\n",
    "    data = json.load(f)\n",
    "\n",
    "print(type(data))\n",
    "print(data[0])\n",
    "\n",
    "docs = []\n",
    "for i,d  in enumerate(data):\n",
    "    doc = Document(\n",
    "        page_content = f\"질문: {d['question']}, 답변: {d['answer']}\",\n",
    "        metadata = {\n",
    "            'page': i+1 \n",
    "        }\n",
    "    )\n",
    "    docs.append(doc)\n",
    "\n",
    "\n",
    "docs"
   ]
  },
  {
   "cell_type": "markdown",
   "id": "b701049f",
   "metadata": {},
   "source": [
    "2. Embedding 모델 및 vector store 생성"
   ]
  },
  {
   "cell_type": "code",
   "execution_count": 125,
   "id": "ba5d2bd8",
   "metadata": {},
   "outputs": [],
   "source": [
    "from langchain_openai import OpenAIEmbeddings\n",
    "\n",
    "embedding_model = OpenAIEmbeddings(model='text-embedding-3-small')"
   ]
  },
  {
   "cell_type": "code",
   "execution_count": 126,
   "id": "713275a9",
   "metadata": {},
   "outputs": [],
   "source": [
    "from langchain_chroma.vectorstores import Chroma\n",
    "\n",
    "vector_store = Chroma.from_documents(docs, embedding_model)"
   ]
  },
  {
   "cell_type": "markdown",
   "id": "d8e57bd5",
   "metadata": {},
   "source": [
    "3. LLM 설정 (모델 생성)"
   ]
  },
  {
   "cell_type": "code",
   "execution_count": 127,
   "id": "fd16ac80",
   "metadata": {},
   "outputs": [],
   "source": [
    "from langchain_openai import ChatOpenAI\n",
    "\n",
    "model = ChatOpenAI(\n",
    "    model = 'gpt-4o-mini',\n",
    "    temperature=0\n",
    ")"
   ]
  },
  {
   "cell_type": "markdown",
   "id": "0bdd677a",
   "metadata": {},
   "source": [
    "4. 프롬프트 및 체인 설정\n",
    "\n",
    "[참고할 것]\n",
    "```python\n",
    "retrieval_qa = RetrievalQA.from_chain_type(\n",
    "    llm=model,\n",
    "    retriever=retriever,\n",
    "    chain_type='stuff'    \n",
    ")\n",
    "```"
   ]
  },
  {
   "cell_type": "code",
   "execution_count": 128,
   "id": "c2ee1a73",
   "metadata": {},
   "outputs": [
    {
     "name": "stdout",
     "output_type": "stream",
     "text": [
      "질문: 해외 배송이 가능한가요?, 답변: 일부 국가를 대상으로 해외 배송이 가능하며, 배송비는 지역에 따라 상이할 수 있습니다.\n"
     ]
    }
   ],
   "source": [
    "# 여기서 RAG를 구현한 것\n",
    "from langchain.chains import RetrievalQA\n",
    "\n",
    "retriever = vector_store.as_retriever()\n",
    "\n",
    "# retriever 테스트\n",
    "print(retriever.invoke('해외배송')[0].page_content)\n",
    "\n",
    "retrieval_qa = RetrievalQA.from_chain_type(\n",
    "    llm=model,\n",
    "    retriever=retriever,\n",
    "    chain_type='stuff'    \n",
    ")"
   ]
  },
  {
   "cell_type": "markdown",
   "id": "2950caf1",
   "metadata": {},
   "source": [
    "5. 테스트: 몇가지 질의를 해보기"
   ]
  },
  {
   "cell_type": "code",
<<<<<<< HEAD
   "execution_count": 129,
=======
   "execution_count": 121,
>>>>>>> 862efeb28ff0177cf4f19030bbfc1797b583b1cd
   "id": "1f2d0ac6",
   "metadata": {},
   "outputs": [],
   "source": [
    "human_input = input()\n",
    "retrieval = retriever.invoke(human_input)\n",
    "\n",
    "query= f\"\"\" \n",
    "질문: {human_input}.\n",
    "\n",
    "아래 context를 참고해서 말하고, 만약 확인할 수 없는 질문이라면 모른다고 답변해.\n",
    "context: {retrieval}\n",
    "\n",
    "<출력 형식>\n",
    "[너의 답변을 잘 정리해서 말해]\n",
    "출처: 페이지 번호\n",
    "\"\"\"\n",
    "\n",
    "response = retrieval_qa.invoke(query)"
   ]
  },
  {
   "cell_type": "code",
   "execution_count": 130,
   "id": "e441c94d",
   "metadata": {},
   "outputs": [
    {
     "data": {
      "text/plain": [
       "[Document(id='de573fb0-b2d0-4a92-99bb-e8d33c7c0a76', metadata={'page': 7}, page_content='질문: A/S 신청은 어떻게 하나요?, 답변: 공식 홈페이지 또는 고객센터를 통해 A/S 신청이 가능합니다.'),\n",
       " Document(id='e0d58ee3-2102-4d30-ac95-e014307f18cd', metadata={'page': 7}, page_content='질문: A/S 신청은 어떻게 하나요?, 답변: 공식 홈페이지 또는 고객센터를 통해 A/S 신청이 가능합니다.'),\n",
       " Document(id='1a8deba8-c104-4983-b19c-e4b829b7bfcd', metadata={}, page_content='질문: A/S 신청은 어떻게 하나요?, 답변: 공식 홈페이지 또는 고객센터를 통해 A/S 신청이 가능합니다.'),\n",
       " Document(id='127c2136-216a-4edb-a449-3a5ef60f419c', metadata={'page': 7}, page_content='질문: A/S 신청은 어떻게 하나요?, 답변: 공식 홈페이지 또는 고객센터를 통해 A/S 신청이 가능합니다.')]"
      ]
     },
     "execution_count": 130,
     "metadata": {},
     "output_type": "execute_result"
    }
   ],
   "source": [
    "retrieval # 응답 도큐먼트 뭔가 이상함"
   ]
  },
  {
   "cell_type": "code",
   "execution_count": 131,
   "id": "b95e4725",
   "metadata": {},
   "outputs": [
    {
     "name": "stdout",
     "output_type": "stream",
     "text": [
      "질문: 안녕 나는 훈이야\n",
      "답변: 안녕하세요, 훈이님! A/S 신청은 공식 홈페이지 또는 고객센터를 통해 가능합니다.\n",
      "\n",
      "출처: 페이지 7\n"
     ]
    }
   ],
   "source": [
    "print(f\"질문: {human_input}\\n답변: {response['result']}\")"
   ]
  },
  {
   "cell_type": "code",
   "execution_count": 132,
   "id": "97f8d716",
   "metadata": {},
   "outputs": [
    {
     "name": "stdout",
     "output_type": "stream",
     "text": [
      "질문: 포인트 적립은 어떻게 되나요?, 답변: 구매 금액의 1%가 적립되며, 특별 프로모션 기간 동안 추가 적립이 가능합니다.\n",
      "{'page': 4}\n"
     ]
    }
   ],
   "source": [
    "# 실제 도규먼트에서 확인\n",
    "print(docs[3].page_content)\n",
    "print(docs[3].metadata)"
   ]
  },
  {
   "cell_type": "code",
<<<<<<< HEAD
   "execution_count": 133,
=======
   "execution_count": 122,
>>>>>>> 862efeb28ff0177cf4f19030bbfc1797b583b1cd
   "id": "df6ff000",
   "metadata": {},
   "outputs": [
    {
     "name": "stdout",
     "output_type": "stream",
     "text": [
<<<<<<< HEAD
      "질문: 안녕 나는 훈이야\n",
      "답변: 안녕하세요, 훈이님! A/S 신청은 공식 홈페이지 또는 고객센터를 통해 가능합니다.\n",
      "\n",
      "출처: 페이지 7\n"
=======
      "질문: 떡꼬치는 얼마야?\n",
      "답변: 모르겠습니다. 떡꼬치의 가격에 대한 정보는 제공되지 않았습니다.  \n",
      "출처: 없음\n"
>>>>>>> 862efeb28ff0177cf4f19030bbfc1797b583b1cd
     ]
    }
   ],
   "source": [
    "# 테스트 2\n",
    "print(f\"질문: {human_input}\\n답변: {response['result']}\")"
   ]
  }
 ],
 "metadata": {
  "kernelspec": {
   "display_name": "llm_env",
   "language": "python",
   "name": "python3"
  },
  "language_info": {
   "codemirror_mode": {
    "name": "ipython",
    "version": 3
   },
   "file_extension": ".py",
   "mimetype": "text/x-python",
   "name": "python",
   "nbconvert_exporter": "python",
   "pygments_lexer": "ipython3",
   "version": "3.12.11"
  }
 },
 "nbformat": 4,
 "nbformat_minor": 5
}
