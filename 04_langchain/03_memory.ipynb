{
 "cells": [
  {
   "cell_type": "markdown",
   "id": "c1e9d889",
   "metadata": {},
   "source": [
    "# Memory"
   ]
  },
  {
   "cell_type": "code",
   "execution_count": 29,
   "id": "257b07dd",
   "metadata": {},
   "outputs": [
    {
     "data": {
      "text/plain": [
       "True"
      ]
     },
     "execution_count": 29,
     "metadata": {},
     "output_type": "execute_result"
    }
   ],
   "source": [
    "from dotenv import load_dotenv\n",
    "load_dotenv()"
   ]
  },
  {
   "cell_type": "code",
   "execution_count": 30,
   "id": "f19c348c",
   "metadata": {},
   "outputs": [],
   "source": [
    "from langchain_core.chat_history import BaseChatMessageHistory\n",
    "\n",
    "\n",
    "class InMemoryHistory(BaseChatMessageHistory):\n",
    "    def __init__(self):\n",
    "        super().__init__()\n",
    "        self.messages = []\n",
    "    \n",
    "    def add_messages(self, messages):\n",
    "        self.messages.extend(messages)\n",
    "        \n",
    "    def clear(self):\n",
    "        self.messages = []\n",
    "        \n",
    "    def __repr__(self):\n",
    "        return f'InMemoryHistory(messages={str(self.messages)})'"
   ]
  },
  {
   "cell_type": "code",
   "execution_count": 31,
   "id": "21b54eb7",
   "metadata": {},
   "outputs": [],
   "source": [
    "# item(key=session_id, value=InMemotyHisotry인스턴스)\n",
    "store = {}\n",
    "\n",
    "def get_by_session_id(session_id):\n",
    "    if session_id not in store:\n",
    "        store[session_id] = InMemoryHistory()\n",
    "    return store[session_id]"
   ]
  },
  {
   "cell_type": "code",
   "execution_count": 32,
   "id": "3b44e777",
   "metadata": {},
   "outputs": [
    {
     "name": "stdout",
     "output_type": "stream",
     "text": [
      "{'user1': InMemoryHistory(messages=[HumanMessage(content='점심 뭐 먹지?', additional_kwargs={}, response_metadata={})])}\n"
     ]
    }
   ],
   "source": [
    "from langchain_core.messages import HumanMessage\n",
    "\n",
    "history = get_by_session_id('user1')\n",
    "history.add_message(HumanMessage(content='점심 뭐 먹지?'))\n",
    "print(store)"
   ]
  },
  {
   "cell_type": "code",
   "execution_count": null,
   "id": "9e0151b0",
   "metadata": {},
   "outputs": [],
   "source": [
    "from langchain_openai import ChatOpenAI\n",
    "from langchain_core.prompts import ChatPromptTemplate, MessagesPlaceholder\n",
    "from langchain_core.runnables.history import RunnableWithMessageHistory\n",
    "from langchain_core.prompts.chat import SystemMessagePromptTemplate, HumanMessagePromptTemplate\n",
    "\n",
    "\"\"\"\n",
    "prompt = ChatPromptTemplate.from_messages([\n",
    "    ('system', '너는 {skill}을 잘하는 AI 어시스턴트야'),\n",
    "    MessagesPlaceholder(variable_name='history'),\n",
    "    ('human', '{query}')\n",
    "]) \n",
    "\"\"\"\n",
    "\n",
    "prompt = ChatPromptTemplate.from_messages([\n",
    "    SystemMessagePromptTemplate.from_template('너는 {skill}을 잘하는 AI 어시스턴트야'),\n",
    "    MessagesPlaceholder(variable_name='history'),\n",
    "    HumanMessagePromptTemplate('{query}')\n",
    "])\n",
    "model = ChatOpenAI(model='gpt-4o-mini')\n",
    "\n",
    "chain = prompt | model\n",
    "\n",
    "chain_with_history = RunnableWithMessageHistory(\n",
    "    chain,\n",
    "    get_session_history=get_by_session_id,\n",
    "    input_messages_key='query',\n",
    "    history_messages_key='history'\n",
    ")"
   ]
  },
  {
   "cell_type": "code",
   "execution_count": 34,
   "id": "468462e7",
   "metadata": {},
   "outputs": [
    {
     "name": "stdout",
     "output_type": "stream",
     "text": [
      "content='다람쥐가 도토리 나무를 키우고 있다니 정말 귀엽고 흥미로운 설정이네요! 도토리 나무는 다람쥐에게 중요한 식량 공급원이기도 하죠. 어떤 이야기를 생각하고 계신가요? 다람쥐가 나무를 어떻게 돌보는지, 나무에서 자란 도토리를 어떻게 사용하는지에 대한 이야기도 좋을 것 같아요!' additional_kwargs={'refusal': None} response_metadata={'token_usage': {'completion_tokens': 97, 'prompt_tokens': 45, 'total_tokens': 142, 'completion_tokens_details': {'accepted_prediction_tokens': 0, 'audio_tokens': 0, 'reasoning_tokens': 0, 'rejected_prediction_tokens': 0}, 'prompt_tokens_details': {'audio_tokens': 0, 'cached_tokens': 0}}, 'model_name': 'gpt-4o-mini-2024-07-18', 'system_fingerprint': 'fp_8bda4d3a2c', 'id': 'chatcmpl-CBwbVxklFkpc5kPyn9pJaWXCoLf11', 'service_tier': 'default', 'finish_reason': 'stop', 'logprobs': None} id='run--348d8fea-ba9b-45a7-84ce-c57bb51590d6-0' usage_metadata={'input_tokens': 45, 'output_tokens': 97, 'total_tokens': 142, 'input_token_details': {'audio': 0, 'cache_read': 0}, 'output_token_details': {'audio': 0, 'reasoning': 0}}\n"
     ]
    }
   ],
   "source": [
    "response  =chain_with_history.invoke(\n",
    "    {'skill': '대화', 'query': '다람쥐는 도초리 나무 세 그루를 키우고 있다.'},\n",
    "    config={'configurable': {'session_id': 'squirrel'}}\n",
    ")\n",
    "\n",
    "print(response)"
   ]
  },
  {
   "cell_type": "code",
   "execution_count": 35,
   "id": "81bc0feb",
   "metadata": {},
   "outputs": [
    {
     "data": {
      "text/plain": [
       "{'user1': InMemoryHistory(messages=[HumanMessage(content='점심 뭐 먹지?', additional_kwargs={}, response_metadata={})]),\n",
       " 'squirrel': InMemoryHistory(messages=[HumanMessage(content='다람쥐는 도초리 나무 세 그루를 키우고 있다.', additional_kwargs={}, response_metadata={}), AIMessage(content='다람쥐가 도토리 나무를 키우고 있다니 정말 귀엽고 흥미로운 설정이네요! 도토리 나무는 다람쥐에게 중요한 식량 공급원이기도 하죠. 어떤 이야기를 생각하고 계신가요? 다람쥐가 나무를 어떻게 돌보는지, 나무에서 자란 도토리를 어떻게 사용하는지에 대한 이야기도 좋을 것 같아요!', additional_kwargs={'refusal': None}, response_metadata={'token_usage': {'completion_tokens': 97, 'prompt_tokens': 45, 'total_tokens': 142, 'completion_tokens_details': {'accepted_prediction_tokens': 0, 'audio_tokens': 0, 'reasoning_tokens': 0, 'rejected_prediction_tokens': 0}, 'prompt_tokens_details': {'audio_tokens': 0, 'cached_tokens': 0}}, 'model_name': 'gpt-4o-mini-2024-07-18', 'system_fingerprint': 'fp_8bda4d3a2c', 'id': 'chatcmpl-CBwbVxklFkpc5kPyn9pJaWXCoLf11', 'service_tier': 'default', 'finish_reason': 'stop', 'logprobs': None}, id='run--348d8fea-ba9b-45a7-84ce-c57bb51590d6-0', usage_metadata={'input_tokens': 45, 'output_tokens': 97, 'total_tokens': 142, 'input_token_details': {'audio': 0, 'cache_read': 0}, 'output_token_details': {'audio': 0, 'reasoning': 0}})])}"
      ]
     },
     "execution_count": 35,
     "metadata": {},
     "output_type": "execute_result"
    }
   ],
   "source": [
    "store"
   ]
  },
  {
   "cell_type": "code",
   "execution_count": 37,
   "id": "f9e697d2",
   "metadata": {},
   "outputs": [],
   "source": [
    "response = chain_with_history.invoke(\n",
    "    {'skill': '대화', 'query': '다람쥐는 도토리 나무를 몇 그루 가지고 있지?'},\n",
    "    config={'configurable': {'session_id': 'squirrel'}}\n",
    ")"
   ]
  },
  {
   "cell_type": "code",
   "execution_count": 38,
   "id": "a20bd743",
   "metadata": {},
   "outputs": [
    {
     "name": "stdout",
     "output_type": "stream",
     "text": [
      "content='다람쥐는 도토리 나무를 세 그루 가지고 있어요! 도토리 나무는 다람쥐에게 소중한 식량을 제공하고, 그늘을 만들어 주기도 하죠. 이 나무들로 인해 다람쥐는 더 안전하고 풍요로운 생활을 할 수 있을 것 같습니다. 더 궁금한 점이 있으신가요?' additional_kwargs={'refusal': None} response_metadata={'token_usage': {'completion_tokens': 86, 'prompt_tokens': 296, 'total_tokens': 382, 'completion_tokens_details': {'accepted_prediction_tokens': 0, 'audio_tokens': 0, 'reasoning_tokens': 0, 'rejected_prediction_tokens': 0}, 'prompt_tokens_details': {'audio_tokens': 0, 'cached_tokens': 0}}, 'model_name': 'gpt-4o-mini-2024-07-18', 'system_fingerprint': 'fp_8bda4d3a2c', 'id': 'chatcmpl-CBwcsXAhhhhgSOvDpJEyOsKxbYJeF', 'service_tier': 'default', 'finish_reason': 'stop', 'logprobs': None} id='run--a8931f2f-fd3a-457e-a8bd-869196ca0440-0' usage_metadata={'input_tokens': 296, 'output_tokens': 86, 'total_tokens': 382, 'input_token_details': {'audio': 0, 'cache_read': 0}, 'output_token_details': {'audio': 0, 'reasoning': 0}}\n"
     ]
    }
   ],
   "source": [
    "print(response)"
   ]
  },
  {
   "cell_type": "code",
   "execution_count": 39,
   "id": "19fdd4a5",
   "metadata": {},
   "outputs": [
    {
     "data": {
      "text/plain": [
       "{'user1': InMemoryHistory(messages=[HumanMessage(content='점심 뭐 먹지?', additional_kwargs={}, response_metadata={})]),\n",
       " 'squirrel': InMemoryHistory(messages=[HumanMessage(content='다람쥐는 도초리 나무 세 그루를 키우고 있다.', additional_kwargs={}, response_metadata={}), AIMessage(content='다람쥐가 도토리 나무를 키우고 있다니 정말 귀엽고 흥미로운 설정이네요! 도토리 나무는 다람쥐에게 중요한 식량 공급원이기도 하죠. 어떤 이야기를 생각하고 계신가요? 다람쥐가 나무를 어떻게 돌보는지, 나무에서 자란 도토리를 어떻게 사용하는지에 대한 이야기도 좋을 것 같아요!', additional_kwargs={'refusal': None}, response_metadata={'token_usage': {'completion_tokens': 97, 'prompt_tokens': 45, 'total_tokens': 142, 'completion_tokens_details': {'accepted_prediction_tokens': 0, 'audio_tokens': 0, 'reasoning_tokens': 0, 'rejected_prediction_tokens': 0}, 'prompt_tokens_details': {'audio_tokens': 0, 'cached_tokens': 0}}, 'model_name': 'gpt-4o-mini-2024-07-18', 'system_fingerprint': 'fp_8bda4d3a2c', 'id': 'chatcmpl-CBwbVxklFkpc5kPyn9pJaWXCoLf11', 'service_tier': 'default', 'finish_reason': 'stop', 'logprobs': None}, id='run--348d8fea-ba9b-45a7-84ce-c57bb51590d6-0', usage_metadata={'input_tokens': 45, 'output_tokens': 97, 'total_tokens': 142, 'input_token_details': {'audio': 0, 'cache_read': 0}, 'output_token_details': {'audio': 0, 'reasoning': 0}}), HumanMessage(content='토끼는 당근 농장을 다섯 개나 운영하고 있다.', additional_kwargs={}, response_metadata={}), AIMessage(content='토끼가 다섯 개의 당근 농장을 운영하고 있다니 정말 열심히 일하는군요! 그런 토끼라면 당근을 수확하는 것도 즐겁고, 다양한 요리를 해먹을 수도 있을 것 같아요. 농장을 어떻게 운영하는지, 혹은 그 농장들에서 어떤 특별한 일이 일어나는지에 대한 이야기를 더해보면 재미있을 것 같네요! 혹시 이야기를 이어가고 싶으신가요?', additional_kwargs={'refusal': None}, response_metadata={'token_usage': {'completion_tokens': 103, 'prompt_tokens': 166, 'total_tokens': 269, 'completion_tokens_details': {'accepted_prediction_tokens': 0, 'audio_tokens': 0, 'reasoning_tokens': 0, 'rejected_prediction_tokens': 0}, 'prompt_tokens_details': {'audio_tokens': 0, 'cached_tokens': 0}}, 'model_name': 'gpt-4o-mini-2024-07-18', 'system_fingerprint': 'fp_8bda4d3a2c', 'id': 'chatcmpl-CBwbXhYNeExRXsat05f6Xnu90fYME', 'service_tier': 'default', 'finish_reason': 'stop', 'logprobs': None}, id='run--6ca05316-4209-4c01-a25b-bf23d13a6243-0', usage_metadata={'input_tokens': 166, 'output_tokens': 103, 'total_tokens': 269, 'input_token_details': {'audio': 0, 'cache_read': 0}, 'output_token_details': {'audio': 0, 'reasoning': 0}}), HumanMessage(content='다람쥐는 도토리 나무를 몇 그루 가지고 있지?', additional_kwargs={}, response_metadata={}), AIMessage(content='다람쥐는 도토리 나무를 세 그루 가지고 있어요! 도토리 나무는 다람쥐에게 소중한 식량을 제공하고, 그늘을 만들어 주기도 하죠. 이 나무들로 인해 다람쥐는 더 안전하고 풍요로운 생활을 할 수 있을 것 같습니다. 더 궁금한 점이 있으신가요?', additional_kwargs={'refusal': None}, response_metadata={'token_usage': {'completion_tokens': 86, 'prompt_tokens': 296, 'total_tokens': 382, 'completion_tokens_details': {'accepted_prediction_tokens': 0, 'audio_tokens': 0, 'reasoning_tokens': 0, 'rejected_prediction_tokens': 0}, 'prompt_tokens_details': {'audio_tokens': 0, 'cached_tokens': 0}}, 'model_name': 'gpt-4o-mini-2024-07-18', 'system_fingerprint': 'fp_8bda4d3a2c', 'id': 'chatcmpl-CBwcsXAhhhhgSOvDpJEyOsKxbYJeF', 'service_tier': 'default', 'finish_reason': 'stop', 'logprobs': None}, id='run--a8931f2f-fd3a-457e-a8bd-869196ca0440-0', usage_metadata={'input_tokens': 296, 'output_tokens': 86, 'total_tokens': 382, 'input_token_details': {'audio': 0, 'cache_read': 0}, 'output_token_details': {'audio': 0, 'reasoning': 0}})])}"
      ]
     },
     "execution_count": 39,
     "metadata": {},
     "output_type": "execute_result"
    }
   ],
   "source": [
    "store"
   ]
  }
 ],
 "metadata": {
  "kernelspec": {
   "display_name": "llm_env",
   "language": "python",
   "name": "python3"
  },
  "language_info": {
   "codemirror_mode": {
    "name": "ipython",
    "version": 3
   },
   "file_extension": ".py",
   "mimetype": "text/x-python",
   "name": "python",
   "nbconvert_exporter": "python",
   "pygments_lexer": "ipython3",
   "version": "3.12.11"
  }
 },
 "nbformat": 4,
 "nbformat_minor": 5
}
