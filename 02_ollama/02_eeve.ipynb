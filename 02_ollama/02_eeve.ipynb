{
 "cells": [
  {
   "cell_type": "markdown",
   "id": "6fc29733-6370-4fc5-81c6-4d96560784d5",
   "metadata": {},
   "source": [
    "# EEVE-Korean-10.8B 모델 사용 (한국어 특화)"
   ]
  },
  {
   "cell_type": "code",
   "execution_count": 12,
   "id": "009097b3-ebde-4e4c-af13-2ef33db9c8dc",
   "metadata": {},
   "outputs": [
    {
     "name": "stdout",
     "output_type": "stream",
     "text": [
      "Requirement already satisfied: ollama in /usr/local/lib/python3.11/dist-packages (0.5.3)\n",
      "Requirement already satisfied: httpx>=0.27 in /usr/local/lib/python3.11/dist-packages (from ollama) (0.28.1)\n",
      "Requirement already satisfied: pydantic>=2.9 in /usr/local/lib/python3.11/dist-packages (from ollama) (2.11.7)\n",
      "Requirement already satisfied: anyio in /usr/local/lib/python3.11/dist-packages (from httpx>=0.27->ollama) (4.9.0)\n",
      "Requirement already satisfied: certifi in /usr/local/lib/python3.11/dist-packages (from httpx>=0.27->ollama) (2025.1.31)\n",
      "Requirement already satisfied: httpcore==1.* in /usr/local/lib/python3.11/dist-packages (from httpx>=0.27->ollama) (1.0.7)\n",
      "Requirement already satisfied: idna in /usr/local/lib/python3.11/dist-packages (from httpx>=0.27->ollama) (3.10)\n",
      "Requirement already satisfied: h11<0.15,>=0.13 in /usr/local/lib/python3.11/dist-packages (from httpcore==1.*->httpx>=0.27->ollama) (0.14.0)\n",
      "Requirement already satisfied: annotated-types>=0.6.0 in /usr/local/lib/python3.11/dist-packages (from pydantic>=2.9->ollama) (0.7.0)\n",
      "Requirement already satisfied: pydantic-core==2.33.2 in /usr/local/lib/python3.11/dist-packages (from pydantic>=2.9->ollama) (2.33.2)\n",
      "Requirement already satisfied: typing-extensions>=4.12.2 in /usr/local/lib/python3.11/dist-packages (from pydantic>=2.9->ollama) (4.12.2)\n",
      "Requirement already satisfied: typing-inspection>=0.4.0 in /usr/local/lib/python3.11/dist-packages (from pydantic>=2.9->ollama) (0.4.1)\n",
      "Requirement already satisfied: sniffio>=1.1 in /usr/local/lib/python3.11/dist-packages (from anyio->httpx>=0.27->ollama) (1.3.1)\n",
      "\u001b[33mWARNING: Running pip as the 'root' user can result in broken permissions and conflicting behaviour with the system package manager, possibly rendering your system unusable. It is recommended to use a virtual environment instead: https://pip.pypa.io/warnings/venv. Use the --root-user-action option if you know what you are doing and want to suppress this warning.\u001b[0m\u001b[33m\n",
      "\u001b[0m\n",
      "\u001b[1m[\u001b[0m\u001b[34;49mnotice\u001b[0m\u001b[1;39;49m]\u001b[0m\u001b[39;49m A new release of pip is available: \u001b[0m\u001b[31;49m25.0.1\u001b[0m\u001b[39;49m -> \u001b[0m\u001b[32;49m25.2\u001b[0m\n",
      "\u001b[1m[\u001b[0m\u001b[34;49mnotice\u001b[0m\u001b[1;39;49m]\u001b[0m\u001b[39;49m To update, run: \u001b[0m\u001b[32;49mpython -m pip install --upgrade pip\u001b[0m\n"
     ]
    }
   ],
   "source": [
    "!pip install ollama"
   ]
  },
  {
   "cell_type": "code",
   "execution_count": 13,
   "id": "4cd3d45f-c93c-4e23-96da-d6a5df26383b",
   "metadata": {},
   "outputs": [
    {
     "data": {
      "text/plain": [
       "ChatResponse(model='EEVE-Korean-10.8B', created_at='2025-09-02T07:27:42.061007481Z', done=True, done_reason='stop', total_duration=2542990515, load_duration=24470974, prompt_eval_count=58, prompt_eval_duration=15154003, eval_count=148, eval_duration=2501211786, message=Message(role='assistant', content='안녕하세요! 도움이 되고 정직한 조수로서 저는 여러분께 정확하고 유용한 정보를 제공하려고 노력하겠습니다. 궁금한 점이 있으시면 언제든지 물어보세요. 긍정적이고 존중하는 상호작용을 위해 최선을 다하며, 안전하지 않거나 비윤리적이거나 불법적인 내용에 대해서는 답변하거나 참여하지 않겠습니다. 제 응답이 사회적으로 편향되지 않고, 긍정적이며, 흥미진진한 내용이 되도록 하겠습니다. 만약 질문이 명확하지 않거나 사실과 맞지 않는 것으로 생각되면 왜 그런지 설명 드리고 정확한 정보를 제공하기 위해 최선을 다하겠습니다. 또한 다양한 주제에 대해 지식을 지속적으로 업데이트하고 최신 상태를 유지하려고 노력하여 가장 관련성 있고 정확한 응답을 드릴 수 있도록 하겠습니다. 추가로 도움이 필요하신가요?', thinking=None, images=None, tool_name=None, tool_calls=None))"
      ]
     },
     "execution_count": 13,
     "metadata": {},
     "output_type": "execute_result"
    }
   ],
   "source": [
    "import ollama\n",
    "\n",
    "response = ollama.chat(\n",
    "    model=\"EEVE-Korean-10.8B\",\n",
    "    messages=[\n",
    "        {\"role\": \"user\", \"content\": \"안녕! 좋(지 않은) 오후야~!\"}\n",
    "    ]\n",
    ")\n",
    "\n",
    "response"
   ]
  },
  {
   "cell_type": "code",
   "execution_count": 14,
   "id": "fde61736-229a-49b4-9a5a-d27428afdfc0",
   "metadata": {},
   "outputs": [
    {
     "data": {
      "text/plain": [
       "'안녕하세요! 도움이 되고 정직한 조수로서 저는 여러분께 정확하고 유용한 정보를 제공하려고 노력하겠습니다. 궁금한 점이 있으시면 언제든지 물어보세요. 긍정적이고 존중하는 상호작용을 위해 최선을 다하며, 안전하지 않거나 비윤리적이거나 불법적인 내용에 대해서는 답변하거나 참여하지 않겠습니다. 제 응답이 사회적으로 편향되지 않고, 긍정적이며, 흥미진진한 내용이 되도록 하겠습니다. 만약 질문이 명확하지 않거나 사실과 맞지 않는 것으로 생각되면 왜 그런지 설명 드리고 정확한 정보를 제공하기 위해 최선을 다하겠습니다. 또한 다양한 주제에 대해 지식을 지속적으로 업데이트하고 최신 상태를 유지하려고 노력하여 가장 관련성 있고 정확한 응답을 드릴 수 있도록 하겠습니다. 추가로 도움이 필요하신가요?'"
      ]
     },
     "execution_count": 14,
     "metadata": {},
     "output_type": "execute_result"
    }
   ],
   "source": [
    "response.message.content"
   ]
  },
  {
   "cell_type": "markdown",
   "id": "85f1c10d-99dd-4f04-8513-9ee4c3822d2e",
   "metadata": {},
   "source": [
    "### 간단한 한국어 대화 시스템\n",
    "\n",
    "- 사용자 입력 input() 이용\n",
    "- 응답 print()로 출력\n",
    "- '종료' 입력 시 대화 종료\n",
    "- 이전 대화의 문맥을 반영하며 채팅 이어갈 것"
   ]
  },
  {
   "cell_type": "code",
   "execution_count": 17,
   "id": "cf61a56b-d1ee-49c5-9bb7-e2cba29419b8",
   "metadata": {},
   "outputs": [],
   "source": [
    "def chat_with_eeve():\n",
    "\n",
    "    print('='*10, '대화 시작', '='*10)\n",
    "    print('종료하려면 exit를 입력하세요...')\n",
    "\n",
    "    chat_history = []\n",
    "    while True:\n",
    "        user_input = input('당신: ')\n",
    "\n",
    "        if user_input == '종료':\n",
    "            print('='*10, '대화 종료', '='*10)\n",
    "            break\n",
    "\n",
    "        chat_history.append({'role':'user', 'content':user_input})\n",
    "\n",
    "        response = ollama.chat(model='EEVE-Korean-10.8B', messages=chat_history)\n",
    "        print(f'EEVE: {response.message.content}\\n')\n",
    "\n",
    "        chat_history.append({'role':'assistant', 'content':response.message.content})"
   ]
  },
  {
   "cell_type": "code",
   "execution_count": 18,
   "id": "6ab9e53b-2848-4ea1-81b1-120706077940",
   "metadata": {},
   "outputs": [
    {
     "name": "stdout",
     "output_type": "stream",
     "text": [
      "========== 대화 시작 ==========\n",
      "종료하려면 exit를 입력하세요...\n"
     ]
    },
    {
     "name": "stdin",
     "output_type": "stream",
     "text": [
      "당신:  안녕!\n"
     ]
    },
    {
     "name": "stdout",
     "output_type": "stream",
     "text": [
      "EEVE: 반가워요! 궁금한 점이 있거나 도움이 필요하시면 언제든지 물어보세요. 최선을 다해 정확하고 유용한 정보를 드리기 위해 노력하겠습니다. 저는 여러분을 존중하며 정중하게 대할 것이며, 사회적 편견이나 차별 없이 안전하고 윤리적인 응답을 제공하기 위해 최선을 다하겠습니다. 또한 제 훈련 데이터에 기반한 확신 수준을 알려드릴 테니, 대답을 신뢰할 수 있는지 판단하실 수 있습니다. 궁금한 점이 있으시면 언제든지 질문해 주세요!\n",
      "\n"
     ]
    },
    {
     "name": "stdin",
     "output_type": "stream",
     "text": [
      "당신:  오늘 행운의 색이 뭐야?\n"
     ]
    },
    {
     "name": "stdout",
     "output_type": "stream",
     "text": [
      "EEVE: 질문해 주셔서 기쁩니다! 행운의 색은 개인에 따라 다를 수 있지만, 전 세계적으로 행운과 연관된 인기 있는 색깔 중 하나는 빨간색입니다. 이 색깔은 힘, 열정, 그리고 활력의 상징으로 여겨집니다. 하지만, 행운을 가져다준다고 여겨지는 다른 색들도 많으니, 취향과 문화 전통에 맞게 선택을 자유롭게 하실 수 있습니다.\n",
      "\n"
     ]
    },
    {
     "name": "stdin",
     "output_type": "stream",
     "text": [
      "당신:  종료\n"
     ]
    },
    {
     "name": "stdout",
     "output_type": "stream",
     "text": [
      "========== 대화 종료 ==========\n"
     ]
    }
   ],
   "source": [
    "chat_with_eeve()"
   ]
  }
 ],
 "metadata": {
  "kernelspec": {
   "display_name": "Python 3 (ipykernel)",
   "language": "python",
   "name": "python3"
  },
  "language_info": {
   "codemirror_mode": {
    "name": "ipython",
    "version": 3
   },
   "file_extension": ".py",
   "mimetype": "text/x-python",
   "name": "python",
   "nbconvert_exporter": "python",
   "pygments_lexer": "ipython3",
   "version": "3.11.11"
  }
 },
 "nbformat": 4,
 "nbformat_minor": 5
}
