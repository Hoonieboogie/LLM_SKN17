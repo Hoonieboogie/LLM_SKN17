{
 "cells": [
  {
   "cell_type": "markdown",
   "id": "c9f0225a",
   "metadata": {},
   "source": [
    "# CoT (Chain of Thought)"
   ]
  },
  {
   "cell_type": "code",
   "execution_count": 1,
   "id": "d4f2a100",
   "metadata": {},
   "outputs": [],
   "source": [
    "from dotenv import load_dotenv\n",
    "import openai\n",
    "\n",
    "load_dotenv()\n",
    "client = openai.OpenAI()"
   ]
  },
  {
   "cell_type": "markdown",
   "id": "3595893f",
   "metadata": {},
   "source": [
    "### 일반 프롬프트 vs Zero-shot CoT"
   ]
  },
  {
   "cell_type": "code",
   "execution_count": null,
   "id": "640d2772",
   "metadata": {},
   "outputs": [],
   "source": [
    "# 일반 프롬프트\n",
    "prompt = \"123 x 31 + 0.123 x 0.0012는 얼마인가요?\"\n",
    "\n",
    "response = client.chat.completions.create(\n",
    "    model = 'gpt-4', # 최신 모델은 단계적 추론을 알아서 하기 때문에 낮은 모델로 테스트\n",
    "    messages=[{'role':'user', 'content':prompt}]\n",
    ")"
   ]
  },
  {
   "cell_type": "code",
   "execution_count": 8,
   "id": "2eb03154",
   "metadata": {},
   "outputs": [
    {
     "name": "stdout",
     "output_type": "stream",
     "text": [
      "3813.0000001464입니다.\n"
     ]
    }
   ],
   "source": [
    "print(response.choices[0].message.content)"
   ]
  },
  {
   "cell_type": "code",
   "execution_count": 7,
   "id": "1f260696",
   "metadata": {},
   "outputs": [],
   "source": [
    "# CoT 프롬프트\n",
    "prompt = \"단계별로 계산하세요: 123 x 31 + 0.123 x 0.0012는 얼마인가요?\"\n",
    "\n",
    "cot_response = client.chat.completions.create(\n",
    "    model = 'gpt-4', # 최신 모델은 단계적 추론을 알아서 하기 때문에 낮은 모델로 테스트\n",
    "    messages=[{'role':'user', 'content':prompt}]\n",
    ")"
   ]
  },
  {
   "cell_type": "code",
   "execution_count": 9,
   "id": "ea3b8d9d",
   "metadata": {},
   "outputs": [
    {
     "name": "stdout",
     "output_type": "stream",
     "text": [
      "123 x 31 = 3813\n",
      "0.123 x 0.0012 = 0.0001476\n",
      "\n",
      "그래서, 3813 + 0.0001476 = 3813.0001476입니다.\n"
     ]
    }
   ],
   "source": [
    "print(cot_response.choices[0].message.content)"
   ]
  },
  {
   "cell_type": "markdown",
   "id": "7c98fde2",
   "metadata": {},
   "source": [
    "### Few-shot CoT"
   ]
  },
  {
   "cell_type": "code",
   "execution_count": 10,
   "id": "a85320ee",
   "metadata": {},
   "outputs": [],
   "source": [
    "# 일반 프롬프트\n",
    "prompt = \"123 x 31은 얼마인가요?\"\n",
    "\n",
    "normal_response = client.chat.completions.create(\n",
    "    model = 'gpt-4', # 최신 모델은 단계적 추론을 알아서 하기 때문에 낮은 모델로 테스트\n",
    "    messages=[{'role':'user', 'content':prompt}]\n",
    ")"
   ]
  },
  {
   "cell_type": "code",
   "execution_count": 11,
   "id": "5e6ba3d7",
   "metadata": {},
   "outputs": [
    {
     "name": "stdout",
     "output_type": "stream",
     "text": [
      "123 x 31은 3813입니다.\n"
     ]
    }
   ],
   "source": [
    "print(normal_response.choices[0].message.content)"
   ]
  },
  {
   "cell_type": "code",
   "execution_count": 28,
   "id": "a8a39934",
   "metadata": {},
   "outputs": [],
   "source": [
    "# Few-shot CoT\n",
    "few_shot_cot_prompt = \"\"\" \n",
    "Q: 123 x 31은 얼마인가요?\n",
    "1. 123을 분해합니다: 123 = 100 + 20 + 3\n",
    "2. 각 항을 31과 곱합니다:\n",
    "    - 100 x 31 = 3100\n",
    "    - 20 x 31 = 620\n",
    "    - 3 x 31 = 93\n",
    "3. 이제 이 결과들을 더합니다:\n",
    "    - 3100 + 620 + 93\n",
    "4. 계산을 진행하면:\n",
    "    - 3100 + 620 = 3720\n",
    "    - 3720 + 93 = 3813\n",
    "\n",
    "A: 따라서 123 x 31 = 3813 입니다.\n",
    "\n",
    "Q: 789 x 56은 얼마인가요? 위와 같이 단계적으로 계산하세요\n",
    "A:\n",
    "\"\"\"\n",
    "\n",
    "few_shot_cot_response = client.chat.completions.create(\n",
    "    model = 'gpt-4', # 최신 모델은 단계적 추론을 알아서 하기 때문에 낮은 모델로 테스트\n",
    "    messages=[{'role':'user', 'content':few_shot_cot_prompt}]\n",
    ")"
   ]
  },
  {
   "cell_type": "code",
   "execution_count": 29,
   "id": "479338ea",
   "metadata": {},
   "outputs": [
    {
     "name": "stdout",
     "output_type": "stream",
     "text": [
      "1. 789을 분해합니다: 789 = 700 + 80 + 9\n",
      "2. 각 항을 56과 곱합니다:\n",
      "    - 700 x 56 = 39200\n",
      "    - 80 x 56 = 4480\n",
      "    - 9 x 56 = 504\n",
      "3. 이제 이 결과들을 더합니다:\n",
      "    - 39200 + 4480 + 504\n",
      "4. 계산을 진행하면:\n",
      "    - 39200 + 4480 = 43680\n",
      "    - 43680 + 504 = 44184\n",
      "\n",
      "A: 따라서 789 x 56 = 44184 입니다.\n"
     ]
    }
   ],
   "source": [
    "print(few_shot_cot_response.choices[0].message.content)"
   ]
  },
  {
   "cell_type": "markdown",
   "id": "5ed13502",
   "metadata": {},
   "source": [
    "### 논리 문제 해결"
   ]
  },
  {
   "cell_type": "code",
   "execution_count": 30,
   "id": "d5b518e7",
   "metadata": {},
   "outputs": [],
   "source": [
    "prompt = \"\"\" \n",
    "앨리스(Alice)는 밥(Bob)보다 나이가 많다.\n",
    "밥(Bod)은 찰리(Charlie)보다 나이가 많다.\n",
    "데이비드(David)는 앨리스(Alice)보다 어리지만, 에밀리(Emily) 보다는 많다.\n",
    "찰리(Charlie)는 프랭크(Frank)보다 많다.\n",
    "에밀리(Emily)는 찰리(Charlie)보다 나이가 많지만, 밥(Bob)보다 어리다.\n",
    "프랭크(Frank)는 데이비드(David)보다 어리다.\n",
    "그렇다면 가장 어린 사람은 누구인가요?\n",
    "\"\"\""
   ]
  },
  {
   "cell_type": "code",
   "execution_count": 31,
   "id": "c8f04bfc",
   "metadata": {},
   "outputs": [],
   "source": [
    "response = client.chat.completions.create(\n",
    "    model='gpt-4',\n",
    "    messages=[{'role':'user', 'content':prompt}]\n",
    ")"
   ]
  },
  {
   "cell_type": "code",
   "execution_count": 32,
   "id": "8134910d",
   "metadata": {},
   "outputs": [
    {
     "data": {
      "text/plain": [
       "'가장 어린 사람은 프랭크(Frank)입니다.'"
      ]
     },
     "execution_count": 32,
     "metadata": {},
     "output_type": "execute_result"
    }
   ],
   "source": [
    "response.choices[0].message.content"
   ]
  }
 ],
 "metadata": {
  "kernelspec": {
   "display_name": "llm_env",
   "language": "python",
   "name": "python3"
  },
  "language_info": {
   "codemirror_mode": {
    "name": "ipython",
    "version": 3
   },
   "file_extension": ".py",
   "mimetype": "text/x-python",
   "name": "python",
   "nbconvert_exporter": "python",
   "pygments_lexer": "ipython3",
   "version": "3.12.11"
  }
 },
 "nbformat": 4,
 "nbformat_minor": 5
}
