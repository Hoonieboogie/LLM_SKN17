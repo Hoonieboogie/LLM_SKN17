{
 "cells": [
  {
   "cell_type": "markdown",
   "id": "d0063eee",
   "metadata": {},
   "source": [
    "# Chat Completion"
   ]
  },
  {
   "cell_type": "code",
   "execution_count": 26,
   "id": "3877d269",
   "metadata": {},
   "outputs": [
    {
     "data": {
      "text/plain": [
       "True"
      ]
     },
     "execution_count": 26,
     "metadata": {},
     "output_type": "execute_result"
    }
   ],
   "source": [
    "from dotenv import load_dotenv\n",
    "from openai import OpenAI\n",
    "\n",
    "load_dotenv()"
   ]
  },
  {
   "cell_type": "markdown",
   "id": "66c478b8",
   "metadata": {},
   "source": [
    "### Chat Completion: messages"
   ]
  },
  {
   "cell_type": "code",
   "execution_count": 27,
   "id": "ef4194ed",
   "metadata": {},
   "outputs": [
    {
     "name": "stdout",
     "output_type": "stream",
     "text": [
      "ChatCompletion(id='chatcmpl-C9nK0o0003OBPJ8NBewEBoI0RTS3O', choices=[Choice(finish_reason='stop', index=0, logprobs=None, message=ChatCompletionMessage(content='안녕하세요, 다람쥐 선생님! 만나서 반갑습니다. 어떤 이야기를 나누고 싶으신가요? 혹시 도움이 필요하신 부분이 있으신가요?', refusal=None, role='assistant', annotations=[], audio=None, function_call=None, tool_calls=None))], created=1756450580, model='gpt-4o-mini-2024-07-18', object='chat.completion', service_tier='default', system_fingerprint='fp_560af6e559', usage=CompletionUsage(completion_tokens=43, prompt_tokens=42, total_tokens=85, completion_tokens_details=CompletionTokensDetails(accepted_prediction_tokens=0, audio_tokens=0, reasoning_tokens=0, rejected_prediction_tokens=0), prompt_tokens_details=PromptTokensDetails(audio_tokens=0, cached_tokens=0)))\n",
      "안녕하세요, 다람쥐 선생님! 만나서 반갑습니다. 어떤 이야기를 나누고 싶으신가요? 혹시 도움이 필요하신 부분이 있으신가요?\n",
      "ChatCompletion(id='chatcmpl-C9nK1prqsuv9hLoOLn78C9IJ29rXD', choices=[Choice(finish_reason='stop', index=0, logprobs=None, message=ChatCompletionMessage(content='죄송하지만, 당신의 이름을 알 수 있는 정보가 없어요. 하지만 당신이 원하는 이름이나 애칭을 알려주시면 그에 맞춰 대화할 수 있습니다! 어떻게 도와드릴까요?', refusal=None, role='assistant', annotations=[], audio=None, function_call=None, tool_calls=None))], created=1756450581, model='gpt-4o-mini-2024-07-18', object='chat.completion', service_tier='default', system_fingerprint='fp_560af6e559', usage=CompletionUsage(completion_tokens=45, prompt_tokens=34, total_tokens=79, completion_tokens_details=CompletionTokensDetails(accepted_prediction_tokens=0, audio_tokens=0, reasoning_tokens=0, rejected_prediction_tokens=0), prompt_tokens_details=PromptTokensDetails(audio_tokens=0, cached_tokens=0)))\n",
      "죄송하지만, 당신의 이름을 알 수 있는 정보가 없어요. 하지만 당신이 원하는 이름이나 애칭을 알려주시면 그에 맞춰 대화할 수 있습니다! 어떻게 도와드릴까요?\n"
     ]
    }
   ],
   "source": [
    "client = OpenAI()\n",
    "\n",
    "response = client.chat.completions.create(\n",
    "    model=\"gpt-4o-mini\",\n",
    "    messages=[\n",
    "        {\"role\": \"system\", \"content\": \"너는 친절하고 상세한 설명을 잘하는 챗봇이야\"},\n",
    "        {\"role\": \"user\", \"content\": \"안녕, 나는 다람쥐 선생님이야\"}\n",
    "    ],\n",
    "    temperature=1,\n",
    "    max_tokens=4096,\n",
    "    top_p=1\n",
    ")\n",
    "\n",
    "print(response)\n",
    "print(response.choices[0].message.content)\n",
    "\n",
    "response = client.chat.completions.create(\n",
    "    model=\"gpt-4o-mini\",\n",
    "    messages=[\n",
    "        {\"role\": \"system\", \"content\": \"너는 친절하고 상세한 설명을 잘하는 챗봇이야\"},\n",
    "        {\"role\": \"user\", \"content\": \"내 이름이 뭐라고?\"},\n",
    "    ],\n",
    "    temperature=1,\n",
    "    max_tokens=4096,\n",
    "    top_p=1\n",
    ")\n",
    "\n",
    "print(response)\n",
    "print(response.choices[0].message.content)\n",
    "\n",
    "# => 일반적으로 채팅을 지속하더라도 이전 내용을 기억하지 못함 (messages에 이전 대화까지를 포함해서 넣어줘야 함)"
   ]
  },
  {
   "cell_type": "code",
   "execution_count": 28,
   "id": "960ab953",
   "metadata": {},
   "outputs": [],
   "source": [
    "client = OpenAI()\n",
    "\n",
    "response = client.chat.completions.create(\n",
    "    model=\"gpt-4o-mini\",\n",
    "    messages=[\n",
    "        {\"role\": \"system\", \"content\": \"너는 친절하고 상세한 설명을 잘하는 챗봇이야\"},\n",
    "        {\"role\": \"user\", \"content\": \"안녕, 나는 다람쥐 선생님이야\"},\n",
    "        {\"role\": \"assistant\", \"content\": \"안녕하세요. 다람쥐 선생님, 무엇을 도와드릴까요?\"},\n",
    "        {\"role\": \"user\", \"content\": \"내 이름이 뭐라고?\"},\n",
    "    ],\n",
    "    temperature=1,\n",
    "    max_tokens=4096,\n",
    "    top_p=1\n",
    ")"
   ]
  },
  {
   "cell_type": "code",
   "execution_count": 29,
   "id": "0740c1e1",
   "metadata": {},
   "outputs": [
    {
     "data": {
      "text/plain": [
       "'다람쥐 선생님이라고 말씀하셨어요. 맞나요? 다른 이름이 있으신가요?'"
      ]
     },
     "execution_count": 29,
     "metadata": {},
     "output_type": "execute_result"
    }
   ],
   "source": [
    "response.choices[0].message.content"
   ]
  },
  {
   "cell_type": "markdown",
   "id": "0f4c60c8",
   "metadata": {},
   "source": [
    "### stream 처리"
   ]
  },
  {
   "cell_type": "code",
   "execution_count": 30,
   "id": "8ef14c1a",
   "metadata": {},
   "outputs": [],
   "source": [
    "client = OpenAI()\n",
    "\n",
    "stream_response = client.chat.completions.create(\n",
    "    model=\"gpt-4o-mini\",\n",
    "    messages=[\n",
    "        {\"role\": \"user\", \"content\": \"stream 테스트하게 아주 긴 응답 메시지를 보내줘\"}\n",
    "    ],\n",
    "    stream=True\n",
    ")"
   ]
  },
  {
   "cell_type": "code",
   "execution_count": 31,
   "id": "ad7f06ee",
   "metadata": {},
   "outputs": [
    {
     "name": "stdout",
     "output_type": "stream",
     "text": [
      "물론입니다! 아래에 아주 긴 텍스트를 작성하겠습니다. 이 텍스트는 여러 주제를 포함하여 길이를 늘려볼게요.\n",
      "\n",
      "---\n",
      "\n",
      "**인류의 역사와 발전**\n",
      "\n",
      "인류의 역사는 수천 년에 걸쳐 이어져 왔으며, 각 시대마다 중요한 사건과 발전이 있었습니다. 농업 혁명, 산업 혁명, 정보 혁명 등을 통해 인류는 점점 더 복잡하고 고도화된 사회 구조를 형성해 왔습니다. 농업 혁명으로 인해 사람들은 정착 생활을 시작하고, 이는 도시의 발전과 문명의 기초가 되었습니다. 이 시기에는 쌀, 밀, 옥수수와 같은 기본 농작물이 재배되기 시작했으며, 이는 인구의 폭발적인 증가를 가져왔습니다.\n",
      "\n",
      "산업 혁명은 18세기 후반에서 19세기 초반에 걸쳐 일어났습니다. 기계의 도입과 대량 생산 시스템은 경제의 구조를 변화시켰고, 많은 사람들이 농촌을 떠나 도시로 이동하게 만들었습니다. 이 시기에 철도, 공장, 기계 등이 등장하여 생산성과 효율성이 크게 향상되었습니다. 하지만 산업 혁명은 동시에 노동자들의 열악한 근무 환경과 아동 노동 같은 문제를 야기하기도 했습니다.\n",
      "\n",
      "20세기에 들어서면서 인류는 두 차례의 세계 대전과 여러 가지 사회적, 경제적 변화를 겪었습니다. 이 시기에는 기술의 발전이 가속화되었으며, 인터넷의 등장은 정보의 접근 방식을 근본적으로 변화시켰습니다. 정보 혁명은 사람과 사람, 사람과 기계 간의 소통 방식을 극적으로 변화시켰고, 이는 글로벌화와 연결의 시대를 열었습니다.\n",
      "\n",
      "**과학의 발전**\n",
      "\n",
      "과학적 발견과 기술 발전은 인류 역사에서 중요한 역할을 해왔습니다. 갈릴레오 갈릴레이, 아이작 뉴턴, 알버트 아인슈타인 등 여러 과학자들의 연구는 현대 물리학의 기초를 다졌으며, 이를 통해 우리는 우주의 법칙을 이해하게 되었습니다. 생물학 분야에서도 찰스 다윈의 진화론은 생명의 기원과 생물 종의 다양성에 대한 이해를 혁신적으로 변화시켰습니다.\n",
      "\n",
      "정보기술(IT) 분야에서는 컴퓨터의 발명과 인터넷의 널리 보급으로 인해 정보의 생산, 저장, 전파가 혁신적으로 변화했습니다. 인공지능(AI)의 발전은 데이터 분석, 자동화, 예측 모델링 등 다양한 분야에서 활용되고 있으며, 이는 우리의 일상생활을 더욱 편리하게 만들어주고 있습니다. AI는 또한 의료, 금융, 교육 등 여러 분야에서도 큰 변화를 가져오고 있으며, 이는 인류의 삶의 질을 개선하는 데 기여하고 있습니다.\n",
      "\n",
      "**문화와 예술의 발전**\n",
      "\n",
      "문화와 예술은 인류의 마음과 영혼을 표현하는 중요한 수단입니다. 음악, 미술, 문학 등을 통해 사람들은 감정을 나누고, 사회를 반영하며, 미래에 대한 꿈을 이야기합니다. 다양한 문화가 교류하고, 융합되면서 새로운 트렌드가 탄생하고 있습니다. 예를 들어, 세계 여러 나라의 전통 음악이 결합된 퓨전 음악 장르는 이제 시대를 초월한 인기 장르가 되었습니다.\n",
      "\n",
      "영화와 영상 콘텐츠 역시 현대 사회에서 중요한 문화적 요소로 자리 잡았습니다. 할리우드를 중심으로 한 영화 산업은 전 세계적으로 영향을 미치며, 다양한 장르와 이야기를 통해 사람들에게 감동과 재미를 제공합니다. 또, 유튜브, 넷플릭스와 같은 플랫폼의 등장은 사람들에게 콘텐츠 소비의 새로운 방식과 접근성을 제공하였습니다.\n",
      "\n",
      "**기후 변화와 지속 가능성**\n",
      "\n",
      "현대 사회에서 환경 문제는 매우 중요한 이슈로 자리잡고 있습니다. 기후 변화는 인류의 생존과 미래에 심각한 위협이 되고 있으며, 이를 해결하기 위한 다양한 노력이 필요합니다. 재생 가능 에너지, 탄소 중립 정책, 지속 가능한 발전 등이 그 예시입니다. 많은 나라들이 기후 변화에 대응하기 위해 협력하고 있으며, 국제 기구들도 이러한 노력에 동참하고 있습니다.\n",
      "\n",
      "미래 세대의 삶의 질을 보장하기 위해서는 오늘날 우리가 어떤 선택을 하느냐가 매우 중요합니다. 개인의 행동에서부터 시작하여, 기업 및 정부 차원의 정책 결정까지 모든 것이 관련되어 있습니다. 사람들은 이제 환경 보호와 지속 가능한 소비에 대한 인식을 높이고 있으며, 이는 긍정적인 변화를 이끌어오고 있습니다.\n",
      "\n",
      "이와 같은 다양한 주제들을 통해 우리는 인류의 역사와 현재, 그리고 미래를 바라볼 수 있습니다. 각 시대는 고유한 도전과 기회를 제공하며, 우리는 이를 통해 발전하고 성장해 나갈 것입니다. 끊임없는 변화 속에서 인류가 어떻게 적응하고 협력할 수 있는지가 앞으로의 중요 과제가 될 것입니다.\n",
      "\n",
      "---\n",
      "\n",
      "이렇게 긴 메시지를 작성해 보았습니다! 추가로 궁금한 내용이 있으면 물어보세요.응답 완료🤖\n"
     ]
    }
   ],
   "source": [
    "for chunk in stream_response:\n",
    "    content = chunk.choices[0].delta.content\n",
    "\n",
    "    if content is not None:\n",
    "        print(content, end='')\n",
    "\n",
    "print('응답 완료🤖')"
   ]
  },
  {
   "cell_type": "code",
   "execution_count": 32,
   "id": "5e80dfaf",
   "metadata": {},
   "outputs": [
    {
     "data": {
      "text/plain": [
       "'\\ntemp_arr = []\\nfor chunk in stream_response:\\n    content = chunk.choices[0].delta.content\\n\\n    if content is not None:\\n        temp_arr.append(content)\\n\\nprint(temp_arr)\\n'"
      ]
     },
     "execution_count": 32,
     "metadata": {},
     "output_type": "execute_result"
    }
   ],
   "source": [
    "# stream에 따라 배열에 저장\n",
    "\"\"\"\n",
    "temp_arr = []\n",
    "for chunk in stream_response:\n",
    "    content = chunk.choices[0].delta.content\n",
    "\n",
    "    if content is not None:\n",
    "        temp_arr.append(content)\n",
    "\n",
    "print(temp_arr)\n",
    "\"\"\""
   ]
  },
  {
   "cell_type": "markdown",
   "id": "f3af391e",
   "metadata": {},
   "source": [
    "### Token Counting\n",
    "\n",
    "- 한번의 프롬프트 입출력 토큰과 서비스 호출 빈도를 고려해 서비스 제공 비용을 산정할 수 있음\n",
    "- 비용 = ((입력 토큰수 * 입력 단가) + (출력 토큰수 * 출력 단가)) * 월 서비스 호출 수\n",
    "\n",
    "    - 온라인 테스트 https://platform.openai.com/tokenizer\n",
    "    - 파이썬 테스트 tiktoken"
   ]
  },
  {
   "cell_type": "code",
   "execution_count": 33,
   "id": "b567f8e6",
   "metadata": {},
   "outputs": [
    {
     "name": "stdout",
     "output_type": "stream",
     "text": [
      "Requirement already satisfied: tiktoken in c:\\users\\playdata\\appdata\\local\\anaconda3\\envs\\llm_env\\lib\\site-packages (0.11.0)\n",
      "Requirement already satisfied: regex>=2022.1.18 in c:\\users\\playdata\\appdata\\local\\anaconda3\\envs\\llm_env\\lib\\site-packages (from tiktoken) (2025.7.34)\n",
      "Requirement already satisfied: requests>=2.26.0 in c:\\users\\playdata\\appdata\\local\\anaconda3\\envs\\llm_env\\lib\\site-packages (from tiktoken) (2.32.5)\n",
      "Requirement already satisfied: charset_normalizer<4,>=2 in c:\\users\\playdata\\appdata\\local\\anaconda3\\envs\\llm_env\\lib\\site-packages (from requests>=2.26.0->tiktoken) (3.4.3)\n",
      "Requirement already satisfied: idna<4,>=2.5 in c:\\users\\playdata\\appdata\\local\\anaconda3\\envs\\llm_env\\lib\\site-packages (from requests>=2.26.0->tiktoken) (3.10)\n",
      "Requirement already satisfied: urllib3<3,>=1.21.1 in c:\\users\\playdata\\appdata\\local\\anaconda3\\envs\\llm_env\\lib\\site-packages (from requests>=2.26.0->tiktoken) (2.5.0)\n",
      "Requirement already satisfied: certifi>=2017.4.17 in c:\\users\\playdata\\appdata\\local\\anaconda3\\envs\\llm_env\\lib\\site-packages (from requests>=2.26.0->tiktoken) (2025.8.3)\n"
     ]
    }
   ],
   "source": [
    "!pip install tiktoken"
   ]
  },
  {
   "cell_type": "code",
   "execution_count": 34,
   "id": "847ee940",
   "metadata": {},
   "outputs": [
    {
     "name": "stdout",
     "output_type": "stream",
     "text": [
      "687\n",
      "415\n"
     ]
    }
   ],
   "source": [
    "import tiktoken\n",
    "\n",
    "gpt35 = tiktoken.encoding_for_model('gpt-3.5')\n",
    "gpt4o = tiktoken.encoding_for_model('gpt-4o-mini')\n",
    "\n",
    "text = \"\"\"\n",
    "마이크로소프트(MS)가 드디어 자체 개발 대형언어모델(LLM) '마이(MAI)'를 공개했다. 이를 통해 기업용이 아닌, 개인용 인공지능(AI) 비서를 구축하겠다는 뜻을 강조했다. 동시에 이는 오픈AI 기술 의존도를 줄이려는 의도이기도 하다.\n",
    "\n",
    "MS는 28일(현지시간) 홈페이지를 통해 음성 생성 모델 '마이-보이스-1(MAI-Voice-1)'과 LLM '마이-1-프리뷰(MAI-1-preview)'를 선보였다.\n",
    "\n",
    "보이스 모델은 코파일럿 서비스 중 뉴스 요약을 들려주거나 팟캐스트를 제작하는 기능 등에 이미 적용됐다. 코파일럿 랩스에서도 체험할 수 있다. \"음성은 AI 동반자를 위한 미래형 인터페이스\"라고 설명했다.\n",
    "\n",
    "마이-1-프리뷰는 말 그대로 현재 미리보기 테스트 중이다. 우선, 사용자 선호도를 평가하는 LM아레나에 업로드됐다. 또 개발자들이 체험할 수 있는 API 대기자 명단을 공개했다. 몇주 내로 코파일럿의 특정 사례에도 적용, 사용자 피드백을 통해 개선할 계획이다.\n",
    "\n",
    "MS는 마이 파운데이션 모델을 엔드 투 엔드, 즉 처음부터 끝까지 자체 학습했다고 강조했다. \n",
    "\n",
    "또 약 1만5000개의 엔비디아 'H100' GPU에서 사전 훈련과 사후 훈련을 거친 '전문가 혼합(MoE)' 모델이라고 밝혔다. \"사용자의 지시를 따르고 일상적인 질문에 유용한 답변을 제공하는 데 특화됐다\"라고 소개했다.\n",
    "\n",
    "하지만, 더 이상 자세한 내용은 공개하지 않았으며, 앞으로 점차 발표할 것이라고 덧붙였다.\n",
    "\"\"\"\n",
    "\n",
    "print(len(gpt35.encode(text)))\n",
    "print(len(gpt4o.encode(text)))"
   ]
  }
 ],
 "metadata": {
  "kernelspec": {
   "display_name": "llm_env",
   "language": "python",
   "name": "python3"
  },
  "language_info": {
   "codemirror_mode": {
    "name": "ipython",
    "version": 3
   },
   "file_extension": ".py",
   "mimetype": "text/x-python",
   "name": "python",
   "nbconvert_exporter": "python",
   "pygments_lexer": "ipython3",
   "version": "3.12.11"
  }
 },
 "nbformat": 4,
 "nbformat_minor": 5
}
