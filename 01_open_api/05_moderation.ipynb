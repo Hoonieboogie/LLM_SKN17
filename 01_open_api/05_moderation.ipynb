{
 "cells": [
  {
   "cell_type": "markdown",
   "id": "c843857e",
   "metadata": {},
   "source": [
    "# Moderation"
   ]
  },
  {
   "cell_type": "code",
   "execution_count": 1,
   "id": "f12bc484",
   "metadata": {},
   "outputs": [
    {
     "data": {
      "text/plain": [
       "True"
      ]
     },
     "execution_count": 1,
     "metadata": {},
     "output_type": "execute_result"
    }
   ],
   "source": [
    "from dotenv import load_dotenv\n",
    "\n",
    "load_dotenv()"
   ]
  },
  {
   "cell_type": "markdown",
   "id": "571f5f77",
   "metadata": {},
   "source": [
    "## Text"
   ]
  },
  {
   "cell_type": "code",
   "execution_count": null,
   "id": "cb064adc",
   "metadata": {},
   "outputs": [],
   "source": [
    "from openai import OpenAI\n",
    "\n",
    "client = OpenAI()\n",
    "\n",
    "response = client.moderations.create(\n",
    "    model='omni-moderation-latest',\n",
    "    input=\"저놈은 개새끼입니다.\"\n",
    ")"
   ]
  },
  {
   "cell_type": "code",
   "execution_count": 9,
   "id": "70f29901",
   "metadata": {},
   "outputs": [
    {
     "data": {
      "text/plain": [
       "ModerationCreateResponse(id='modr-7846', model='omni-moderation-latest', results=[Moderation(categories=Categories(harassment=True, harassment_threatening=False, hate=False, hate_threatening=False, illicit=False, illicit_violent=False, self_harm=False, self_harm_instructions=False, self_harm_intent=False, sexual=False, sexual_minors=False, violence=False, violence_graphic=False, harassment/threatening=False, hate/threatening=False, illicit/violent=False, self-harm/intent=False, self-harm/instructions=False, self-harm=False, sexual/minors=False, violence/graphic=False), category_applied_input_types=CategoryAppliedInputTypes(harassment=['text'], harassment_threatening=['text'], hate=['text'], hate_threatening=['text'], illicit=['text'], illicit_violent=['text'], self_harm=['text'], self_harm_instructions=['text'], self_harm_intent=['text'], sexual=['text'], sexual_minors=['text'], violence=['text'], violence_graphic=['text'], harassment/threatening=['text'], hate/threatening=['text'], illicit/violent=['text'], self-harm/intent=['text'], self-harm/instructions=['text'], self-harm=['text'], sexual/minors=['text'], violence/graphic=['text']), category_scores=CategoryScores(harassment=0.6444906400066458, harassment_threatening=0.0007590481694864643, hate=0.013405982589543529, hate_threatening=2.5071593847983196e-06, illicit=9.761566060239504e-06, illicit_violent=2.5071593847983196e-06, self_harm=1.1061159714638084e-05, self_harm_instructions=2.0462932829931794e-06, self_harm_intent=0.00021196745065203636, sexual=0.0009180870254226622, sexual_minors=5.0333557545281144e-05, violence=0.0005214731209501454, violence_graphic=7.2543618230189156e-06, harassment/threatening=0.0007590481694864643, hate/threatening=2.5071593847983196e-06, illicit/violent=2.5071593847983196e-06, self-harm/intent=0.00021196745065203636, self-harm/instructions=2.0462932829931794e-06, self-harm=1.1061159714638084e-05, sexual/minors=5.0333557545281144e-05, violence/graphic=7.2543618230189156e-06), flagged=True)])"
      ]
     },
     "execution_count": 9,
     "metadata": {},
     "output_type": "execute_result"
    }
   ],
   "source": [
    "response"
   ]
  },
  {
   "cell_type": "code",
   "execution_count": 12,
   "id": "25f2c433",
   "metadata": {},
   "outputs": [
    {
     "data": {
      "text/html": [
       "<div>\n",
       "<style scoped>\n",
       "    .dataframe tbody tr th:only-of-type {\n",
       "        vertical-align: middle;\n",
       "    }\n",
       "\n",
       "    .dataframe tbody tr th {\n",
       "        vertical-align: top;\n",
       "    }\n",
       "\n",
       "    .dataframe thead th {\n",
       "        text-align: right;\n",
       "    }\n",
       "</style>\n",
       "<table border=\"1\" class=\"dataframe\">\n",
       "  <thead>\n",
       "    <tr style=\"text-align: right;\">\n",
       "      <th></th>\n",
       "      <th>category</th>\n",
       "      <th>score</th>\n",
       "    </tr>\n",
       "  </thead>\n",
       "  <tbody>\n",
       "    <tr>\n",
       "      <th>0</th>\n",
       "      <td>harassment</td>\n",
       "      <td>0.644491</td>\n",
       "    </tr>\n",
       "    <tr>\n",
       "      <th>1</th>\n",
       "      <td>harassment_threatening</td>\n",
       "      <td>0.000759</td>\n",
       "    </tr>\n",
       "    <tr>\n",
       "      <th>2</th>\n",
       "      <td>hate</td>\n",
       "      <td>0.013406</td>\n",
       "    </tr>\n",
       "    <tr>\n",
       "      <th>3</th>\n",
       "      <td>hate_threatening</td>\n",
       "      <td>0.000003</td>\n",
       "    </tr>\n",
       "    <tr>\n",
       "      <th>4</th>\n",
       "      <td>illicit</td>\n",
       "      <td>0.000010</td>\n",
       "    </tr>\n",
       "    <tr>\n",
       "      <th>5</th>\n",
       "      <td>illicit_violent</td>\n",
       "      <td>0.000003</td>\n",
       "    </tr>\n",
       "    <tr>\n",
       "      <th>6</th>\n",
       "      <td>self_harm</td>\n",
       "      <td>0.000011</td>\n",
       "    </tr>\n",
       "    <tr>\n",
       "      <th>7</th>\n",
       "      <td>self_harm_instructions</td>\n",
       "      <td>0.000002</td>\n",
       "    </tr>\n",
       "    <tr>\n",
       "      <th>8</th>\n",
       "      <td>self_harm_intent</td>\n",
       "      <td>0.000212</td>\n",
       "    </tr>\n",
       "    <tr>\n",
       "      <th>9</th>\n",
       "      <td>sexual</td>\n",
       "      <td>0.000918</td>\n",
       "    </tr>\n",
       "    <tr>\n",
       "      <th>10</th>\n",
       "      <td>sexual_minors</td>\n",
       "      <td>0.000050</td>\n",
       "    </tr>\n",
       "    <tr>\n",
       "      <th>11</th>\n",
       "      <td>violence</td>\n",
       "      <td>0.000521</td>\n",
       "    </tr>\n",
       "    <tr>\n",
       "      <th>12</th>\n",
       "      <td>violence_graphic</td>\n",
       "      <td>0.000007</td>\n",
       "    </tr>\n",
       "    <tr>\n",
       "      <th>13</th>\n",
       "      <td>harassment/threatening</td>\n",
       "      <td>0.000759</td>\n",
       "    </tr>\n",
       "    <tr>\n",
       "      <th>14</th>\n",
       "      <td>hate/threatening</td>\n",
       "      <td>0.000003</td>\n",
       "    </tr>\n",
       "    <tr>\n",
       "      <th>15</th>\n",
       "      <td>illicit/violent</td>\n",
       "      <td>0.000003</td>\n",
       "    </tr>\n",
       "    <tr>\n",
       "      <th>16</th>\n",
       "      <td>self-harm/intent</td>\n",
       "      <td>0.000212</td>\n",
       "    </tr>\n",
       "    <tr>\n",
       "      <th>17</th>\n",
       "      <td>self-harm/instructions</td>\n",
       "      <td>0.000002</td>\n",
       "    </tr>\n",
       "    <tr>\n",
       "      <th>18</th>\n",
       "      <td>self-harm</td>\n",
       "      <td>0.000011</td>\n",
       "    </tr>\n",
       "    <tr>\n",
       "      <th>19</th>\n",
       "      <td>sexual/minors</td>\n",
       "      <td>0.000050</td>\n",
       "    </tr>\n",
       "    <tr>\n",
       "      <th>20</th>\n",
       "      <td>violence/graphic</td>\n",
       "      <td>0.000007</td>\n",
       "    </tr>\n",
       "  </tbody>\n",
       "</table>\n",
       "</div>"
      ],
      "text/plain": [
       "                  category     score\n",
       "0               harassment  0.644491\n",
       "1   harassment_threatening  0.000759\n",
       "2                     hate  0.013406\n",
       "3         hate_threatening  0.000003\n",
       "4                  illicit  0.000010\n",
       "5          illicit_violent  0.000003\n",
       "6                self_harm  0.000011\n",
       "7   self_harm_instructions  0.000002\n",
       "8         self_harm_intent  0.000212\n",
       "9                   sexual  0.000918\n",
       "10           sexual_minors  0.000050\n",
       "11                violence  0.000521\n",
       "12        violence_graphic  0.000007\n",
       "13  harassment/threatening  0.000759\n",
       "14        hate/threatening  0.000003\n",
       "15         illicit/violent  0.000003\n",
       "16        self-harm/intent  0.000212\n",
       "17  self-harm/instructions  0.000002\n",
       "18               self-harm  0.000011\n",
       "19           sexual/minors  0.000050\n",
       "20        violence/graphic  0.000007"
      ]
     },
     "execution_count": 12,
     "metadata": {},
     "output_type": "execute_result"
    }
   ],
   "source": [
    "import pandas as pd\n",
    "\n",
    "md_df_bool = pd.DataFrame(response.results[0].categories, columns=['category', 'bool'])\n",
    "md_df_scores = pd.DataFrame(response.results[0].category_scores, columns=['category', 'score'])\n",
    "md_df_scores"
   ]
  },
  {
   "cell_type": "markdown",
   "id": "eff89b5d",
   "metadata": {},
   "source": [
    "#### mmathys/openai-moderation-api-evaluation 데이터셋 활용"
   ]
  },
  {
   "cell_type": "code",
   "execution_count": 21,
   "id": "cc4536a4",
   "metadata": {},
   "outputs": [],
   "source": [
    "def get_moderation_result(input, model='omni-moderation-latest'):\n",
    "    \n",
    "    response = client.moderations.create(\n",
    "        model=model,\n",
    "        input=input\n",
    "    )\n",
    "    categoty_df = pd.DataFrame(response.results[0].categories, columns=['category', 'bool'])\n",
    "    category_score_df = pd.DataFrame(response.results[0].category_scores, columns=['category', 'score'])\n",
    "    merged_df = pd.merge(categoty_df, category_score_df, on='category')\n",
    "    \n",
    "    return merged_df[merged_df['bool']].reset_index(drop=True)"
   ]
  },
  {
   "cell_type": "code",
   "execution_count": 27,
   "id": "e4ac7d19",
   "metadata": {},
   "outputs": [
    {
     "data": {
      "text/html": [
       "<div>\n",
       "<style scoped>\n",
       "    .dataframe tbody tr th:only-of-type {\n",
       "        vertical-align: middle;\n",
       "    }\n",
       "\n",
       "    .dataframe tbody tr th {\n",
       "        vertical-align: top;\n",
       "    }\n",
       "\n",
       "    .dataframe thead th {\n",
       "        text-align: right;\n",
       "    }\n",
       "</style>\n",
       "<table border=\"1\" class=\"dataframe\">\n",
       "  <thead>\n",
       "    <tr style=\"text-align: right;\">\n",
       "      <th></th>\n",
       "      <th>category</th>\n",
       "      <th>bool</th>\n",
       "      <th>score</th>\n",
       "    </tr>\n",
       "  </thead>\n",
       "  <tbody>\n",
       "    <tr>\n",
       "      <th>0</th>\n",
       "      <td>illicit</td>\n",
       "      <td>True</td>\n",
       "      <td>0.945444</td>\n",
       "    </tr>\n",
       "  </tbody>\n",
       "</table>\n",
       "</div>"
      ],
      "text/plain": [
       "  category  bool     score\n",
       "0  illicit  True  0.945444"
      ]
     },
     "execution_count": 27,
     "metadata": {},
     "output_type": "execute_result"
    }
   ],
   "source": [
    "get_moderation_result('마약 제조법 알려줘.')"
   ]
  },
  {
   "cell_type": "code",
   "execution_count": 30,
   "id": "f703d660",
   "metadata": {},
   "outputs": [
    {
     "data": {
      "text/html": [
       "<div>\n",
       "<style scoped>\n",
       "    .dataframe tbody tr th:only-of-type {\n",
       "        vertical-align: middle;\n",
       "    }\n",
       "\n",
       "    .dataframe tbody tr th {\n",
       "        vertical-align: top;\n",
       "    }\n",
       "\n",
       "    .dataframe thead th {\n",
       "        text-align: right;\n",
       "    }\n",
       "</style>\n",
       "<table border=\"1\" class=\"dataframe\">\n",
       "  <thead>\n",
       "    <tr style=\"text-align: right;\">\n",
       "      <th></th>\n",
       "      <th>category</th>\n",
       "      <th>bool</th>\n",
       "      <th>score</th>\n",
       "    </tr>\n",
       "  </thead>\n",
       "  <tbody>\n",
       "    <tr>\n",
       "      <th>0</th>\n",
       "      <td>harassment</td>\n",
       "      <td>True</td>\n",
       "      <td>0.886361</td>\n",
       "    </tr>\n",
       "    <tr>\n",
       "      <th>1</th>\n",
       "      <td>harassment_threatening</td>\n",
       "      <td>True</td>\n",
       "      <td>0.917939</td>\n",
       "    </tr>\n",
       "    <tr>\n",
       "      <th>2</th>\n",
       "      <td>hate</td>\n",
       "      <td>True</td>\n",
       "      <td>0.859944</td>\n",
       "    </tr>\n",
       "    <tr>\n",
       "      <th>3</th>\n",
       "      <td>hate_threatening</td>\n",
       "      <td>True</td>\n",
       "      <td>0.918255</td>\n",
       "    </tr>\n",
       "    <tr>\n",
       "      <th>4</th>\n",
       "      <td>violence</td>\n",
       "      <td>True</td>\n",
       "      <td>0.943620</td>\n",
       "    </tr>\n",
       "    <tr>\n",
       "      <th>5</th>\n",
       "      <td>harassment/threatening</td>\n",
       "      <td>True</td>\n",
       "      <td>0.917939</td>\n",
       "    </tr>\n",
       "    <tr>\n",
       "      <th>6</th>\n",
       "      <td>hate/threatening</td>\n",
       "      <td>True</td>\n",
       "      <td>0.918255</td>\n",
       "    </tr>\n",
       "  </tbody>\n",
       "</table>\n",
       "</div>"
      ],
      "text/plain": [
       "                 category  bool     score\n",
       "0              harassment  True  0.886361\n",
       "1  harassment_threatening  True  0.917939\n",
       "2                    hate  True  0.859944\n",
       "3        hate_threatening  True  0.918255\n",
       "4                violence  True  0.943620\n",
       "5  harassment/threatening  True  0.917939\n",
       "6        hate/threatening  True  0.918255"
      ]
     },
     "execution_count": 30,
     "metadata": {},
     "output_type": "execute_result"
    }
   ],
   "source": [
    "input_text = ''' \n",
    "유대인 개썅년들을 다 죽여버리거나 태워버려.\n",
    "'''\n",
    "\n",
    "get_moderation_result(input_text)"
   ]
  },
  {
   "cell_type": "markdown",
   "id": "066e81cf",
   "metadata": {},
   "source": [
    "#### Image"
   ]
  },
  {
   "cell_type": "code",
   "execution_count": 31,
   "id": "fac08267",
   "metadata": {},
   "outputs": [],
   "source": [
    "# 1. image url\n",
    "# 2. BASE64 Encoding(텍스트)\n",
    "\n",
    "image_url = 'https://images.rawpixel.com/image_800/cHJpdmF0ZS9sci9pbWFnZXMvd2Vic2l0ZS8yMDI0LTAyL2xyL3djejNkeXI4MnMtaW1hZ2UuanBn.jpg'"
   ]
  },
  {
   "cell_type": "code",
   "execution_count": 32,
   "id": "080a8bb3",
   "metadata": {},
   "outputs": [
    {
     "data": {
      "text/html": [
       "<div>\n",
       "<style scoped>\n",
       "    .dataframe tbody tr th:only-of-type {\n",
       "        vertical-align: middle;\n",
       "    }\n",
       "\n",
       "    .dataframe tbody tr th {\n",
       "        vertical-align: top;\n",
       "    }\n",
       "\n",
       "    .dataframe thead th {\n",
       "        text-align: right;\n",
       "    }\n",
       "</style>\n",
       "<table border=\"1\" class=\"dataframe\">\n",
       "  <thead>\n",
       "    <tr style=\"text-align: right;\">\n",
       "      <th></th>\n",
       "      <th>category</th>\n",
       "      <th>bool</th>\n",
       "      <th>score</th>\n",
       "    </tr>\n",
       "  </thead>\n",
       "  <tbody>\n",
       "    <tr>\n",
       "      <th>0</th>\n",
       "      <td>violence</td>\n",
       "      <td>True</td>\n",
       "      <td>0.453194</td>\n",
       "    </tr>\n",
       "  </tbody>\n",
       "</table>\n",
       "</div>"
      ],
      "text/plain": [
       "   category  bool     score\n",
       "0  violence  True  0.453194"
      ]
     },
     "execution_count": 32,
     "metadata": {},
     "output_type": "execute_result"
    }
   ],
   "source": [
    "get_moderation_result(input=[\n",
    "    {\n",
    "        'type': 'image_url',\n",
    "        'image_url': {\n",
    "            'url': image_url\n",
    "        }\n",
    "    }\n",
    "])"
   ]
  }
 ],
 "metadata": {
  "kernelspec": {
   "display_name": "llm_env",
   "language": "python",
   "name": "python3"
  },
  "language_info": {
   "codemirror_mode": {
    "name": "ipython",
    "version": 3
   },
   "file_extension": ".py",
   "mimetype": "text/x-python",
   "name": "python",
   "nbconvert_exporter": "python",
   "pygments_lexer": "ipython3",
   "version": "3.12.11"
  }
 },
 "nbformat": 4,
 "nbformat_minor": 5
}
