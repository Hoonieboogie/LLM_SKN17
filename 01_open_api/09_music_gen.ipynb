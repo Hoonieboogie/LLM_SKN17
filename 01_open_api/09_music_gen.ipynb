{
 "cells": [
  {
   "cell_type": "markdown",
   "id": "86bdee56",
   "metadata": {},
   "source": [
    "# 멜로디 생성"
   ]
  },
  {
   "cell_type": "code",
   "execution_count": 2,
   "id": "f6af832b",
   "metadata": {},
   "outputs": [],
   "source": [
    "#!pip install scipy"
   ]
  },
  {
   "cell_type": "code",
   "execution_count": 3,
   "id": "651a88ea",
   "metadata": {},
   "outputs": [
    {
     "name": "stderr",
     "output_type": "stream",
     "text": [
      "Device set to use cpu\n"
     ]
    }
   ],
   "source": [
    "from transformers import pipeline\n",
    "import scipy\n",
    "\n",
    "synthesiser = pipeline('text-to-audio', 'facebook/musicgen-small')"
   ]
  },
  {
   "cell_type": "code",
   "execution_count": 7,
   "id": "60b3bbbc",
   "metadata": {},
   "outputs": [],
   "source": [
    "music = synthesiser('New York Basement Party Jazz House Music', forward_params={'do_sample':True})"
   ]
  },
  {
   "cell_type": "code",
   "execution_count": 9,
   "id": "f4b07d5b",
   "metadata": {},
   "outputs": [
    {
     "data": {
      "text/plain": [
       "{'audio': array([[[-0.00046504, -0.0026504 ,  0.0010666 , ..., -0.15903899,\n",
       "          -0.1604615 , -0.16634454]]], shape=(1, 1, 957440), dtype=float32),\n",
       " 'sampling_rate': 32000}"
      ]
     },
     "execution_count": 9,
     "metadata": {},
     "output_type": "execute_result"
    }
   ],
   "source": [
    "music"
   ]
  },
  {
   "cell_type": "code",
   "execution_count": 8,
   "id": "599e669a",
   "metadata": {},
   "outputs": [],
   "source": [
    "scipy.io.wavfile.write(\n",
    "    'musicgen_output.wav',\n",
    "    rate=music['sampling_rate'], # Hz\n",
    "    data=music['audio'] \n",
    ")"
   ]
  }
 ],
 "metadata": {
  "kernelspec": {
   "display_name": "llm_env",
   "language": "python",
   "name": "python3"
  },
  "language_info": {
   "codemirror_mode": {
    "name": "ipython",
    "version": 3
   },
   "file_extension": ".py",
   "mimetype": "text/x-python",
   "name": "python",
   "nbconvert_exporter": "python",
   "pygments_lexer": "ipython3",
   "version": "3.12.11"
  }
 },
 "nbformat": 4,
 "nbformat_minor": 5
}
