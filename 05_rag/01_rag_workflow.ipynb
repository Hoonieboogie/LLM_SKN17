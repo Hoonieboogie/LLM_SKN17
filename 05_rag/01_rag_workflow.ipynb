{
 "cells": [
  {
   "cell_type": "markdown",
   "id": "129eb62c",
   "metadata": {},
   "source": [
    "# RAG (Retrieval Augmented Generation)\n",
    "\n",
    "- 자체 문서를 사용하여 응답을 생성 (RAG 프로세스에 따라 진행해보기!)"
   ]
  },
  {
   "cell_type": "code",
   "execution_count": 1,
   "id": "ae708140",
   "metadata": {},
   "outputs": [
    {
     "data": {
      "text/plain": [
       "True"
      ]
     },
     "execution_count": 1,
     "metadata": {},
     "output_type": "execute_result"
    }
   ],
   "source": [
    "from dotenv import load_dotenv\n",
    "load_dotenv()"
   ]
  },
  {
   "cell_type": "markdown",
   "id": "ae3e2951",
   "metadata": {
    "vscode": {
     "languageId": "plaintext"
    }
   },
   "source": [
    "### Phase 1: Indexing"
   ]
  },
  {
   "cell_type": "markdown",
   "id": "312f9a60",
   "metadata": {
    "vscode": {
     "languageId": "plaintext"
    }
   },
   "source": [
    "##### [1] Load\n",
    "- 데이터 로드\n",
    "- Document Loader 시용"
   ]
  },
  {
   "cell_type": "code",
   "execution_count": 2,
   "id": "19771e22",
   "metadata": {},
   "outputs": [
    {
     "data": {
      "text/plain": [
       "[Document(metadata={'producer': 'Microsoft® PowerPoint® 2013', 'creator': 'Microsoft® PowerPoint® 2013', 'creationdate': '2023-09-12T11:20:24+09:00', 'title': 'PowerPoint 프레젠테이션', 'author': 'PC', 'moddate': '2023-09-12T11:20:24+09:00', 'source': './snow-white.pdf', 'total_pages': 6, 'page': 0, 'page_label': '1'}, page_content='백설공주\\n옛날 어느 왕국에 공주님이 태어났어요.\\n“어쩜 이렇게 어여쁠까? 살결이 눈처럼 하얗구나. 백\\n설공주라고 불러야겠다.”\\n왕과 왕비는 갓 태어난 딸을 보며 기뻐했어요.\\n하지만 기쁨도 잠시, 왕비는 곧 세상을 떠나고 말았어\\n요.'),\n",
       " Document(metadata={'producer': 'Microsoft® PowerPoint® 2013', 'creator': 'Microsoft® PowerPoint® 2013', 'creationdate': '2023-09-12T11:20:24+09:00', 'title': 'PowerPoint 프레젠테이션', 'author': 'PC', 'moddate': '2023-09-12T11:20:24+09:00', 'source': './snow-white.pdf', 'total_pages': 6, 'page': 1, 'page_label': '2'}, page_content='왕은 아름다운 새 왕비를 맞았어요.\\n그런데 새 왕비는 자기보다 아름다운 사람을 두고 보\\n지 못했어요.\\n왕비는 진실만을 말하는 요술 거울에게 늘 이렇게 물\\n었어요.\\n“거울아, 거울아. 이 세상에서 누가 가장 아름답니?”\\n“이 세상에서 가장 아름다운 사람은 왕비님입니다.”\\n그 대답을 들어야만 차가운 왕비 얼굴에 미소가 번졌\\n지요.\\n시간이 흘러 백설공주는 어여쁜 소녀가 되었어요.\\n어느 날, 왕비는 요술 거울에게 물었지요.\\n“거울아, 거울아. 이 세상에서 누가 가장 아름답니?”\\n“왕비님도 아름답지만 백설공주가 더 아름답습니다.”\\n화가 난 왕비는 사냥꾼을 불렀어요.\\n왕비는 사냥꾼에게 백설공주를 죽이라고 명령했어요.\\n하지만 사냥꾼은 차마 그럴 수 없었어요.\\n“가여운 공주님, 왕비님이 찾지 못하도록 멀리멀리 떠\\n나세요.”\\n백설공주는 울면서 숲으로 도망쳤어요.'),\n",
       " Document(metadata={'producer': 'Microsoft® PowerPoint® 2013', 'creator': 'Microsoft® PowerPoint® 2013', 'creationdate': '2023-09-12T11:20:24+09:00', 'title': 'PowerPoint 프레젠테이션', 'author': 'PC', 'moddate': '2023-09-12T11:20:24+09:00', 'source': './snow-white.pdf', 'total_pages': 6, 'page': 2, 'page_label': '3'}, page_content='숲속을 헤매던 백설공주는 외딴 오두막에 이르렀어요.\\n들여다보니 오두막은 비어 있었어요.\\n“아무도 없네. 좀 쉬어 가도 될까? 어? 신기하다! 모든 게 작아. \\n어어? 이상하다! 모든 게 일곱. 의자도 일곱, 접시도 일곱. 어머, \\n침대도 일곱 개네.”\\n도망치느라 치진 백설공주는 식탁 위에 있던 빵을 먹고 나서\\n일곱 번째 침대에 쓰러져 잠들었어요.\\n밤이 되자 오두막 주인인 일곱 난쟁이가 돌아왔어요.\\n난쟁이들은 집 안이 어질러진 것을 보고 깜짝 놀랐지요.\\n일곱째 난쟁이가 큰 소리로 외쳤어요.\\n“누가 내 침대에서 자고 있어!”\\n북적이는 소리에 잠이 깬 백설공주는 왕비를 피해 도망쳤다고\\n이야기했어요.\\n“불쌍한 공주님, 우리와 함께 살아요. 조심조심 또 조심. 낯선\\n사람에게는 문을 열어 주지 마세요.”\\n며칠이 지나 왕비는 다시 요술 거울에게 누가 가장 아름다운\\n지 물었어요.\\n“왕비님도 아름답지만 백설공주님이 천배는 더 아름답습니다.”\\n“사냥꾼이 날 속였구나. 내가 직접 해치우겠어!”'),\n",
       " Document(metadata={'producer': 'Microsoft® PowerPoint® 2013', 'creator': 'Microsoft® PowerPoint® 2013', 'creationdate': '2023-09-12T11:20:24+09:00', 'title': 'PowerPoint 프레젠테이션', 'author': 'PC', 'moddate': '2023-09-12T11:20:24+09:00', 'source': './snow-white.pdf', 'total_pages': 6, 'page': 3, 'page_label': '4'}, page_content='왕비는 먹음직스럽게 생긴 사과를 골라 독을 발랐어요.\\n그리고 과일 장수로 변장했지요.\\n왕비는 산을 넘고 또 넘어 일곱 난쟁이의 오두막에 도착했어요.\\n“새콤달콤 맛있는 사과가 있어요. 아가씨의 붉은 입술처럼 새빨\\n간 사과랍니다. 잠깐 문을 열어 보세요.”\\n백설공주는 고개를 저었어요.\\n“난쟁이들이 문을 열어 주지 말라고 했어요.”\\n백설공주가 거절하자, 왕비는 창문 틈새로 사과를 쑥 내밀었어\\n요.\\n“그럼, 맛이라도 봐요. 정말 맛있으니까. 둘이 먹다 하나가 죽어\\n도 모를걸요.”\\n“탐스러운 사과네. 맛있어 보여. 한입만 아삭 깨물어 볼까?”\\n사과를 베어 문 순간, 백설공주는 온몸에 독이 퍼져 정신을 잃고\\n쓰러졌어요.\\n“호호호. 이제 내가 세상에서 가장 아름답겠지?”\\n왕비는 백설공주를 버려둔 채 자리를 떠났어요.'),\n",
       " Document(metadata={'producer': 'Microsoft® PowerPoint® 2013', 'creator': 'Microsoft® PowerPoint® 2013', 'creationdate': '2023-09-12T11:20:24+09:00', 'title': 'PowerPoint 프레젠테이션', 'author': 'PC', 'moddate': '2023-09-12T11:20:24+09:00', 'source': './snow-white.pdf', 'total_pages': 6, 'page': 4, 'page_label': '5'}, page_content='저녁이 되자, 일곱 난쟁이가 돌아왔어요.\\n난쟁이들은 쓰러진 백설공주를 보고 엉엉 울었어요.\\n백설공주는 깊은 잠에 빠진 것처럼 보였지요.\\n“백설공주님, 못된 왕비의 꾐에 넘어갔군요.”\\n“여전히 아름다운 우리 공주님을 캄캄한 땅속에 묻을 순 없어.”\\n“오래오래 볼 수 있게 유리 관에 모시자.”\\n어느 날, 한 왕자가 숲을 지나다가 유리관을 보았어요.\\n“누구지? 이 아름다운 여인은?”\\n“백설공주랍니다.”\\n왕자는 백설공주에게 반해 유리관을 달라고 부탁했어요.\\n일곱 난쟁이는 백설공주를 잘 지킨다는 약속을 받고 유리관을\\n내주었지요.\\n그런데 신하들이 유리관을 옮기다 돌부리에 툭! 백설공주 목\\n에서 사과 조각이 툭! \\n“우아, 공주님이 살아났어!”'),\n",
       " Document(metadata={'producer': 'Microsoft® PowerPoint® 2013', 'creator': 'Microsoft® PowerPoint® 2013', 'creationdate': '2023-09-12T11:20:24+09:00', 'title': 'PowerPoint 프레젠테이션', 'author': 'PC', 'moddate': '2023-09-12T11:20:24+09:00', 'source': './snow-white.pdf', 'total_pages': 6, 'page': 5, 'page_label': '6'}, page_content='왕자는 깨어난 백설공주를 보고 기뻐했어요.\\n“공주님, 나는 이웃 나라 왕자입니다.”\\n“왕자님이 나를 다시 살려 주셨군요.”\\n“나와 결혼해 주시겠어요?”\\n“네, 좋아요!”\\n두 사람은 일곱 난쟁이와 함께 오래오래 행복하게 살\\n았답니다.')]"
      ]
     },
     "execution_count": 2,
     "metadata": {},
     "output_type": "execute_result"
    }
   ],
   "source": [
    "from langchain_community.document_loaders import PyPDFLoader\n",
    "\n",
    "loader = PyPDFLoader('./snow-white.pdf')\n",
    "documents = loader.load()\n",
    "\n",
    "documents"
   ]
  },
  {
   "cell_type": "code",
   "execution_count": 3,
   "id": "169de44c",
   "metadata": {},
   "outputs": [
    {
     "data": {
      "text/plain": [
       "[Document(metadata={'producer': 'Microsoft® PowerPoint® 2013', 'creator': 'Microsoft® PowerPoint® 2013', 'creationdate': '2023-09-12T11:20:24+09:00', 'title': 'PowerPoint 프레젠테이션', 'author': 'PC', 'moddate': '2023-09-12T11:20:24+09:00', 'source': './snow-white.pdf', 'total_pages': 6, 'page': 0, 'page_label': '1'}, page_content='백설공주 옛날 어느 왕국에 공주님이 태어났어요. “어쩜 이렇게 어여쁠까? 살결이 눈처럼 하얗구나. 백 설공주라고 불러야겠다.” 왕과 왕비는 갓 태어난 딸을 보며 기뻐했어요. 하지만 기쁨도 잠시, 왕비는 곧 세상을 떠나고 말았어 요.'),\n",
       " Document(metadata={'producer': 'Microsoft® PowerPoint® 2013', 'creator': 'Microsoft® PowerPoint® 2013', 'creationdate': '2023-09-12T11:20:24+09:00', 'title': 'PowerPoint 프레젠테이션', 'author': 'PC', 'moddate': '2023-09-12T11:20:24+09:00', 'source': './snow-white.pdf', 'total_pages': 6, 'page': 1, 'page_label': '2'}, page_content='왕은 아름다운 새 왕비를 맞았어요. 그런데 새 왕비는 자기보다 아름다운 사람을 두고 보 지 못했어요. 왕비는 진실만을 말하는 요술 거울에게 늘 이렇게 물 었어요. “거울아, 거울아. 이 세상에서 누가 가장 아름답니?” “이 세상에서 가장 아름다운 사람은 왕비님입니다.” 그 대답을 들어야만 차가운 왕비 얼굴에 미소가 번졌 지요. 시간이 흘러 백설공주는 어여쁜 소녀가 되었어요. 어느 날, 왕비는 요술 거울에게 물었지요. “거울아, 거울아. 이 세상에서 누가 가장 아름답니?” “왕비님도 아름답지만 백설공주가 더 아름답습니다.” 화가 난 왕비는 사냥꾼을 불렀어요. 왕비는 사냥꾼에게 백설공주를 죽이라고 명령했어요. 하지만 사냥꾼은 차마 그럴 수 없었어요. “가여운 공주님, 왕비님이 찾지 못하도록 멀리멀리 떠 나세요.” 백설공주는 울면서 숲으로 도망쳤어요.'),\n",
       " Document(metadata={'producer': 'Microsoft® PowerPoint® 2013', 'creator': 'Microsoft® PowerPoint® 2013', 'creationdate': '2023-09-12T11:20:24+09:00', 'title': 'PowerPoint 프레젠테이션', 'author': 'PC', 'moddate': '2023-09-12T11:20:24+09:00', 'source': './snow-white.pdf', 'total_pages': 6, 'page': 2, 'page_label': '3'}, page_content='숲속을 헤매던 백설공주는 외딴 오두막에 이르렀어요. 들여다보니 오두막은 비어 있었어요. “아무도 없네. 좀 쉬어 가도 될까? 어? 신기하다! 모든 게 작아.  어어? 이상하다! 모든 게 일곱. 의자도 일곱, 접시도 일곱. 어머,  침대도 일곱 개네.” 도망치느라 치진 백설공주는 식탁 위에 있던 빵을 먹고 나서 일곱 번째 침대에 쓰러져 잠들었어요. 밤이 되자 오두막 주인인 일곱 난쟁이가 돌아왔어요. 난쟁이들은 집 안이 어질러진 것을 보고 깜짝 놀랐지요. 일곱째 난쟁이가 큰 소리로 외쳤어요. “누가 내 침대에서 자고 있어!” 북적이는 소리에 잠이 깬 백설공주는 왕비를 피해 도망쳤다고 이야기했어요. “불쌍한 공주님, 우리와 함께 살아요. 조심조심 또 조심. 낯선 사람에게는 문을 열어 주지 마세요.” 며칠이 지나 왕비는 다시 요술 거울에게 누가 가장 아름다운 지 물었어요. “왕비님도 아름답지만 백설공주님이 천배는 더 아름답습니다.” “사냥꾼이 날 속였구나. 내가 직접 해치우겠어!”'),\n",
       " Document(metadata={'producer': 'Microsoft® PowerPoint® 2013', 'creator': 'Microsoft® PowerPoint® 2013', 'creationdate': '2023-09-12T11:20:24+09:00', 'title': 'PowerPoint 프레젠테이션', 'author': 'PC', 'moddate': '2023-09-12T11:20:24+09:00', 'source': './snow-white.pdf', 'total_pages': 6, 'page': 3, 'page_label': '4'}, page_content='왕비는 먹음직스럽게 생긴 사과를 골라 독을 발랐어요. 그리고 과일 장수로 변장했지요. 왕비는 산을 넘고 또 넘어 일곱 난쟁이의 오두막에 도착했어요. “새콤달콤 맛있는 사과가 있어요. 아가씨의 붉은 입술처럼 새빨 간 사과랍니다. 잠깐 문을 열어 보세요.” 백설공주는 고개를 저었어요. “난쟁이들이 문을 열어 주지 말라고 했어요.” 백설공주가 거절하자, 왕비는 창문 틈새로 사과를 쑥 내밀었어 요. “그럼, 맛이라도 봐요. 정말 맛있으니까. 둘이 먹다 하나가 죽어 도 모를걸요.” “탐스러운 사과네. 맛있어 보여. 한입만 아삭 깨물어 볼까?” 사과를 베어 문 순간, 백설공주는 온몸에 독이 퍼져 정신을 잃고 쓰러졌어요. “호호호. 이제 내가 세상에서 가장 아름답겠지?” 왕비는 백설공주를 버려둔 채 자리를 떠났어요.'),\n",
       " Document(metadata={'producer': 'Microsoft® PowerPoint® 2013', 'creator': 'Microsoft® PowerPoint® 2013', 'creationdate': '2023-09-12T11:20:24+09:00', 'title': 'PowerPoint 프레젠테이션', 'author': 'PC', 'moddate': '2023-09-12T11:20:24+09:00', 'source': './snow-white.pdf', 'total_pages': 6, 'page': 4, 'page_label': '5'}, page_content='저녁이 되자, 일곱 난쟁이가 돌아왔어요. 난쟁이들은 쓰러진 백설공주를 보고 엉엉 울었어요. 백설공주는 깊은 잠에 빠진 것처럼 보였지요. “백설공주님, 못된 왕비의 꾐에 넘어갔군요.” “여전히 아름다운 우리 공주님을 캄캄한 땅속에 묻을 순 없어.” “오래오래 볼 수 있게 유리 관에 모시자.” 어느 날, 한 왕자가 숲을 지나다가 유리관을 보았어요. “누구지? 이 아름다운 여인은?” “백설공주랍니다.” 왕자는 백설공주에게 반해 유리관을 달라고 부탁했어요. 일곱 난쟁이는 백설공주를 잘 지킨다는 약속을 받고 유리관을 내주었지요. 그런데 신하들이 유리관을 옮기다 돌부리에 툭! 백설공주 목 에서 사과 조각이 툭!  “우아, 공주님이 살아났어!”'),\n",
       " Document(metadata={'producer': 'Microsoft® PowerPoint® 2013', 'creator': 'Microsoft® PowerPoint® 2013', 'creationdate': '2023-09-12T11:20:24+09:00', 'title': 'PowerPoint 프레젠테이션', 'author': 'PC', 'moddate': '2023-09-12T11:20:24+09:00', 'source': './snow-white.pdf', 'total_pages': 6, 'page': 5, 'page_label': '6'}, page_content='왕자는 깨어난 백설공주를 보고 기뻐했어요. “공주님, 나는 이웃 나라 왕자입니다.” “왕자님이 나를 다시 살려 주셨군요.” “나와 결혼해 주시겠어요?” “네, 좋아요!” 두 사람은 일곱 난쟁이와 함께 오래오래 행복하게 살 았답니다.')]"
      ]
     },
     "execution_count": 3,
     "metadata": {},
     "output_type": "execute_result"
    }
   ],
   "source": [
    "for doc in documents:\n",
    "    doc.page_content = doc.page_content.replace('\\n', ' ')\n",
    "    \n",
    "documents"
   ]
  },
  {
   "cell_type": "markdown",
   "id": "24719e2f",
   "metadata": {},
   "source": [
    "##### [2] Split\n",
    "\n",
    "- Text Splitter: 큰 문서 -> 작은 chunk 분할\n",
    "    - 데이터를 인덱싱하거나 모델에 전달할 때 유용\n",
    "    - chunk가 커도 문제 (그런데 chunk가 너무 작아도 문제)\n"
   ]
  },
  {
   "cell_type": "code",
   "execution_count": 8,
   "id": "2838a6d7",
   "metadata": {},
   "outputs": [
    {
     "data": {
      "text/plain": [
       "['대한민국의 역사는 매우 길고 다양하다. 고조선부터',\n",
       " '고조선부터 시작해서 삼국시대, 고려, 조선, 현대에',\n",
       " '조선, 현대에 이르기까지 수많은 사건과 인물이',\n",
       " '사건과 인물이 존재한다.']"
      ]
     },
     "execution_count": 8,
     "metadata": {},
     "output_type": "execute_result"
    }
   ],
   "source": [
    "from langchain.text_splitter import RecursiveCharacterTextSplitter\n",
    "\n",
    "text = '대한민국의 역사는 매우 길고 다양하다. 고조선부터 시작해서 삼국시대, 고려, 조선, 현대에 이르기까지 수많은 사건과 인물이 존재한다.'\n",
    "\n",
    "splitter = RecursiveCharacterTextSplitter(\n",
    "    chunk_size=30,\n",
    "    chunk_overlap=10\n",
    ")\n",
    "\n",
    "splitter.split_text(text)"
   ]
  },
  {
   "cell_type": "code",
   "execution_count": 10,
   "id": "e150abaf",
   "metadata": {},
   "outputs": [
    {
     "data": {
      "text/plain": [
       "[Document(metadata={'producer': 'Microsoft® PowerPoint® 2013', 'creator': 'Microsoft® PowerPoint® 2013', 'creationdate': '2023-09-12T11:20:24+09:00', 'title': 'PowerPoint 프레젠테이션', 'author': 'PC', 'moddate': '2023-09-12T11:20:24+09:00', 'source': './snow-white.pdf', 'total_pages': 6, 'page': 0, 'page_label': '1'}, page_content='백설공주 옛날 어느 왕국에 공주님이 태어났어요. “어쩜 이렇게 어여쁠까? 살결이 눈처럼 하얗구나. 백 설공주라고 불러야겠다.” 왕과 왕비는 갓 태어난 딸을 보며 기뻐했어요. 하지만'),\n",
       " Document(metadata={'producer': 'Microsoft® PowerPoint® 2013', 'creator': 'Microsoft® PowerPoint® 2013', 'creationdate': '2023-09-12T11:20:24+09:00', 'title': 'PowerPoint 프레젠테이션', 'author': 'PC', 'moddate': '2023-09-12T11:20:24+09:00', 'source': './snow-white.pdf', 'total_pages': 6, 'page': 0, 'page_label': '1'}, page_content='딸을 보며 기뻐했어요. 하지만 기쁨도 잠시, 왕비는 곧 세상을 떠나고 말았어 요.'),\n",
       " Document(metadata={'producer': 'Microsoft® PowerPoint® 2013', 'creator': 'Microsoft® PowerPoint® 2013', 'creationdate': '2023-09-12T11:20:24+09:00', 'title': 'PowerPoint 프레젠테이션', 'author': 'PC', 'moddate': '2023-09-12T11:20:24+09:00', 'source': './snow-white.pdf', 'total_pages': 6, 'page': 1, 'page_label': '2'}, page_content='왕은 아름다운 새 왕비를 맞았어요. 그런데 새 왕비는 자기보다 아름다운 사람을 두고 보 지 못했어요. 왕비는 진실만을 말하는 요술 거울에게 늘 이렇게 물 었어요. “거울아,'),\n",
       " Document(metadata={'producer': 'Microsoft® PowerPoint® 2013', 'creator': 'Microsoft® PowerPoint® 2013', 'creationdate': '2023-09-12T11:20:24+09:00', 'title': 'PowerPoint 프레젠테이션', 'author': 'PC', 'moddate': '2023-09-12T11:20:24+09:00', 'source': './snow-white.pdf', 'total_pages': 6, 'page': 1, 'page_label': '2'}, page_content='늘 이렇게 물 었어요. “거울아, 거울아. 이 세상에서 누가 가장 아름답니?” “이 세상에서 가장 아름다운 사람은 왕비님입니다.” 그 대답을 들어야만 차가운 왕비 얼굴에 미소가'),\n",
       " Document(metadata={'producer': 'Microsoft® PowerPoint® 2013', 'creator': 'Microsoft® PowerPoint® 2013', 'creationdate': '2023-09-12T11:20:24+09:00', 'title': 'PowerPoint 프레젠테이션', 'author': 'PC', 'moddate': '2023-09-12T11:20:24+09:00', 'source': './snow-white.pdf', 'total_pages': 6, 'page': 1, 'page_label': '2'}, page_content='들어야만 차가운 왕비 얼굴에 미소가 번졌 지요. 시간이 흘러 백설공주는 어여쁜 소녀가 되었어요. 어느 날, 왕비는 요술 거울에게 물었지요. “거울아, 거울아. 이 세상에서 누가'),\n",
       " Document(metadata={'producer': 'Microsoft® PowerPoint® 2013', 'creator': 'Microsoft® PowerPoint® 2013', 'creationdate': '2023-09-12T11:20:24+09:00', 'title': 'PowerPoint 프레젠테이션', 'author': 'PC', 'moddate': '2023-09-12T11:20:24+09:00', 'source': './snow-white.pdf', 'total_pages': 6, 'page': 1, 'page_label': '2'}, page_content='거울아. 이 세상에서 누가 가장 아름답니?” “왕비님도 아름답지만 백설공주가 더 아름답습니다.” 화가 난 왕비는 사냥꾼을 불렀어요. 왕비는 사냥꾼에게 백설공주를 죽이라고'),\n",
       " Document(metadata={'producer': 'Microsoft® PowerPoint® 2013', 'creator': 'Microsoft® PowerPoint® 2013', 'creationdate': '2023-09-12T11:20:24+09:00', 'title': 'PowerPoint 프레젠테이션', 'author': 'PC', 'moddate': '2023-09-12T11:20:24+09:00', 'source': './snow-white.pdf', 'total_pages': 6, 'page': 1, 'page_label': '2'}, page_content='사냥꾼에게 백설공주를 죽이라고 명령했어요. 하지만 사냥꾼은 차마 그럴 수 없었어요. “가여운 공주님, 왕비님이 찾지 못하도록 멀리멀리 떠 나세요.” 백설공주는 울면서 숲으로'),\n",
       " Document(metadata={'producer': 'Microsoft® PowerPoint® 2013', 'creator': 'Microsoft® PowerPoint® 2013', 'creationdate': '2023-09-12T11:20:24+09:00', 'title': 'PowerPoint 프레젠테이션', 'author': 'PC', 'moddate': '2023-09-12T11:20:24+09:00', 'source': './snow-white.pdf', 'total_pages': 6, 'page': 1, 'page_label': '2'}, page_content='나세요.” 백설공주는 울면서 숲으로 도망쳤어요.'),\n",
       " Document(metadata={'producer': 'Microsoft® PowerPoint® 2013', 'creator': 'Microsoft® PowerPoint® 2013', 'creationdate': '2023-09-12T11:20:24+09:00', 'title': 'PowerPoint 프레젠테이션', 'author': 'PC', 'moddate': '2023-09-12T11:20:24+09:00', 'source': './snow-white.pdf', 'total_pages': 6, 'page': 2, 'page_label': '3'}, page_content='숲속을 헤매던 백설공주는 외딴 오두막에 이르렀어요. 들여다보니 오두막은 비어 있었어요. “아무도 없네. 좀 쉬어 가도 될까? 어? 신기하다! 모든 게 작아.  어어? 이상하다!'),\n",
       " Document(metadata={'producer': 'Microsoft® PowerPoint® 2013', 'creator': 'Microsoft® PowerPoint® 2013', 'creationdate': '2023-09-12T11:20:24+09:00', 'title': 'PowerPoint 프레젠테이션', 'author': 'PC', 'moddate': '2023-09-12T11:20:24+09:00', 'source': './snow-white.pdf', 'total_pages': 6, 'page': 2, 'page_label': '3'}, page_content='모든 게 작아.  어어? 이상하다! 모든 게 일곱. 의자도 일곱, 접시도 일곱. 어머,  침대도 일곱 개네.” 도망치느라 치진 백설공주는 식탁 위에 있던 빵을 먹고 나서 일곱'),\n",
       " Document(metadata={'producer': 'Microsoft® PowerPoint® 2013', 'creator': 'Microsoft® PowerPoint® 2013', 'creationdate': '2023-09-12T11:20:24+09:00', 'title': 'PowerPoint 프레젠테이션', 'author': 'PC', 'moddate': '2023-09-12T11:20:24+09:00', 'source': './snow-white.pdf', 'total_pages': 6, 'page': 2, 'page_label': '3'}, page_content='위에 있던 빵을 먹고 나서 일곱 번째 침대에 쓰러져 잠들었어요. 밤이 되자 오두막 주인인 일곱 난쟁이가 돌아왔어요. 난쟁이들은 집 안이 어질러진 것을 보고 깜짝 놀랐지요. 일곱째'),\n",
       " Document(metadata={'producer': 'Microsoft® PowerPoint® 2013', 'creator': 'Microsoft® PowerPoint® 2013', 'creationdate': '2023-09-12T11:20:24+09:00', 'title': 'PowerPoint 프레젠테이션', 'author': 'PC', 'moddate': '2023-09-12T11:20:24+09:00', 'source': './snow-white.pdf', 'total_pages': 6, 'page': 2, 'page_label': '3'}, page_content='것을 보고 깜짝 놀랐지요. 일곱째 난쟁이가 큰 소리로 외쳤어요. “누가 내 침대에서 자고 있어!” 북적이는 소리에 잠이 깬 백설공주는 왕비를 피해 도망쳤다고 이야기했어요.'),\n",
       " Document(metadata={'producer': 'Microsoft® PowerPoint® 2013', 'creator': 'Microsoft® PowerPoint® 2013', 'creationdate': '2023-09-12T11:20:24+09:00', 'title': 'PowerPoint 프레젠테이션', 'author': 'PC', 'moddate': '2023-09-12T11:20:24+09:00', 'source': './snow-white.pdf', 'total_pages': 6, 'page': 2, 'page_label': '3'}, page_content='피해 도망쳤다고 이야기했어요. “불쌍한 공주님, 우리와 함께 살아요. 조심조심 또 조심. 낯선 사람에게는 문을 열어 주지 마세요.” 며칠이 지나 왕비는 다시 요술 거울에게 누가'),\n",
       " Document(metadata={'producer': 'Microsoft® PowerPoint® 2013', 'creator': 'Microsoft® PowerPoint® 2013', 'creationdate': '2023-09-12T11:20:24+09:00', 'title': 'PowerPoint 프레젠테이션', 'author': 'PC', 'moddate': '2023-09-12T11:20:24+09:00', 'source': './snow-white.pdf', 'total_pages': 6, 'page': 2, 'page_label': '3'}, page_content='왕비는 다시 요술 거울에게 누가 가장 아름다운 지 물었어요. “왕비님도 아름답지만 백설공주님이 천배는 더 아름답습니다.” “사냥꾼이 날 속였구나. 내가 직접 해치우겠어!”'),\n",
       " Document(metadata={'producer': 'Microsoft® PowerPoint® 2013', 'creator': 'Microsoft® PowerPoint® 2013', 'creationdate': '2023-09-12T11:20:24+09:00', 'title': 'PowerPoint 프레젠테이션', 'author': 'PC', 'moddate': '2023-09-12T11:20:24+09:00', 'source': './snow-white.pdf', 'total_pages': 6, 'page': 3, 'page_label': '4'}, page_content='왕비는 먹음직스럽게 생긴 사과를 골라 독을 발랐어요. 그리고 과일 장수로 변장했지요. 왕비는 산을 넘고 또 넘어 일곱 난쟁이의 오두막에 도착했어요. “새콤달콤 맛있는 사과가'),\n",
       " Document(metadata={'producer': 'Microsoft® PowerPoint® 2013', 'creator': 'Microsoft® PowerPoint® 2013', 'creationdate': '2023-09-12T11:20:24+09:00', 'title': 'PowerPoint 프레젠테이션', 'author': 'PC', 'moddate': '2023-09-12T11:20:24+09:00', 'source': './snow-white.pdf', 'total_pages': 6, 'page': 3, 'page_label': '4'}, page_content='“새콤달콤 맛있는 사과가 있어요. 아가씨의 붉은 입술처럼 새빨 간 사과랍니다. 잠깐 문을 열어 보세요.” 백설공주는 고개를 저었어요. “난쟁이들이 문을 열어 주지 말라고'),\n",
       " Document(metadata={'producer': 'Microsoft® PowerPoint® 2013', 'creator': 'Microsoft® PowerPoint® 2013', 'creationdate': '2023-09-12T11:20:24+09:00', 'title': 'PowerPoint 프레젠테이션', 'author': 'PC', 'moddate': '2023-09-12T11:20:24+09:00', 'source': './snow-white.pdf', 'total_pages': 6, 'page': 3, 'page_label': '4'}, page_content='“난쟁이들이 문을 열어 주지 말라고 했어요.” 백설공주가 거절하자, 왕비는 창문 틈새로 사과를 쑥 내밀었어 요. “그럼, 맛이라도 봐요. 정말 맛있으니까. 둘이 먹다 하나가 죽어'),\n",
       " Document(metadata={'producer': 'Microsoft® PowerPoint® 2013', 'creator': 'Microsoft® PowerPoint® 2013', 'creationdate': '2023-09-12T11:20:24+09:00', 'title': 'PowerPoint 프레젠테이션', 'author': 'PC', 'moddate': '2023-09-12T11:20:24+09:00', 'source': './snow-white.pdf', 'total_pages': 6, 'page': 3, 'page_label': '4'}, page_content='맛있으니까. 둘이 먹다 하나가 죽어 도 모를걸요.” “탐스러운 사과네. 맛있어 보여. 한입만 아삭 깨물어 볼까?” 사과를 베어 문 순간, 백설공주는 온몸에 독이 퍼져 정신을 잃고'),\n",
       " Document(metadata={'producer': 'Microsoft® PowerPoint® 2013', 'creator': 'Microsoft® PowerPoint® 2013', 'creationdate': '2023-09-12T11:20:24+09:00', 'title': 'PowerPoint 프레젠테이션', 'author': 'PC', 'moddate': '2023-09-12T11:20:24+09:00', 'source': './snow-white.pdf', 'total_pages': 6, 'page': 3, 'page_label': '4'}, page_content='온몸에 독이 퍼져 정신을 잃고 쓰러졌어요. “호호호. 이제 내가 세상에서 가장 아름답겠지?” 왕비는 백설공주를 버려둔 채 자리를 떠났어요.'),\n",
       " Document(metadata={'producer': 'Microsoft® PowerPoint® 2013', 'creator': 'Microsoft® PowerPoint® 2013', 'creationdate': '2023-09-12T11:20:24+09:00', 'title': 'PowerPoint 프레젠테이션', 'author': 'PC', 'moddate': '2023-09-12T11:20:24+09:00', 'source': './snow-white.pdf', 'total_pages': 6, 'page': 4, 'page_label': '5'}, page_content='저녁이 되자, 일곱 난쟁이가 돌아왔어요. 난쟁이들은 쓰러진 백설공주를 보고 엉엉 울었어요. 백설공주는 깊은 잠에 빠진 것처럼 보였지요. “백설공주님, 못된 왕비의 꾐에'),\n",
       " Document(metadata={'producer': 'Microsoft® PowerPoint® 2013', 'creator': 'Microsoft® PowerPoint® 2013', 'creationdate': '2023-09-12T11:20:24+09:00', 'title': 'PowerPoint 프레젠테이션', 'author': 'PC', 'moddate': '2023-09-12T11:20:24+09:00', 'source': './snow-white.pdf', 'total_pages': 6, 'page': 4, 'page_label': '5'}, page_content='“백설공주님, 못된 왕비의 꾐에 넘어갔군요.” “여전히 아름다운 우리 공주님을 캄캄한 땅속에 묻을 순 없어.” “오래오래 볼 수 있게 유리 관에 모시자.” 어느 날, 한 왕자가'),\n",
       " Document(metadata={'producer': 'Microsoft® PowerPoint® 2013', 'creator': 'Microsoft® PowerPoint® 2013', 'creationdate': '2023-09-12T11:20:24+09:00', 'title': 'PowerPoint 프레젠테이션', 'author': 'PC', 'moddate': '2023-09-12T11:20:24+09:00', 'source': './snow-white.pdf', 'total_pages': 6, 'page': 4, 'page_label': '5'}, page_content='모시자.” 어느 날, 한 왕자가 숲을 지나다가 유리관을 보았어요. “누구지? 이 아름다운 여인은?” “백설공주랍니다.” 왕자는 백설공주에게 반해 유리관을 달라고 부탁했어요. 일곱'),\n",
       " Document(metadata={'producer': 'Microsoft® PowerPoint® 2013', 'creator': 'Microsoft® PowerPoint® 2013', 'creationdate': '2023-09-12T11:20:24+09:00', 'title': 'PowerPoint 프레젠테이션', 'author': 'PC', 'moddate': '2023-09-12T11:20:24+09:00', 'source': './snow-white.pdf', 'total_pages': 6, 'page': 4, 'page_label': '5'}, page_content='유리관을 달라고 부탁했어요. 일곱 난쟁이는 백설공주를 잘 지킨다는 약속을 받고 유리관을 내주었지요. 그런데 신하들이 유리관을 옮기다 돌부리에 툭! 백설공주 목 에서 사과 조각이'),\n",
       " Document(metadata={'producer': 'Microsoft® PowerPoint® 2013', 'creator': 'Microsoft® PowerPoint® 2013', 'creationdate': '2023-09-12T11:20:24+09:00', 'title': 'PowerPoint 프레젠테이션', 'author': 'PC', 'moddate': '2023-09-12T11:20:24+09:00', 'source': './snow-white.pdf', 'total_pages': 6, 'page': 4, 'page_label': '5'}, page_content='툭! 백설공주 목 에서 사과 조각이 툭!  “우아, 공주님이 살아났어!”'),\n",
       " Document(metadata={'producer': 'Microsoft® PowerPoint® 2013', 'creator': 'Microsoft® PowerPoint® 2013', 'creationdate': '2023-09-12T11:20:24+09:00', 'title': 'PowerPoint 프레젠테이션', 'author': 'PC', 'moddate': '2023-09-12T11:20:24+09:00', 'source': './snow-white.pdf', 'total_pages': 6, 'page': 5, 'page_label': '6'}, page_content='왕자는 깨어난 백설공주를 보고 기뻐했어요. “공주님, 나는 이웃 나라 왕자입니다.” “왕자님이 나를 다시 살려 주셨군요.” “나와 결혼해 주시겠어요?” “네, 좋아요!” 두 사람은'),\n",
       " Document(metadata={'producer': 'Microsoft® PowerPoint® 2013', 'creator': 'Microsoft® PowerPoint® 2013', 'creationdate': '2023-09-12T11:20:24+09:00', 'title': 'PowerPoint 프레젠테이션', 'author': 'PC', 'moddate': '2023-09-12T11:20:24+09:00', 'source': './snow-white.pdf', 'total_pages': 6, 'page': 5, 'page_label': '6'}, page_content='“네, 좋아요!” 두 사람은 일곱 난쟁이와 함께 오래오래 행복하게 살 았답니다.')]"
      ]
     },
     "execution_count": 10,
     "metadata": {},
     "output_type": "execute_result"
    }
   ],
   "source": [
    "splitter = RecursiveCharacterTextSplitter(\n",
    "    chunk_size=100,\n",
    "    chunk_overlap=20\n",
    ")\n",
    "\n",
    "docs = splitter.split_documents(documents)\n",
    "docs"
   ]
  },
  {
   "cell_type": "markdown",
   "id": "bccdf9a5",
   "metadata": {},
   "source": [
    "##### [3] Store\n",
    "\n",
    "- 분할된 chunk를 저장하고 indexing 할 저장소 필요\n",
    "    - VectorStore(VectoreDB), Embedding Model 사용"
   ]
  },
  {
   "cell_type": "code",
   "execution_count": 11,
   "id": "b8cfe1c9",
   "metadata": {},
   "outputs": [],
   "source": [
    "# 임베딩 모델\n",
    "from langchain_openai.embeddings import OpenAIEmbeddings\n",
    "\n",
    "embedding_model = OpenAIEmbeddings(model='text-embedding-3-small')"
   ]
  },
  {
   "cell_type": "code",
   "execution_count": null,
   "id": "4c9767cc",
   "metadata": {},
   "outputs": [
    {
     "name": "stdout",
     "output_type": "stream",
     "text": [
      "Collecting langchain-chroma\n",
      "  Downloading langchain_chroma-0.2.5-py3-none-any.whl.metadata (1.1 kB)\n",
      "Requirement already satisfied: langchain-core>=0.3.70 in c:\\users\\playdata\\anaconda3\\envs\\llm_env\\lib\\site-packages (from langchain-chroma) (0.3.75)\n",
      "Requirement already satisfied: numpy>=1.26.0 in c:\\users\\playdata\\anaconda3\\envs\\llm_env\\lib\\site-packages (from langchain-chroma) (2.2.6)\n",
      "Collecting chromadb>=1.0.9 (from langchain-chroma)\n",
      "  Using cached chromadb-1.0.20-cp39-abi3-win_amd64.whl.metadata (7.4 kB)\n",
      "Collecting build>=1.0.3 (from chromadb>=1.0.9->langchain-chroma)\n",
      "  Using cached build-1.3.0-py3-none-any.whl.metadata (5.6 kB)\n",
      "Requirement already satisfied: pydantic>=1.9 in c:\\users\\playdata\\anaconda3\\envs\\llm_env\\lib\\site-packages (from chromadb>=1.0.9->langchain-chroma) (2.11.7)\n",
      "Collecting pybase64>=1.4.1 (from chromadb>=1.0.9->langchain-chroma)\n",
      "  Downloading pybase64-1.4.2-cp312-cp312-win_amd64.whl.metadata (9.0 kB)\n",
      "Collecting uvicorn>=0.18.3 (from uvicorn[standard]>=0.18.3->chromadb>=1.0.9->langchain-chroma)\n",
      "  Using cached uvicorn-0.35.0-py3-none-any.whl.metadata (6.5 kB)\n",
      "Collecting posthog<6.0.0,>=2.4.0 (from chromadb>=1.0.9->langchain-chroma)\n",
      "  Using cached posthog-5.4.0-py3-none-any.whl.metadata (5.7 kB)\n",
      "Requirement already satisfied: typing-extensions>=4.5.0 in c:\\users\\playdata\\anaconda3\\envs\\llm_env\\lib\\site-packages (from chromadb>=1.0.9->langchain-chroma) (4.15.0)\n",
      "Collecting onnxruntime>=1.14.1 (from chromadb>=1.0.9->langchain-chroma)\n",
      "  Downloading onnxruntime-1.22.1-cp312-cp312-win_amd64.whl.metadata (5.1 kB)\n",
      "Collecting opentelemetry-api>=1.2.0 (from chromadb>=1.0.9->langchain-chroma)\n",
      "  Using cached opentelemetry_api-1.36.0-py3-none-any.whl.metadata (1.5 kB)\n",
      "Collecting opentelemetry-exporter-otlp-proto-grpc>=1.2.0 (from chromadb>=1.0.9->langchain-chroma)\n",
      "  Using cached opentelemetry_exporter_otlp_proto_grpc-1.36.0-py3-none-any.whl.metadata (2.4 kB)\n",
      "Collecting opentelemetry-sdk>=1.2.0 (from chromadb>=1.0.9->langchain-chroma)\n",
      "  Using cached opentelemetry_sdk-1.36.0-py3-none-any.whl.metadata (1.5 kB)\n",
      "Requirement already satisfied: tokenizers>=0.13.2 in c:\\users\\playdata\\anaconda3\\envs\\llm_env\\lib\\site-packages (from chromadb>=1.0.9->langchain-chroma) (0.21.4)\n",
      "Collecting pypika>=0.48.9 (from chromadb>=1.0.9->langchain-chroma)\n",
      "  Using cached PyPika-0.48.9.tar.gz (67 kB)\n",
      "  Installing build dependencies: started\n",
      "  Installing build dependencies: finished with status 'done'\n",
      "  Getting requirements to build wheel: started\n",
      "  Getting requirements to build wheel: finished with status 'done'\n",
      "  Preparing metadata (pyproject.toml): started\n",
      "  Preparing metadata (pyproject.toml): finished with status 'done'\n",
      "Requirement already satisfied: tqdm>=4.65.0 in c:\\users\\playdata\\anaconda3\\envs\\llm_env\\lib\\site-packages (from chromadb>=1.0.9->langchain-chroma) (4.67.1)\n",
      "Collecting overrides>=7.3.1 (from chromadb>=1.0.9->langchain-chroma)\n",
      "  Using cached overrides-7.7.0-py3-none-any.whl.metadata (5.8 kB)\n",
      "Collecting importlib-resources (from chromadb>=1.0.9->langchain-chroma)\n",
      "  Using cached importlib_resources-6.5.2-py3-none-any.whl.metadata (3.9 kB)\n",
      "Requirement already satisfied: grpcio>=1.58.0 in c:\\users\\playdata\\anaconda3\\envs\\llm_env\\lib\\site-packages (from chromadb>=1.0.9->langchain-chroma) (1.74.0)\n",
      "Collecting bcrypt>=4.0.1 (from chromadb>=1.0.9->langchain-chroma)\n",
      "  Using cached bcrypt-4.3.0-cp39-abi3-win_amd64.whl.metadata (10 kB)\n",
      "Collecting typer>=0.9.0 (from chromadb>=1.0.9->langchain-chroma)\n",
      "  Using cached typer-0.17.3-py3-none-any.whl.metadata (15 kB)\n",
      "Collecting kubernetes>=28.1.0 (from chromadb>=1.0.9->langchain-chroma)\n",
      "  Using cached kubernetes-33.1.0-py2.py3-none-any.whl.metadata (1.7 kB)\n",
      "Requirement already satisfied: tenacity>=8.2.3 in c:\\users\\playdata\\anaconda3\\envs\\llm_env\\lib\\site-packages (from chromadb>=1.0.9->langchain-chroma) (9.1.2)\n",
      "Requirement already satisfied: pyyaml>=6.0.0 in c:\\users\\playdata\\anaconda3\\envs\\llm_env\\lib\\site-packages (from chromadb>=1.0.9->langchain-chroma) (6.0.2)\n",
      "Collecting mmh3>=4.0.1 (from chromadb>=1.0.9->langchain-chroma)\n",
      "  Downloading mmh3-5.2.0-cp312-cp312-win_amd64.whl.metadata (14 kB)\n",
      "Requirement already satisfied: orjson>=3.9.12 in c:\\users\\playdata\\anaconda3\\envs\\llm_env\\lib\\site-packages (from chromadb>=1.0.9->langchain-chroma) (3.11.3)\n",
      "Requirement already satisfied: httpx>=0.27.0 in c:\\users\\playdata\\anaconda3\\envs\\llm_env\\lib\\site-packages (from chromadb>=1.0.9->langchain-chroma) (0.28.1)\n",
      "Collecting rich>=10.11.0 (from chromadb>=1.0.9->langchain-chroma)\n",
      "  Using cached rich-14.1.0-py3-none-any.whl.metadata (18 kB)\n",
      "Requirement already satisfied: jsonschema>=4.19.0 in c:\\users\\playdata\\anaconda3\\envs\\llm_env\\lib\\site-packages (from chromadb>=1.0.9->langchain-chroma) (4.25.1)\n",
      "Requirement already satisfied: requests<3.0,>=2.7 in c:\\users\\playdata\\anaconda3\\envs\\llm_env\\lib\\site-packages (from posthog<6.0.0,>=2.4.0->chromadb>=1.0.9->langchain-chroma) (2.32.5)\n",
      "Requirement already satisfied: six>=1.5 in c:\\users\\playdata\\anaconda3\\envs\\llm_env\\lib\\site-packages (from posthog<6.0.0,>=2.4.0->chromadb>=1.0.9->langchain-chroma) (1.17.0)\n",
      "Requirement already satisfied: python-dateutil>=2.2 in c:\\users\\playdata\\anaconda3\\envs\\llm_env\\lib\\site-packages (from posthog<6.0.0,>=2.4.0->chromadb>=1.0.9->langchain-chroma) (2.9.0.post0)\n",
      "Collecting backoff>=1.10.0 (from posthog<6.0.0,>=2.4.0->chromadb>=1.0.9->langchain-chroma)\n",
      "  Using cached backoff-2.2.1-py3-none-any.whl.metadata (14 kB)\n",
      "Requirement already satisfied: distro>=1.5.0 in c:\\users\\playdata\\anaconda3\\envs\\llm_env\\lib\\site-packages (from posthog<6.0.0,>=2.4.0->chromadb>=1.0.9->langchain-chroma) (1.9.0)\n",
      "Requirement already satisfied: charset_normalizer<4,>=2 in c:\\users\\playdata\\anaconda3\\envs\\llm_env\\lib\\site-packages (from requests<3.0,>=2.7->posthog<6.0.0,>=2.4.0->chromadb>=1.0.9->langchain-chroma) (3.4.3)\n",
      "Requirement already satisfied: idna<4,>=2.5 in c:\\users\\playdata\\anaconda3\\envs\\llm_env\\lib\\site-packages (from requests<3.0,>=2.7->posthog<6.0.0,>=2.4.0->chromadb>=1.0.9->langchain-chroma) (3.10)\n",
      "Requirement already satisfied: urllib3<3,>=1.21.1 in c:\\users\\playdata\\anaconda3\\envs\\llm_env\\lib\\site-packages (from requests<3.0,>=2.7->posthog<6.0.0,>=2.4.0->chromadb>=1.0.9->langchain-chroma) (2.5.0)\n",
      "Requirement already satisfied: certifi>=2017.4.17 in c:\\users\\playdata\\anaconda3\\envs\\llm_env\\lib\\site-packages (from requests<3.0,>=2.7->posthog<6.0.0,>=2.4.0->chromadb>=1.0.9->langchain-chroma) (2025.8.3)\n",
      "Requirement already satisfied: packaging>=19.1 in c:\\users\\playdata\\anaconda3\\envs\\llm_env\\lib\\site-packages (from build>=1.0.3->chromadb>=1.0.9->langchain-chroma) (25.0)\n",
      "Collecting pyproject_hooks (from build>=1.0.3->chromadb>=1.0.9->langchain-chroma)\n",
      "  Using cached pyproject_hooks-1.2.0-py3-none-any.whl.metadata (1.3 kB)\n",
      "Requirement already satisfied: colorama in c:\\users\\playdata\\anaconda3\\envs\\llm_env\\lib\\site-packages (from build>=1.0.3->chromadb>=1.0.9->langchain-chroma) (0.4.6)\n",
      "Requirement already satisfied: anyio in c:\\users\\playdata\\anaconda3\\envs\\llm_env\\lib\\site-packages (from httpx>=0.27.0->chromadb>=1.0.9->langchain-chroma) (4.10.0)\n",
      "Requirement already satisfied: httpcore==1.* in c:\\users\\playdata\\anaconda3\\envs\\llm_env\\lib\\site-packages (from httpx>=0.27.0->chromadb>=1.0.9->langchain-chroma) (1.0.9)\n",
      "Requirement already satisfied: h11>=0.16 in c:\\users\\playdata\\anaconda3\\envs\\llm_env\\lib\\site-packages (from httpcore==1.*->httpx>=0.27.0->chromadb>=1.0.9->langchain-chroma) (0.16.0)\n",
      "Requirement already satisfied: attrs>=22.2.0 in c:\\users\\playdata\\anaconda3\\envs\\llm_env\\lib\\site-packages (from jsonschema>=4.19.0->chromadb>=1.0.9->langchain-chroma) (25.3.0)\n",
      "Requirement already satisfied: jsonschema-specifications>=2023.03.6 in c:\\users\\playdata\\anaconda3\\envs\\llm_env\\lib\\site-packages (from jsonschema>=4.19.0->chromadb>=1.0.9->langchain-chroma) (2025.4.1)\n",
      "Requirement already satisfied: referencing>=0.28.4 in c:\\users\\playdata\\anaconda3\\envs\\llm_env\\lib\\site-packages (from jsonschema>=4.19.0->chromadb>=1.0.9->langchain-chroma) (0.36.2)\n",
      "Requirement already satisfied: rpds-py>=0.7.1 in c:\\users\\playdata\\anaconda3\\envs\\llm_env\\lib\\site-packages (from jsonschema>=4.19.0->chromadb>=1.0.9->langchain-chroma) (0.27.1)\n",
      "Collecting google-auth>=1.0.1 (from kubernetes>=28.1.0->chromadb>=1.0.9->langchain-chroma)\n",
      "  Using cached google_auth-2.40.3-py2.py3-none-any.whl.metadata (6.2 kB)\n",
      "Requirement already satisfied: websocket-client!=0.40.0,!=0.41.*,!=0.42.*,>=0.32.0 in c:\\users\\playdata\\anaconda3\\envs\\llm_env\\lib\\site-packages (from kubernetes>=28.1.0->chromadb>=1.0.9->langchain-chroma) (1.8.0)\n",
      "Collecting requests-oauthlib (from kubernetes>=28.1.0->chromadb>=1.0.9->langchain-chroma)\n",
      "  Using cached requests_oauthlib-2.0.0-py2.py3-none-any.whl.metadata (11 kB)\n",
      "Collecting oauthlib>=3.2.2 (from kubernetes>=28.1.0->chromadb>=1.0.9->langchain-chroma)\n",
      "  Using cached oauthlib-3.3.1-py3-none-any.whl.metadata (7.9 kB)\n",
      "Collecting durationpy>=0.7 (from kubernetes>=28.1.0->chromadb>=1.0.9->langchain-chroma)\n",
      "  Using cached durationpy-0.10-py3-none-any.whl.metadata (340 bytes)\n",
      "Collecting cachetools<6.0,>=2.0.0 (from google-auth>=1.0.1->kubernetes>=28.1.0->chromadb>=1.0.9->langchain-chroma)\n",
      "  Using cached cachetools-5.5.2-py3-none-any.whl.metadata (5.4 kB)\n",
      "Collecting pyasn1-modules>=0.2.1 (from google-auth>=1.0.1->kubernetes>=28.1.0->chromadb>=1.0.9->langchain-chroma)\n",
      "  Using cached pyasn1_modules-0.4.2-py3-none-any.whl.metadata (3.5 kB)\n",
      "Collecting rsa<5,>=3.1.4 (from google-auth>=1.0.1->kubernetes>=28.1.0->chromadb>=1.0.9->langchain-chroma)\n",
      "  Using cached rsa-4.9.1-py3-none-any.whl.metadata (5.6 kB)\n",
      "Collecting pyasn1>=0.1.3 (from rsa<5,>=3.1.4->google-auth>=1.0.1->kubernetes>=28.1.0->chromadb>=1.0.9->langchain-chroma)\n",
      "  Using cached pyasn1-0.6.1-py3-none-any.whl.metadata (8.4 kB)\n",
      "Requirement already satisfied: langsmith>=0.3.45 in c:\\users\\playdata\\anaconda3\\envs\\llm_env\\lib\\site-packages (from langchain-core>=0.3.70->langchain-chroma) (0.4.23)\n",
      "Requirement already satisfied: jsonpatch<2.0,>=1.33 in c:\\users\\playdata\\anaconda3\\envs\\llm_env\\lib\\site-packages (from langchain-core>=0.3.70->langchain-chroma) (1.33)\n",
      "Requirement already satisfied: jsonpointer>=1.9 in c:\\users\\playdata\\anaconda3\\envs\\llm_env\\lib\\site-packages (from jsonpatch<2.0,>=1.33->langchain-core>=0.3.70->langchain-chroma) (3.0.0)\n",
      "Requirement already satisfied: requests-toolbelt>=1.0.0 in c:\\users\\playdata\\anaconda3\\envs\\llm_env\\lib\\site-packages (from langsmith>=0.3.45->langchain-core>=0.3.70->langchain-chroma) (1.0.0)\n",
      "Requirement already satisfied: zstandard>=0.23.0 in c:\\users\\playdata\\anaconda3\\envs\\llm_env\\lib\\site-packages (from langsmith>=0.3.45->langchain-core>=0.3.70->langchain-chroma) (0.24.0)\n",
      "Requirement already satisfied: annotated-types>=0.6.0 in c:\\users\\playdata\\anaconda3\\envs\\llm_env\\lib\\site-packages (from pydantic>=1.9->chromadb>=1.0.9->langchain-chroma) (0.7.0)\n",
      "Requirement already satisfied: pydantic-core==2.33.2 in c:\\users\\playdata\\anaconda3\\envs\\llm_env\\lib\\site-packages (from pydantic>=1.9->chromadb>=1.0.9->langchain-chroma) (2.33.2)\n",
      "Requirement already satisfied: typing-inspection>=0.4.0 in c:\\users\\playdata\\anaconda3\\envs\\llm_env\\lib\\site-packages (from pydantic>=1.9->chromadb>=1.0.9->langchain-chroma) (0.4.1)\n",
      "Collecting coloredlogs (from onnxruntime>=1.14.1->chromadb>=1.0.9->langchain-chroma)\n",
      "  Using cached coloredlogs-15.0.1-py2.py3-none-any.whl.metadata (12 kB)\n",
      "Collecting flatbuffers (from onnxruntime>=1.14.1->chromadb>=1.0.9->langchain-chroma)\n",
      "  Using cached flatbuffers-25.2.10-py2.py3-none-any.whl.metadata (875 bytes)\n",
      "Requirement already satisfied: protobuf in c:\\users\\playdata\\anaconda3\\envs\\llm_env\\lib\\site-packages (from onnxruntime>=1.14.1->chromadb>=1.0.9->langchain-chroma) (6.32.0)\n",
      "Requirement already satisfied: sympy in c:\\users\\playdata\\anaconda3\\envs\\llm_env\\lib\\site-packages (from onnxruntime>=1.14.1->chromadb>=1.0.9->langchain-chroma) (1.14.0)\n",
      "Collecting importlib-metadata<8.8.0,>=6.0 (from opentelemetry-api>=1.2.0->chromadb>=1.0.9->langchain-chroma)\n",
      "  Using cached importlib_metadata-8.7.0-py3-none-any.whl.metadata (4.8 kB)\n",
      "Collecting zipp>=3.20 (from importlib-metadata<8.8.0,>=6.0->opentelemetry-api>=1.2.0->chromadb>=1.0.9->langchain-chroma)\n",
      "  Using cached zipp-3.23.0-py3-none-any.whl.metadata (3.6 kB)\n",
      "Collecting googleapis-common-protos~=1.57 (from opentelemetry-exporter-otlp-proto-grpc>=1.2.0->chromadb>=1.0.9->langchain-chroma)\n",
      "  Using cached googleapis_common_protos-1.70.0-py3-none-any.whl.metadata (9.3 kB)\n",
      "Collecting opentelemetry-exporter-otlp-proto-common==1.36.0 (from opentelemetry-exporter-otlp-proto-grpc>=1.2.0->chromadb>=1.0.9->langchain-chroma)\n",
      "  Using cached opentelemetry_exporter_otlp_proto_common-1.36.0-py3-none-any.whl.metadata (1.8 kB)\n",
      "Collecting opentelemetry-proto==1.36.0 (from opentelemetry-exporter-otlp-proto-grpc>=1.2.0->chromadb>=1.0.9->langchain-chroma)\n",
      "  Using cached opentelemetry_proto-1.36.0-py3-none-any.whl.metadata (2.3 kB)\n",
      "Collecting opentelemetry-semantic-conventions==0.57b0 (from opentelemetry-sdk>=1.2.0->chromadb>=1.0.9->langchain-chroma)\n",
      "  Using cached opentelemetry_semantic_conventions-0.57b0-py3-none-any.whl.metadata (2.4 kB)\n",
      "Collecting markdown-it-py>=2.2.0 (from rich>=10.11.0->chromadb>=1.0.9->langchain-chroma)\n",
      "  Using cached markdown_it_py-4.0.0-py3-none-any.whl.metadata (7.3 kB)\n",
      "Requirement already satisfied: pygments<3.0.0,>=2.13.0 in c:\\users\\playdata\\anaconda3\\envs\\llm_env\\lib\\site-packages (from rich>=10.11.0->chromadb>=1.0.9->langchain-chroma) (2.19.2)\n",
      "Collecting mdurl~=0.1 (from markdown-it-py>=2.2.0->rich>=10.11.0->chromadb>=1.0.9->langchain-chroma)\n",
      "  Using cached mdurl-0.1.2-py3-none-any.whl.metadata (1.6 kB)\n",
      "Requirement already satisfied: huggingface-hub<1.0,>=0.16.4 in c:\\users\\playdata\\anaconda3\\envs\\llm_env\\lib\\site-packages (from tokenizers>=0.13.2->chromadb>=1.0.9->langchain-chroma) (0.34.4)\n",
      "Requirement already satisfied: filelock in c:\\users\\playdata\\anaconda3\\envs\\llm_env\\lib\\site-packages (from huggingface-hub<1.0,>=0.16.4->tokenizers>=0.13.2->chromadb>=1.0.9->langchain-chroma) (3.19.1)\n",
      "Requirement already satisfied: fsspec>=2023.5.0 in c:\\users\\playdata\\anaconda3\\envs\\llm_env\\lib\\site-packages (from huggingface-hub<1.0,>=0.16.4->tokenizers>=0.13.2->chromadb>=1.0.9->langchain-chroma) (2025.7.0)\n",
      "Requirement already satisfied: click>=8.0.0 in c:\\users\\playdata\\anaconda3\\envs\\llm_env\\lib\\site-packages (from typer>=0.9.0->chromadb>=1.0.9->langchain-chroma) (8.1.8)\n",
      "Collecting shellingham>=1.3.0 (from typer>=0.9.0->chromadb>=1.0.9->langchain-chroma)\n",
      "  Using cached shellingham-1.5.4-py2.py3-none-any.whl.metadata (3.5 kB)\n",
      "Collecting httptools>=0.6.3 (from uvicorn[standard]>=0.18.3->chromadb>=1.0.9->langchain-chroma)\n",
      "  Downloading httptools-0.6.4-cp312-cp312-win_amd64.whl.metadata (3.7 kB)\n",
      "Requirement already satisfied: python-dotenv>=0.13 in c:\\users\\playdata\\anaconda3\\envs\\llm_env\\lib\\site-packages (from uvicorn[standard]>=0.18.3->chromadb>=1.0.9->langchain-chroma) (1.1.1)\n",
      "Collecting watchfiles>=0.13 (from uvicorn[standard]>=0.18.3->chromadb>=1.0.9->langchain-chroma)\n",
      "  Downloading watchfiles-1.1.0-cp312-cp312-win_amd64.whl.metadata (5.0 kB)\n",
      "Collecting websockets>=10.4 (from uvicorn[standard]>=0.18.3->chromadb>=1.0.9->langchain-chroma)\n",
      "  Downloading websockets-15.0.1-cp312-cp312-win_amd64.whl.metadata (7.0 kB)\n",
      "Requirement already satisfied: sniffio>=1.1 in c:\\users\\playdata\\anaconda3\\envs\\llm_env\\lib\\site-packages (from anyio->httpx>=0.27.0->chromadb>=1.0.9->langchain-chroma) (1.3.1)\n",
      "Collecting humanfriendly>=9.1 (from coloredlogs->onnxruntime>=1.14.1->chromadb>=1.0.9->langchain-chroma)\n",
      "  Using cached humanfriendly-10.0-py2.py3-none-any.whl.metadata (9.2 kB)\n",
      "Collecting pyreadline3 (from humanfriendly>=9.1->coloredlogs->onnxruntime>=1.14.1->chromadb>=1.0.9->langchain-chroma)\n",
      "  Using cached pyreadline3-3.5.4-py3-none-any.whl.metadata (4.7 kB)\n",
      "Requirement already satisfied: mpmath<1.4,>=1.1.0 in c:\\users\\playdata\\anaconda3\\envs\\llm_env\\lib\\site-packages (from sympy->onnxruntime>=1.14.1->chromadb>=1.0.9->langchain-chroma) (1.3.0)\n",
      "Downloading langchain_chroma-0.2.5-py3-none-any.whl (12 kB)\n",
      "Using cached chromadb-1.0.20-cp39-abi3-win_amd64.whl (19.8 MB)\n",
      "Using cached posthog-5.4.0-py3-none-any.whl (105 kB)\n",
      "Using cached backoff-2.2.1-py3-none-any.whl (15 kB)\n",
      "Using cached bcrypt-4.3.0-cp39-abi3-win_amd64.whl (152 kB)\n",
      "Using cached build-1.3.0-py3-none-any.whl (23 kB)\n",
      "Using cached kubernetes-33.1.0-py2.py3-none-any.whl (1.9 MB)\n",
      "Using cached durationpy-0.10-py3-none-any.whl (3.9 kB)\n",
      "Using cached google_auth-2.40.3-py2.py3-none-any.whl (216 kB)\n",
      "Using cached cachetools-5.5.2-py3-none-any.whl (10 kB)\n",
      "Using cached rsa-4.9.1-py3-none-any.whl (34 kB)\n",
      "Downloading mmh3-5.2.0-cp312-cp312-win_amd64.whl (41 kB)\n",
      "Using cached oauthlib-3.3.1-py3-none-any.whl (160 kB)\n",
      "Downloading onnxruntime-1.22.1-cp312-cp312-win_amd64.whl (12.7 MB)\n",
      "   ---------------------------------------- 0.0/12.7 MB ? eta -:--:--\n",
      "   ---------------------------------------- 12.7/12.7 MB 99.4 MB/s eta 0:00:00\n",
      "Using cached opentelemetry_api-1.36.0-py3-none-any.whl (65 kB)\n",
      "Using cached importlib_metadata-8.7.0-py3-none-any.whl (27 kB)\n",
      "Using cached opentelemetry_exporter_otlp_proto_grpc-1.36.0-py3-none-any.whl (18 kB)\n",
      "Using cached opentelemetry_exporter_otlp_proto_common-1.36.0-py3-none-any.whl (18 kB)\n",
      "Using cached opentelemetry_proto-1.36.0-py3-none-any.whl (72 kB)\n",
      "Using cached googleapis_common_protos-1.70.0-py3-none-any.whl (294 kB)\n",
      "Using cached opentelemetry_sdk-1.36.0-py3-none-any.whl (119 kB)\n",
      "Using cached opentelemetry_semantic_conventions-0.57b0-py3-none-any.whl (201 kB)\n",
      "Using cached overrides-7.7.0-py3-none-any.whl (17 kB)\n",
      "Using cached pyasn1-0.6.1-py3-none-any.whl (83 kB)\n",
      "Using cached pyasn1_modules-0.4.2-py3-none-any.whl (181 kB)\n",
      "Downloading pybase64-1.4.2-cp312-cp312-win_amd64.whl (35 kB)\n",
      "Using cached rich-14.1.0-py3-none-any.whl (243 kB)\n",
      "Using cached markdown_it_py-4.0.0-py3-none-any.whl (87 kB)\n",
      "Using cached mdurl-0.1.2-py3-none-any.whl (10.0 kB)\n",
      "Using cached typer-0.17.3-py3-none-any.whl (46 kB)\n",
      "Using cached shellingham-1.5.4-py2.py3-none-any.whl (9.8 kB)\n",
      "Using cached uvicorn-0.35.0-py3-none-any.whl (66 kB)\n",
      "Downloading httptools-0.6.4-cp312-cp312-win_amd64.whl (88 kB)\n",
      "Downloading watchfiles-1.1.0-cp312-cp312-win_amd64.whl (292 kB)\n",
      "Downloading websockets-15.0.1-cp312-cp312-win_amd64.whl (176 kB)\n",
      "Using cached zipp-3.23.0-py3-none-any.whl (10 kB)\n",
      "Using cached coloredlogs-15.0.1-py2.py3-none-any.whl (46 kB)\n",
      "Using cached humanfriendly-10.0-py2.py3-none-any.whl (86 kB)\n",
      "Using cached flatbuffers-25.2.10-py2.py3-none-any.whl (30 kB)\n",
      "Using cached importlib_resources-6.5.2-py3-none-any.whl (37 kB)\n",
      "Using cached pyproject_hooks-1.2.0-py3-none-any.whl (10 kB)\n",
      "Using cached pyreadline3-3.5.4-py3-none-any.whl (83 kB)\n",
      "Using cached requests_oauthlib-2.0.0-py2.py3-none-any.whl (24 kB)\n",
      "Building wheels for collected packages: pypika\n",
      "  Building wheel for pypika (pyproject.toml): started\n",
      "  Building wheel for pypika (pyproject.toml): finished with status 'done'\n",
      "  Created wheel for pypika: filename=pypika-0.48.9-py2.py3-none-any.whl size=53916 sha256=84e230a93cdc264bf7f8ec373e38d425e692142bdceed39ab69224dc3b0918ca\n",
      "  Stored in directory: c:\\users\\playdata\\appdata\\local\\pip\\cache\\wheels\\d5\\3d\\69\\8d68d249cd3de2584f226e27fd431d6344f7d70fd856ebd01b\n",
      "Successfully built pypika\n",
      "Installing collected packages: pypika, flatbuffers, durationpy, zipp, websockets, shellingham, pyreadline3, pyproject_hooks, pybase64, pyasn1, overrides, opentelemetry-proto, oauthlib, mmh3, mdurl, importlib-resources, httptools, googleapis-common-protos, cachetools, bcrypt, backoff, watchfiles, uvicorn, rsa, requests-oauthlib, pyasn1-modules, posthog, opentelemetry-exporter-otlp-proto-common, markdown-it-py, importlib-metadata, humanfriendly, build, rich, opentelemetry-api, google-auth, coloredlogs, typer, opentelemetry-semantic-conventions, onnxruntime, kubernetes, opentelemetry-sdk, opentelemetry-exporter-otlp-proto-grpc, chromadb, langchain-chroma\n",
      "\n",
      "   --- ------------------------------------  4/44 [websockets]\n",
      "   ---- -----------------------------------  5/44 [shellingham]\n",
      "   ----- ----------------------------------  6/44 [pyreadline3]\n",
      "   -------- -------------------------------  9/44 [pyasn1]\n",
      "   ---------- ----------------------------- 11/44 [opentelemetry-proto]\n",
      "   ---------- ----------------------------- 12/44 [oauthlib]\n",
      "   ------------- -------------------------- 15/44 [importlib-resources]\n",
      "   --------------- ------------------------ 17/44 [googleapis-common-protos]\n",
      "  Attempting uninstall: cachetools\n",
      "   --------------- ------------------------ 17/44 [googleapis-common-protos]\n",
      "    Found existing installation: cachetools 6.2.0\n",
      "   --------------- ------------------------ 17/44 [googleapis-common-protos]\n",
      "    Uninstalling cachetools-6.2.0:\n",
      "   --------------- ------------------------ 17/44 [googleapis-common-protos]\n",
      "      Successfully uninstalled cachetools-6.2.0\n",
      "   --------------- ------------------------ 17/44 [googleapis-common-protos]\n",
      "   ------------------- -------------------- 21/44 [watchfiles]\n",
      "   -------------------- ------------------- 23/44 [rsa]\n",
      "   ---------------------- ----------------- 25/44 [pyasn1-modules]\n",
      "   ---------------------- ----------------- 25/44 [pyasn1-modules]\n",
      "   ----------------------- ---------------- 26/44 [posthog]\n",
      "   ---------------- ---------- 27/44 [opentelemetry-exporter-otlp-proto-common]\n",
      "   ------------------------- -------------- 28/44 [markdown-it-py]\n",
      "   ---------------------------- ----------- 31/44 [build]\n",
      "   ----------------------------- ---------- 32/44 [rich]\n",
      "   ------------------------------ --------- 33/44 [opentelemetry-api]\n",
      "   ------------------------------ --------- 34/44 [google-auth]\n",
      "   ------------------------------- -------- 35/44 [coloredlogs]\n",
      "   --------------------------- ----- 37/44 [opentelemetry-semantic-conventions]\n",
      "   ---------------------------------- ----- 38/44 [onnxruntime]\n",
      "   ---------------------------------- ----- 38/44 [onnxruntime]\n",
      "   ---------------------------------- ----- 38/44 [onnxruntime]\n",
      "   ---------------------------------- ----- 38/44 [onnxruntime]\n",
      "   ---------------------------------- ----- 38/44 [onnxruntime]\n",
      "   ---------------------------------- ----- 38/44 [onnxruntime]\n",
      "   ---------------------------------- ----- 38/44 [onnxruntime]\n",
      "   ---------------------------------- ----- 38/44 [onnxruntime]\n",
      "   ----------------------------------- ---- 39/44 [kubernetes]\n",
      "   ----------------------------------- ---- 39/44 [kubernetes]\n",
      "   ----------------------------------- ---- 39/44 [kubernetes]\n",
      "   ----------------------------------- ---- 39/44 [kubernetes]\n",
      "   ----------------------------------- ---- 39/44 [kubernetes]\n",
      "   ----------------------------------- ---- 39/44 [kubernetes]\n",
      "   ----------------------------------- ---- 39/44 [kubernetes]\n",
      "   ----------------------------------- ---- 39/44 [kubernetes]\n",
      "   ----------------------------------- ---- 39/44 [kubernetes]\n",
      "   ----------------------------------- ---- 39/44 [kubernetes]\n",
      "   ----------------------------------- ---- 39/44 [kubernetes]\n",
      "   ----------------------------------- ---- 39/44 [kubernetes]\n",
      "   ----------------------------------- ---- 39/44 [kubernetes]\n",
      "   ----------------------------------- ---- 39/44 [kubernetes]\n",
      "   ----------------------------------- ---- 39/44 [kubernetes]\n",
      "   ----------------------------------- ---- 39/44 [kubernetes]\n",
      "   --------------------------- - 41/44 [opentelemetry-exporter-otlp-proto-grpc]\n",
      "   -------------------------------------- - 42/44 [chromadb]\n",
      "   -------------------------------------- - 42/44 [chromadb]\n",
      "   -------------------------------------- - 42/44 [chromadb]\n",
      "   -------------------------------------- - 42/44 [chromadb]\n",
      "   -------------------------------------- - 42/44 [chromadb]\n",
      "   ---------------------------------------- 44/44 [langchain-chroma]\n",
      "\n",
      "Successfully installed backoff-2.2.1 bcrypt-4.3.0 build-1.3.0 cachetools-5.5.2 chromadb-1.0.20 coloredlogs-15.0.1 durationpy-0.10 flatbuffers-25.2.10 google-auth-2.40.3 googleapis-common-protos-1.70.0 httptools-0.6.4 humanfriendly-10.0 importlib-metadata-8.7.0 importlib-resources-6.5.2 kubernetes-33.1.0 langchain-chroma-0.2.5 markdown-it-py-4.0.0 mdurl-0.1.2 mmh3-5.2.0 oauthlib-3.3.1 onnxruntime-1.22.1 opentelemetry-api-1.36.0 opentelemetry-exporter-otlp-proto-common-1.36.0 opentelemetry-exporter-otlp-proto-grpc-1.36.0 opentelemetry-proto-1.36.0 opentelemetry-sdk-1.36.0 opentelemetry-semantic-conventions-0.57b0 overrides-7.7.0 posthog-5.4.0 pyasn1-0.6.1 pyasn1-modules-0.4.2 pybase64-1.4.2 pypika-0.48.9 pyproject_hooks-1.2.0 pyreadline3-3.5.4 requests-oauthlib-2.0.0 rich-14.1.0 rsa-4.9.1 shellingham-1.5.4 typer-0.17.3 uvicorn-0.35.0 watchfiles-1.1.0 websockets-15.0.1 zipp-3.23.0\n"
     ]
    }
   ],
   "source": [
    "#!pip install langchain-chroma"
   ]
  },
  {
   "cell_type": "code",
   "execution_count": 13,
   "id": "25809c95",
   "metadata": {},
   "outputs": [],
   "source": [
    "from langchain_chroma.vectorstores import Chroma\n",
    "\n",
    "vector_store = Chroma.from_documents(docs, embedding_model)"
   ]
  },
  {
   "cell_type": "markdown",
   "id": "8c661d53",
   "metadata": {},
   "source": [
    "- 간단한 유사도 기반 검색"
   ]
  },
  {
   "cell_type": "code",
   "execution_count": 14,
   "id": "fdd44d07",
   "metadata": {},
   "outputs": [],
   "source": [
    "query = '백설공주와 왕비 중에 누가 더 아름답나요?'"
   ]
  },
  {
   "cell_type": "code",
   "execution_count": 17,
   "id": "1728d0bb",
   "metadata": {},
   "outputs": [
    {
     "data": {
      "text/plain": [
       "[(Document(id='1efe939d-31b4-4a80-9f0d-cf53da898e10', metadata={'source': './snow-white.pdf', 'page_label': '2', 'creationdate': '2023-09-12T11:20:24+09:00', 'total_pages': 6, 'title': 'PowerPoint 프레젠테이션', 'producer': 'Microsoft® PowerPoint® 2013', 'moddate': '2023-09-12T11:20:24+09:00', 'author': 'PC', 'creator': 'Microsoft® PowerPoint® 2013', 'page': 1}, page_content='거울아. 이 세상에서 누가 가장 아름답니?” “왕비님도 아름답지만 백설공주가 더 아름답습니다.” 화가 난 왕비는 사냥꾼을 불렀어요. 왕비는 사냥꾼에게 백설공주를 죽이라고'),\n",
       "  0.8401364088058472),\n",
       " (Document(id='0139e414-891a-4ed7-a33f-b2076569bfa3', metadata={'page_label': '3', 'producer': 'Microsoft® PowerPoint® 2013', 'moddate': '2023-09-12T11:20:24+09:00', 'creator': 'Microsoft® PowerPoint® 2013', 'page': 2, 'author': 'PC', 'total_pages': 6, 'creationdate': '2023-09-12T11:20:24+09:00', 'source': './snow-white.pdf', 'title': 'PowerPoint 프레젠테이션'}, page_content='왕비는 다시 요술 거울에게 누가 가장 아름다운 지 물었어요. “왕비님도 아름답지만 백설공주님이 천배는 더 아름답습니다.” “사냥꾼이 날 속였구나. 내가 직접 해치우겠어!”'),\n",
       "  0.8603643774986267),\n",
       " (Document(id='466b663d-df83-4d04-b0e5-20048ff0308c', metadata={'page_label': '5', 'moddate': '2023-09-12T11:20:24+09:00', 'creationdate': '2023-09-12T11:20:24+09:00', 'total_pages': 6, 'producer': 'Microsoft® PowerPoint® 2013', 'page': 4, 'source': './snow-white.pdf', 'author': 'PC', 'title': 'PowerPoint 프레젠테이션', 'creator': 'Microsoft® PowerPoint® 2013'}, page_content='“백설공주님, 못된 왕비의 꾐에 넘어갔군요.” “여전히 아름다운 우리 공주님을 캄캄한 땅속에 묻을 순 없어.” “오래오래 볼 수 있게 유리 관에 모시자.” 어느 날, 한 왕자가'),\n",
       "  0.9584017992019653)]"
      ]
     },
     "execution_count": 17,
     "metadata": {},
     "output_type": "execute_result"
    }
   ],
   "source": [
    "# 1. vector store를 통한 직접 검색\n",
    "results = vector_store.similarity_search_with_score(query, k=3)\n",
    "results"
   ]
  },
  {
   "cell_type": "code",
   "execution_count": 16,
   "id": "531418b8",
   "metadata": {},
   "outputs": [
    {
     "data": {
      "text/plain": [
       "[[Document(id='1efe939d-31b4-4a80-9f0d-cf53da898e10', metadata={'moddate': '2023-09-12T11:20:24+09:00', 'source': './snow-white.pdf', 'creator': 'Microsoft® PowerPoint® 2013', 'producer': 'Microsoft® PowerPoint® 2013', 'creationdate': '2023-09-12T11:20:24+09:00', 'total_pages': 6, 'title': 'PowerPoint 프레젠테이션', 'page': 1, 'page_label': '2', 'author': 'PC'}, page_content='거울아. 이 세상에서 누가 가장 아름답니?” “왕비님도 아름답지만 백설공주가 더 아름답습니다.” 화가 난 왕비는 사냥꾼을 불렀어요. 왕비는 사냥꾼에게 백설공주를 죽이라고'),\n",
       "  Document(id='0139e414-891a-4ed7-a33f-b2076569bfa3', metadata={'page': 2, 'author': 'PC', 'total_pages': 6, 'source': './snow-white.pdf', 'producer': 'Microsoft® PowerPoint® 2013', 'creationdate': '2023-09-12T11:20:24+09:00', 'title': 'PowerPoint 프레젠테이션', 'moddate': '2023-09-12T11:20:24+09:00', 'creator': 'Microsoft® PowerPoint® 2013', 'page_label': '3'}, page_content='왕비는 다시 요술 거울에게 누가 가장 아름다운 지 물었어요. “왕비님도 아름답지만 백설공주님이 천배는 더 아름답습니다.” “사냥꾼이 날 속였구나. 내가 직접 해치우겠어!”'),\n",
       "  Document(id='466b663d-df83-4d04-b0e5-20048ff0308c', metadata={'producer': 'Microsoft® PowerPoint® 2013', 'creator': 'Microsoft® PowerPoint® 2013', 'creationdate': '2023-09-12T11:20:24+09:00', 'total_pages': 6, 'author': 'PC', 'title': 'PowerPoint 프레젠테이션', 'page_label': '5', 'moddate': '2023-09-12T11:20:24+09:00', 'source': './snow-white.pdf', 'page': 4}, page_content='“백설공주님, 못된 왕비의 꾐에 넘어갔군요.” “여전히 아름다운 우리 공주님을 캄캄한 땅속에 묻을 순 없어.” “오래오래 볼 수 있게 유리 관에 모시자.” 어느 날, 한 왕자가')]]"
      ]
     },
     "execution_count": 16,
     "metadata": {},
     "output_type": "execute_result"
    }
   ],
   "source": [
    "# 2. Retriever를 활용한 검색\n",
    "retriever = vector_store.as_retriever(\n",
    "    search_type='similarity',\n",
    "    search_kwargs={'k':3}\n",
    ")\n",
    "\n",
    "retriever_result = retriever.batch([query])\n",
    "retriever_result"
   ]
  },
  {
   "cell_type": "markdown",
   "id": "95c6a07f",
   "metadata": {},
   "source": [
    "### Phase 2: Retrieval and Generation "
   ]
  },
  {
   "cell_type": "markdown",
   "id": "79b88d5a",
   "metadata": {},
   "source": [
    "- 사용자 입력(질의)가 주어지면\n",
    "\n",
    "1. Retriever를 사용하여 저장소에서 관련된 chunk 검색\n",
    "2. 질문과 검색된 데이터를 포함하는 프롬프트를 통해\n",
    "3. LLM Model이 답변을 생성"
   ]
  },
  {
   "cell_type": "markdown",
   "id": "359998b2",
   "metadata": {},
   "source": [
    "##### (1) PrompltTemplate 생성\n",
    "\n",
    "- 사용자 질의 + 검색된 문서"
   ]
  },
  {
   "cell_type": "code",
   "execution_count": 19,
   "id": "51f21458",
   "metadata": {},
   "outputs": [],
   "source": [
    "from langchain_core.prompts import ChatPromptTemplate\n",
    "\n",
    "prompt_tpl = ChatPromptTemplate([\n",
    "    ('system', '당신은 어린 아이에게 꿈과 희망을 심어주는 유치원 교사입니다. 질문하는 아이에게 최대한 호응해주며 context 기반으로만 답변해 주세요.'),\n",
    "    ('user', '''어린이의 질문에 context만을 이용해 답변하세요.\n",
    "        context에서 확인할 수 없는 질문이라면 모른다고 답변해야 합니다.\n",
    "        최종 응답에는 참조한 context에 대한 정보를 추가해 주세요.\n",
    "     \n",
    "        질문: {query}\n",
    "        context: {context}\n",
    "        \n",
    "        <<최종 응답 형식>>\n",
    "        답변: \n",
    "        참조 문서:\n",
    "        - <<source>> (page: <<page>>): <<page_content>>\n",
    "     ''')\n",
    "])"
   ]
  },
  {
   "cell_type": "code",
   "execution_count": 20,
   "id": "08e17ca6",
   "metadata": {},
   "outputs": [
    {
     "data": {
      "text/plain": [
       "ChatPromptValue(messages=[SystemMessage(content='당신은 어린 아이에게 꿈과 희망을 심어주는 유치원 교사입니다. 질문하는 아이에게 최대한 호응해주며 context 기반으로만 답변해 주세요.', additional_kwargs={}, response_metadata={}), HumanMessage(content=\"어린이의 질문에 context만을 이용해 답변하세요.\\n        context에서 확인할 수 없는 질문이라면 모른다고 답변해야 합니다.\\n        최종 응답에는 참조한 context에 대한 정보를 추가해 주세요.\\n\\n        질문: 백설공주와 왕비 중에 누가 더 아름답나요?\\n        context: [[Document(id='1efe939d-31b4-4a80-9f0d-cf53da898e10', metadata={'moddate': '2023-09-12T11:20:24+09:00', 'source': './snow-white.pdf', 'creator': 'Microsoft® PowerPoint® 2013', 'producer': 'Microsoft® PowerPoint® 2013', 'creationdate': '2023-09-12T11:20:24+09:00', 'total_pages': 6, 'title': 'PowerPoint 프레젠테이션', 'page': 1, 'page_label': '2', 'author': 'PC'}, page_content='거울아. 이 세상에서 누가 가장 아름답니?” “왕비님도 아름답지만 백설공주가 더 아름답습니다.” 화가 난 왕비는 사냥꾼을 불렀어요. 왕비는 사냥꾼에게 백설공주를 죽이라고'), Document(id='0139e414-891a-4ed7-a33f-b2076569bfa3', metadata={'page': 2, 'author': 'PC', 'total_pages': 6, 'source': './snow-white.pdf', 'producer': 'Microsoft® PowerPoint® 2013', 'creationdate': '2023-09-12T11:20:24+09:00', 'title': 'PowerPoint 프레젠테이션', 'moddate': '2023-09-12T11:20:24+09:00', 'creator': 'Microsoft® PowerPoint® 2013', 'page_label': '3'}, page_content='왕비는 다시 요술 거울에게 누가 가장 아름다운 지 물었어요. “왕비님도 아름답지만 백설공주님이 천배는 더 아름답습니다.” “사냥꾼이 날 속였구나. 내가 직접 해치우겠어!”'), Document(id='466b663d-df83-4d04-b0e5-20048ff0308c', metadata={'producer': 'Microsoft® PowerPoint® 2013', 'creator': 'Microsoft® PowerPoint® 2013', 'creationdate': '2023-09-12T11:20:24+09:00', 'total_pages': 6, 'author': 'PC', 'title': 'PowerPoint 프레젠테이션', 'page_label': '5', 'moddate': '2023-09-12T11:20:24+09:00', 'source': './snow-white.pdf', 'page': 4}, page_content='“백설공주님, 못된 왕비의 꾐에 넘어갔군요.” “여전히 아름다운 우리 공주님을 캄캄한 땅속에 묻을 순 없어.” “오래오래 볼 수 있게 유리 관에 모시자.” 어느 날, 한 왕자가')]]\\n\\n        <<최종 응답 형식>>\\n        답변: \\n        참조 문서:\\n        - <<source>> (page: <<page>>): <<page_content>>\\n     \", additional_kwargs={}, response_metadata={})])"
      ]
     },
     "execution_count": 20,
     "metadata": {},
     "output_type": "execute_result"
    }
   ],
   "source": [
    "prompt_tpl.invoke({'query':query, 'context': retriever_result})"
   ]
  },
  {
   "cell_type": "markdown",
   "id": "259277e9",
   "metadata": {},
   "source": [
    "##### (2) LLM "
   ]
  },
  {
   "cell_type": "code",
   "execution_count": 21,
   "id": "697c5bca",
   "metadata": {},
   "outputs": [],
   "source": [
    "from langchain_openai import ChatOpenAI\n",
    "\n",
    "model = ChatOpenAI(\n",
    "    model='gpt-4o-mini',\n",
    "    temperature=0.5\n",
    ")"
   ]
  },
  {
   "cell_type": "markdown",
   "id": "d74a4c4e",
   "metadata": {},
   "source": [
    "##### (3) Chain 생성"
   ]
  },
  {
   "cell_type": "code",
   "execution_count": 22,
   "id": "8f1e8974",
   "metadata": {},
   "outputs": [],
   "source": [
    "from langchain_core.output_parsers import StrOutputParser\n",
    "\n",
    "chain = prompt_tpl | model | StrOutputParser()"
   ]
  },
  {
   "cell_type": "markdown",
   "id": "099e3b1c",
   "metadata": {},
   "source": [
    "##### 사용"
   ]
  },
  {
   "cell_type": "code",
   "execution_count": 25,
   "id": "7f120934",
   "metadata": {},
   "outputs": [],
   "source": [
    "query = '왕비가 백설공주에게 먹인 것은 무엇인가요?'\n",
    "retrievals = retriever.batch([query])\n",
    "#context_text = '\\n'.join(doc.page_content for doc in retrievals[0])\n",
    "\n",
    "response = chain.invoke({'query':query, 'context':retrievals})\n",
    "#response = chain.invoke({'query':query, 'context':context_text})"
   ]
  },
  {
   "cell_type": "code",
   "execution_count": 26,
   "id": "37294655",
   "metadata": {},
   "outputs": [
    {
     "name": "stdout",
     "output_type": "stream",
     "text": [
      "답변: 왕비가 백설공주에게 먹인 것은 독이 발라진 사과예요. 왕비는 사과를 먹음직스럽게 꾸며서 백설공주에게 주었답니다.\n",
      "\n",
      "참조 문서:\n",
      "- ./snow-white.pdf (page: 4): \"왕비는 먹음직스럽게 생긴 사과를 골라 독을 발랐어요.\"\n"
     ]
    }
   ],
   "source": [
    "print(response)"
   ]
  },
  {
   "cell_type": "markdown",
   "id": "bb1dbe2c",
   "metadata": {},
   "source": [
    "---"
   ]
  },
  {
   "cell_type": "code",
   "execution_count": 27,
   "id": "3209a234",
   "metadata": {},
   "outputs": [],
   "source": [
    "# RetrievalQA  사용\n",
    "from langchain.chains import RetrievalQA\n",
    "\n",
    "retrieval_qa = RetrievalQA.from_chain_type(\n",
    "    llm=model,\n",
    "    retriever=retriever,\n",
    "    chain_type = 'stuff'\n",
    ")\n",
    "response = retrieval_qa.invoke('난쟁이는 몇 명인가요')"
   ]
  },
  {
   "cell_type": "code",
   "execution_count": 28,
   "id": "0ce2fb59",
   "metadata": {},
   "outputs": [
    {
     "name": "stdout",
     "output_type": "stream",
     "text": [
      "{'query': '난쟁이는 몇 명인가요', 'result': '일곱 명입니다.'}\n"
     ]
    }
   ],
   "source": [
    "print(response)"
   ]
  }
 ],
 "metadata": {
  "kernelspec": {
   "display_name": "llm_env",
   "language": "python",
   "name": "python3"
  },
  "language_info": {
   "codemirror_mode": {
    "name": "ipython",
    "version": 3
   },
   "file_extension": ".py",
   "mimetype": "text/x-python",
   "name": "python",
   "nbconvert_exporter": "python",
   "pygments_lexer": "ipython3",
   "version": "3.12.11"
  }
 },
 "nbformat": 4,
 "nbformat_minor": 5
}
